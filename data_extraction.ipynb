{
 "cells": [
  {
   "cell_type": "markdown",
   "metadata": {
    "colab_type": "text",
    "id": "view-in-github"
   },
   "source": [
    "<a href=\"https://colab.research.google.com/github/SaxMan96/GitHub-Repos-BigData/blob/master/Copy_of_data_extraction.ipynb\" target=\"_parent\"><img src=\"https://colab.research.google.com/assets/colab-badge.svg\" alt=\"Open In Colab\"/></a>"
   ]
  },
  {
   "cell_type": "markdown",
   "metadata": {
    "colab_type": "text",
    "id": "BFbe4nnMkAWb"
   },
   "source": [
    "# Imports and Constraints"
   ]
  },
  {
   "cell_type": "code",
   "execution_count": 1,
   "metadata": {
    "colab": {},
    "colab_type": "code",
    "id": "Jh3Vbdo4kAWd"
   },
   "outputs": [],
   "source": [
    "%matplotlib inline\n",
    "import numpy as np\n",
    "import pandas as pd\n",
    "from tqdm import tqdm_notebook as tqdm\n",
    "from collections import Counter\n",
    "import matplotlib.pylab as plt\n",
    "from matplotlib.ticker import MaxNLocator\n",
    "import datetime as dt\n",
    "import time\n",
    "MAY_14TH = 1557850923.935756"
   ]
  },
  {
   "cell_type": "markdown",
   "metadata": {
    "colab_type": "text",
    "id": "OE_pkTYnkAWg"
   },
   "source": [
    "# Defines"
   ]
  },
  {
   "cell_type": "code",
   "execution_count": 2,
   "metadata": {
    "colab": {},
    "colab_type": "code",
    "id": "GcNHtNmbkAWg"
   },
   "outputs": [],
   "source": [
    "def load_data() -> pd.Series:\n",
    "    csv = pd.read_csv('result.csv', sep=\",\")\n",
    "    return csv\n",
    "\n",
    "def del_nans(nans_perc):\n",
    "    global csv, nans\n",
    "    na = csv.isna().sum()\n",
    "    del_na = na[na >= nans_perc*len(csv)]\n",
    "    csv = csv.drop(del_na.index.values, axis=1)\n",
    "    nans = nans_ctr()\n",
    "    \n",
    "def nans_ctr() -> pd.Series:\n",
    "    return csv.isna().sum()\n",
    "\n",
    "def unique_ctr() -> pd.Series():\n",
    "    unique = pd.Series()\n",
    "    for col in list(csv_org):\n",
    "        if(csv.columns.contains(col) and (col != 'train')):\n",
    "            unique.at[col] = len(csv[col].unique())\n",
    "    return unique\n",
    "\n",
    "def val_types() -> pd.Series():\n",
    "    val_type = pd.Series()\n",
    "    for col in list(csv_org):\n",
    "        if not csv.columns.contains(col) or col == 'train':\n",
    "            continue\n",
    "        if csv[col].dtype == np.float64:\n",
    "            val_type.at[col] = np.float64\n",
    "        elif csv[col].dtype == np.int64:\n",
    "            val_type.at[col] = np.int64\n",
    "        elif csv[col].dtype == np.int32:\n",
    "            val_type.at[col] = np.int32\n",
    "        elif csv[col].dtype == bool:\n",
    "            val_type.at[col] = bool\n",
    "        elif csv[col].dtype == object:\n",
    "            val_type.at[col] = object\n",
    "        else:\n",
    "            print(f\"No common value type found in val_types() - {csv[col].dtype}\")\n",
    "    return val_type\n",
    "\n",
    "def stat(f):\n",
    "    nans = nans_ctr()\n",
    "    unique = unique_ctr()\n",
    "    val_type = val_types()\n",
    "    print(f\"min: {csv[f].min()}\")\n",
    "    print(f\"max: {csv[f].max()}\")\n",
    "    print(f\"nans: {nans[f]}\")\n",
    "    print(f\"unique: {unique[f]}\")\n",
    "    print(f\"val_type: {val_type[f]}\")\n",
    "    print(f\"vals per class: {round((len(csv)-nans[f])/unique[f],2)}\")\n",
    "    \n",
    "def plot(data, sort=False, log=True, small=False, fontsize=7):\n",
    "    if small:\n",
    "        figsize = (8,4)\n",
    "    else:\n",
    "        figsize = (20,10)\n",
    "    letter_counts = Counter(data)\n",
    "    df = pd.DataFrame.from_dict(letter_counts, orient='index')\n",
    "    if sort:\n",
    "        ax = df.sort_values(by=0, ascending=False).plot(kind='bar', logy = log, figsize=figsize, legend=False)\n",
    "    else:\n",
    "        ax = df.plot(kind='bar', logy = log, figsize=figsize, legend=False)\n",
    "    plt.xticks(fontsize=fontsize, rotation=90)\n",
    "    plt.show()\n",
    "    \n",
    "def threshold_factorization(data, *t_list) -> pd.Series():\n",
    "    letter_counts = Counter(data)\n",
    "    df = pd.DataFrame.from_dict(letter_counts, orient='index')\n",
    "    df = df.sort_values(by=0, ascending=False)\n",
    "    t_list = (df.values[0].item()+1,) + t_list + (0,)\n",
    "    out = data.copy()\n",
    "    for i in tqdm(range(1,len(t_list)),desc=\"Progress\",leave=False):\n",
    "        idx = df[(df>t_list[i]).values & (df<=t_list[i-1]).values].index\n",
    "        for j in tqdm(idx,leave=False):\n",
    "            out.loc[out == j] = i\n",
    "    return out\n",
    "\n",
    "def factorize(data) -> pd.Series():\n",
    "    series = data.copy()\n",
    "    labels, _ = pd.factorize(series)\n",
    "    series = labels[:len(series)]\n",
    "    return series\n",
    "\n",
    "def cast(data, lower_t, upper_t) -> pd.Series():\n",
    "    data = data.sort_values()\n",
    "    data[data<lower_t] = lower_t\n",
    "    data[data>upper_t] = upper_t\n",
    "    return data\n",
    "\n",
    "def standarize(df) ->pd.Series():\n",
    "    return df\n",
    "#     return round((df-df.min())/(df.max()-df.min()),4)\n",
    "\n",
    "def one_hot_encoding(f):\n",
    "    global csv\n",
    "    ohe = ce.OneHotEncoder(cols = [f], handle_unknown='ignore', use_cat_names=True)\n",
    "    csv[f] = csv[f].fillna(-1)\n",
    "    new_features = ohe.fit_transform(csv[f].to_frame())\n",
    "    csv = csv.drop([f],axis=1)\n",
    "    csv = pd.concat([csv,new_features],axis=1)\n",
    "    \n",
    "def binary_encoding(f):\n",
    "    global csv\n",
    "    ohe = ce.BinaryEncoder(cols = [f], handle_unknown='ignore',drop_invariant=True)\n",
    "    csv[f] = csv[f].fillna(-1)\n",
    "    new_features = ohe.fit_transform(csv[f].to_frame())\n",
    "    csv = csv.drop([f],axis=1)\n",
    "    csv = pd.concat([csv,new_features],axis=1)  \n",
    "def delete(f):\n",
    "    global csv\n",
    "    csv[f] = csv_org[f]\n",
    "    csv = csv.drop(f, axis=1)"
   ]
  },
  {
   "cell_type": "code",
   "execution_count": 3,
   "metadata": {
    "colab": {},
    "colab_type": "code",
    "id": "HGGtbasso_CH"
   },
   "outputs": [],
   "source": [
    "def drop_pushedAt_nans(df):\n",
    "    \"\"\"Drops records where pushedAt is NaN\"\"\"\n",
    "    isna = pd.isna(df['pushedAt'])\n",
    "    isna = isna[isna].index\n",
    "    return df.drop(isna, axis=0)\n",
    "  \n",
    "def fix_negative_time(df):\n",
    "    \"\"\"Fix rows where pushedAt is earlier than createdAt (mostly case for forks)\"\"\"\n",
    "    \n",
    "    neg_time = (pd.to_datetime(df['pushedAt']) - pd.to_datetime(df['createdAt'])).dt.days < 0\n",
    "    neg_time = neg_time[neg_time].index\n",
    "    df.loc[neg_time, 'pushedAt'] = df.loc[neg_time, 'createdAt']\n",
    "    return df\n",
    "\n",
    "def create_repoage_column(df):\n",
    "    \"\"\"Creates RepoAge column (in days)\"\"\"\n",
    "    \n",
    "    df['RepoAge'] = MAY_14TH - pd.to_datetime(df['createdAt']).apply(lambda x: x.value / 1000000000)\n",
    "    df['RepoAge'] = (df['RepoAge'] / 60 / 60 / 24).astype(int)\n",
    "    return df\n",
    "\n",
    "def create_repolife_column(df):\n",
    "    \"\"\"Creates RepoLife column (in days)\"\"\"\n",
    "    \n",
    "    df['RepoLife'] = pd.to_datetime(df['pushedAt']).apply(lambda x: x.value / 1000000000) - pd.to_datetime(df['createdAt']).apply(lambda x: x.value / 1000000000)\n",
    "    df['RepoLife'] = (df['RepoLife'] / 60 / 60 / 24).astype(int)\n",
    "    return df\n",
    "\n",
    "def create_label_column(df):\n",
    "    \"\"\"Creates label column (whether or not there was a push in last 3 months)\"\"\"\n",
    "    df['label'] = (MAY_14TH - pd.to_datetime(df['pushedAt']).apply(lambda x: x.value / 1000000000)) / 60 / 60 / 24\n",
    "    df['label'] = (df['label'] < 90).astype(int)\n",
    "    return df"
   ]
  },
  {
   "cell_type": "markdown",
   "metadata": {
    "colab_type": "text",
    "id": "bo6sY6IdkAWi"
   },
   "source": [
    "# Data Loading"
   ]
  },
  {
   "cell_type": "code",
   "execution_count": 4,
   "metadata": {
    "colab": {
     "base_uri": "https://localhost:8080/",
     "height": 68
    },
    "colab_type": "code",
    "id": "nZGLPQHJkAWi",
    "outputId": "c007e084-c9ec-4ae7-a509-be1486274e0b",
    "scrolled": true
   },
   "outputs": [
    {
     "name": "stderr",
     "output_type": "stream",
     "text": [
      "C:\\Users\\Mateusz\\Miniconda3\\lib\\site-packages\\IPython\\core\\interactiveshell.py:3214: DtypeWarning: Columns (190,191) have mixed types. Specify dtype option on import or set low_memory=False.\n",
      "  if (yield from self.run_code(code, result)):\n"
     ]
    },
    {
     "name": "stdout",
     "output_type": "stream",
     "text": [
      "Columns left after Nans removed:  221\n"
     ]
    }
   ],
   "source": [
    "csv = load_data()\n",
    "csv_org = csv.copy()\n",
    "nans = nans_ctr()\n",
    "unique = unique_ctr()\n",
    "val_type = val_types()\n",
    "print(\"Columns left after Nans removed: \", len(csv.columns))"
   ]
  },
  {
   "cell_type": "markdown",
   "metadata": {
    "colab_type": "text",
    "id": "6FrYKR9lkAWq"
   },
   "source": [
    "# Data Preprocessing"
   ]
  },
  {
   "cell_type": "code",
   "execution_count": 5,
   "metadata": {
    "colab": {},
    "colab_type": "code",
    "id": "0vd7UuR7ound"
   },
   "outputs": [],
   "source": [
    "csv = drop_pushedAt_nans(csv)\n",
    "csv = fix_negative_time(csv)\n",
    "csv = create_repoage_column(csv)\n",
    "csv = create_repolife_column(csv)\n",
    "csv = create_label_column(csv)"
   ]
  },
  {
   "cell_type": "code",
   "execution_count": 6,
   "metadata": {
    "colab": {},
    "colab_type": "code",
    "id": "8kQPtCn0e_cO"
   },
   "outputs": [],
   "source": [
    "languages = list((\"NewLisp\", \"Max\", \"Liquid\", \"SQLPL\", \"Perl\", \"M4\", \"OpenEdge ABL\", \"XS\", \"Xtend\", \"Mirah\", \"SMT\", \"Prolog\", \"Ioke\", \"Crystal\", \"Haskell\", \"PureBasic\", \"Ragel in Ruby Host\", \"Rich Text Format\", \"Dockerfile\", \"Processing\", \"Erlang\", \"DIGITAL Command Language\", \"Roff\", \"Haxe\", \"Objective-J\", \"PLSQL\", \"ApacheConf\", \"Gnuplot\", \"COBOL\", \"Fortran\", \"GAP\", \"UnrealScript\", \"IDL\", \"Common Lisp\", \"PHP\", \"Python\", \"HTML\", \"sed\", \"Pascal\", \"C\", \"VCL\", \"Rebol\", \"Clojure\", \"PLpgSQL\", \"Jupyter Notebook\", \"Protocol Buffer\", \"Gherkin\", \"JSONiq\", \"Coq\", \"M\", \"HLSL\", \"Mathematica\", \"Puppet\", \"JavaScript\", \"Scheme\", \"MoonScript\", \"Scala\", \"Slash\", \"Vue\", \"Elixir\", \"SaltStack\", \"Yacc\", \"Perl 6\", \"Chapel\", \"Nim\", \"DM\", \"Batchfile\", \"AppleScript\", \"HCL\", \"Nu\", \"Ada\", \"C#\", \"Scilab\", \"TypeScript\", \"AspectJ\", \"SuperCollider\", \"F#\", \"CMake\", \"Handlebars\", \"LiveScript\", \"Clean\", \"Cool\", \"Mercury\", \"AGS Script\", \"Thrift\", \"POV-Ray SDL\", \"Inno Setup\", \"PigLatin\", \"Nginx\", \"Io\", \"Groovy\", \"ANTLR\", \"SystemVerilog\", \"Racket\", \"XSLT\", \"Boo\", \"CSS\", \"NSIS\", \"Rouge\", \"Mako\", \"ASP\", \"EmberScript\", \"R\", \"API Blueprint\", \"Rust\", \"XProc\", \"LLVM\", \"Shell\", \"PowerShell\", \"RobotFramework\", \"Pure Data\", \"Nemerle\", \"QML\", \"GCC Machine Description\", \"Forth\", \"Objective-C++\", \"ShaderLab\", \"OpenSCAD\", \"ooc\", \"Limbo\", \"Tcl\", \"Visual Basic\", \"Alloy\", \"Logos\", \"Gosu\", \"GLSL\", \"Verilog\", \"Arc\", \"Dart\", \"Cuda\", \"Pike\", \"Smarty\", \"Terra\", \"Stata\", \"Java\", \"ActionScript\", \"Hy\", \"Groff\", \"CoffeeScript\", \"Arduino\", \"xBase\", \"Ragel\", \"Graphviz (DOT)\", \"Objective-C\", \"Lex\", \"NetLogo\", \"Game Maker Language\", \"E\", \"Swift\", \"QMake\", \"Web Ontology Language\", \"Vim script\", \"Jsonnet\", \"RPC\", \"Go\", \"RenderScript\", \"Awk\", \"Metal\", \"Turing\", \"ColdFusion\", \"Eagle\", \"Smalltalk\", \"OCaml\", \"DTrace\", \"Lua\", \"Julia\", \"XQuery\", \"Vala\", \"Makefile\", \"Bison\", \"Brainfuck\", \"Assembly\", \"FreeMarker\", \"D\", \"TeX\", \"PostScript\", \"MATLAB\", \"GDB\", \"Kotlin\", \"SourcePawn\", \"Ruby\", \"AutoHotkey\", \"Emacs Lisp\", \"AutoIt\", \"HyPhy\", \"C++\", \"J\", \"VHDL\", \"Standard ML\"))"
   ]
  },
  {
   "cell_type": "code",
   "execution_count": 7,
   "metadata": {
    "colab": {
     "base_uri": "https://localhost:8080/",
     "height": 221
    },
    "colab_type": "code",
    "id": "DEeMJU1ifAcE",
    "outputId": "2f6bc541-4f45-4835-933c-0e2e46b8ba24"
   },
   "outputs": [
    {
     "name": "stdout",
     "output_type": "stream",
     "text": [
      "Python \t 37.0 %\n",
      "HTML \t 16.0 %\n",
      "C \t 13.0 %\n",
      "JavaScript \t 25.0 %\n",
      "CMake \t 6.0 %\n",
      "CSS \t 15.0 %\n",
      "Shell \t 27.0 %\n",
      "Java \t 8.0 %\n",
      "Makefile \t 12.0 %\n",
      "Ruby \t 8.0 %\n",
      "C++ \t 15.0 %\n",
      "['Python', 'HTML', 'C', 'JavaScript', 'CMake', 'CSS', 'Shell', 'Java', 'Makefile', 'Ruby', 'C++']\n"
     ]
    }
   ],
   "source": [
    "popularLanguages=[]\n",
    "for l in languages:\n",
    "    if round(100*(1-nans[l]/len(csv.index)))>5.0:\n",
    "        print(l, \"\\t\", round(100*(1-nans[l]/len(csv.index))),\"%\")\n",
    "        popularLanguages.append(l)\n",
    "print(popularLanguages)"
   ]
  },
  {
   "cell_type": "code",
   "execution_count": 8,
   "metadata": {
    "colab": {
     "base_uri": "https://localhost:8080/",
     "height": 874
    },
    "colab_type": "code",
    "id": "Qy3_qrVqfAof",
    "outputId": "92701de4-111d-4afc-dd6a-ae5d3048ae05"
   },
   "outputs": [
    {
     "data": {
      "image/png": "[encoded data removed]",
      "text/plain": [
       "<Figure size 576x288 with 1 Axes>"
      ]
     },
     "metadata": {
      "needs_background": "light"
     },
     "output_type": "display_data"
    },
    {
     "data": {
      "image/png": "[encoded data removed]",
      "text/plain": [
       "<Figure size 576x288 with 1 Axes>"
      ]
     },
     "metadata": {
      "needs_background": "light"
     },
     "output_type": "display_data"
    },
    {
     "data": {
      "image/png": "[encoded data removed]",
      "text/plain": [
       "<Figure size 576x288 with 1 Axes>"
      ]
     },
     "metadata": {
      "needs_background": "light"
     },
     "output_type": "display_data"
    }
   ],
   "source": [
    "f1 = \"languageCounter\"\n",
    "f2 = \"popularLanguageCounter\"\n",
    "f3 = \"hasLanguage\"\n",
    "\n",
    "csv[languages] = csv_org[languages]\n",
    "csv[f1] = csv[languages].count(axis=1)\n",
    "csv[f2] = csv[popularLanguages].count(axis=1)\n",
    "for l in languages:\n",
    "    if l in popularLanguages:\n",
    "        continue\n",
    "    delete(l)\n",
    "\n",
    "csv[popularLanguages] = csv[popularLanguages].fillna(0)\n",
    "\n",
    "csv[f1] = cast(csv[f1],-100,csv[f1].quantile(0.99))\n",
    "csv[f1] = standarize(csv[f1])\n",
    "plot(csv[f1].sort_values(),sort=False,log=False,fontsize=17,small=True)\n",
    "\n",
    "\n",
    "csv[f2] = cast(csv[f2],-100,csv[f2].quantile(0.99))\n",
    "csv[f2] = standarize(csv[f2])\n",
    "plot(csv[f2].sort_values(),sort=False,log=False,fontsize=17,small=True)\n",
    "\n",
    "csv[f3]= csv[f1]>0.0\n",
    "csv[f3] = factorize(csv[f3])\n",
    "plot(csv[f3].sort_values(),sort=False,log=False,fontsize=17,small=True)"
   ]
  },
  {
   "cell_type": "code",
   "execution_count": 9,
   "metadata": {
    "colab": {},
    "colab_type": "code",
    "id": "U7SsibjtlPTZ"
   },
   "outputs": [],
   "source": [
    "to_delete = (\"_created\", \"_processed\", \"Unnamed: 0\", \"name\", \"isDisabled\", \"isLocked\", \"isMirror\", \"isPrivate\", \"url\", \"_uri\", \"assign_company\", \"stargazer_bio\", \"stargazer_company\", \"release_isDraft\", \"release_isPrerelease\", \"_error\",\"_error_trace\", 'createdAt', 'pushedAt')\n",
    "for f in to_delete: \n",
    "    delete(f)"
   ]
  },
  {
   "cell_type": "code",
   "execution_count": 25,
   "metadata": {
    "colab": {
     "base_uri": "https://localhost:8080/",
     "height": 286
    },
    "colab_type": "code",
    "id": "K3MLQxlaysZz",
    "outputId": "d9b15ef0-7d43-42c7-a099-12285b6dde2e"
   },
   "outputs": [
    {
     "data": {
      "text/plain": [
       "<matplotlib.axes._subplots.AxesSubplot at 0x251ee3fdba8>"
      ]
     },
     "execution_count": 25,
     "metadata": {},
     "output_type": "execute_result"
    },
    {
     "data": {
      "image/png": "[encoded data removed]",
      "text/plain": [
       "<Figure size 432x288 with 1 Axes>"
      ]
     },
     "metadata": {
      "needs_background": "light"
     },
     "output_type": "display_data"
    }
   ],
   "source": [
    "f = \"diskUsage\"\n",
    "csv[f] = csv_org[f]\n",
    "csv[f] = cast(csv[f],-100,csv[f].quantile(0.95))\n",
    "csv[f] = csv[f].apply(lambda x: np.power(x,1/5))\n",
    "csv[f] = standarize(csv[f])\n",
    "csv[f].plot.kde()"
   ]
  },
  {
   "cell_type": "code",
   "execution_count": 11,
   "metadata": {
    "colab": {
     "base_uri": "https://localhost:8080/",
     "height": 792
    },
    "colab_type": "code",
    "id": "cRSJ_3NWuLFN",
    "outputId": "f9cb033a-c816-4295-a706-b2f81c5cd43e"
   },
   "outputs": [
    {
     "data": {
      "image/png": "[encoded data removed]",
      "text/plain": [
       "<Figure size 576x288 with 1 Axes>"
      ]
     },
     "metadata": {
      "needs_background": "light"
     },
     "output_type": "display_data"
    },
    {
     "data": {
      "image/png": "[encoded data removed]",
      "text/plain": [
       "<Figure size 576x288 with 1 Axes>"
      ]
     },
     "metadata": {
      "needs_background": "light"
     },
     "output_type": "display_data"
    },
    {
     "data": {
      "image/png": "[encoded data removed]",
      "text/plain": [
       "<Figure size 576x288 with 1 Axes>"
      ]
     },
     "metadata": {
      "needs_background": "light"
     },
     "output_type": "display_data"
    }
   ],
   "source": [
    "f = \"description\"\n",
    "f2 = \"description len\"\n",
    "f3 = \"has description\"\n",
    "csv[f] = csv_org[f]\n",
    "csv[f2]= csv[f].astype(str).str.len()\n",
    "csv[f3]= csv[f2]>3\n",
    "csv[f3] = factorize(csv[f3])\n",
    "plot(csv[f2].sort_values(),sort=False,log=False,fontsize=7,small=True)\n",
    "csv[f2] = cast(csv[f2],-100,2*csv[f2].median())\n",
    "csv[f2] = standarize(csv[f2])\n",
    "plot(csv[f2].sort_values(),sort=False,log=False,fontsize=7,small=True)\n",
    "plot(csv[f3], log=False,fontsize=17,small=True)\n",
    "delete(f)"
   ]
  },
  {
   "cell_type": "code",
   "execution_count": 12,
   "metadata": {
    "colab": {
     "base_uri": "https://localhost:8080/",
     "height": 51
    },
    "colab_type": "code",
    "id": "OtGol0zk1EcO",
    "outputId": "9ca2829c-dd77-4313-a04b-ac98e81eff31"
   },
   "outputs": [
    {
     "name": "stdout",
     "output_type": "stream",
     "text": [
      "8\n",
      "79\n"
     ]
    }
   ],
   "source": [
    "f1 = \"squashMergeAllowed\"\n",
    "f2 = \"isArchived\"\n",
    "csv[f1] = csv_org[f1]\n",
    "csv[f2] = csv_org[f2]\n",
    "print(len(csv[csv[f1]==False]))\n",
    "print(len(csv[csv[f2]==True]))\n",
    "delete(f1)\n",
    "delete(f2)"
   ]
  },
  {
   "cell_type": "code",
   "execution_count": 13,
   "metadata": {
    "colab": {
     "base_uri": "https://localhost:8080/",
     "height": 632
    },
    "colab_type": "code",
    "id": "98y8sMWQ69Oj",
    "outputId": "e6c606c0-c120-45a0-e0a5-4195f7de741a"
   },
   "outputs": [
    {
     "name": "stdout",
     "output_type": "stream",
     "text": [
      "min: 0.0\n",
      "max: 166.0\n",
      "nans: 0\n",
      "unique: 54\n",
      "val_type: <class 'numpy.float64'>\n",
      "vals per class: 79.31\n"
     ]
    },
    {
     "data": {
      "image/png": "[encoded data removed]",
      "text/plain": [
       "<Figure size 576x288 with 1 Axes>"
      ]
     },
     "metadata": {
      "needs_background": "light"
     },
     "output_type": "display_data"
    },
    {
     "data": {
      "image/png": "[encoded data removed]",
      "text/plain": [
       "<Figure size 576x288 with 1 Axes>"
      ]
     },
     "metadata": {
      "needs_background": "light"
     },
     "output_type": "display_data"
    }
   ],
   "source": [
    "f = \"unclosed_issues\"\n",
    "f2 = \"has issue\"\n",
    "stat(f)\n",
    "csv[f] = csv_org[f]\n",
    "\n",
    "csv[f2]= csv[f]>0\n",
    "csv[f2] = factorize(csv[f2])\n",
    "plot(csv[f2], log=False,fontsize=7,small=True)\n",
    "\n",
    "csv[f] = cast(csv[f],-100,csv[f].quantile(0.96))\n",
    "csv[f] = standarize(csv[f])\n",
    "\n",
    "plot(csv[f].sort_values(),sort=False,log=False,fontsize=7, small=True)"
   ]
  },
  {
   "cell_type": "code",
   "execution_count": 14,
   "metadata": {
    "colab": {
     "base_uri": "https://localhost:8080/",
     "height": 869
    },
    "colab_type": "code",
    "id": "aWqjQj9J90ax",
    "outputId": "ebd44752-6094-4ccc-e5ca-c9e359f55770"
   },
   "outputs": [
    {
     "name": "stdout",
     "output_type": "stream",
     "text": [
      "min: 0.0\n",
      "max: 299.0\n",
      "nans: 0\n",
      "unique: 190\n",
      "val_type: <class 'numpy.float64'>\n",
      "vals per class: 22.54\n"
     ]
    },
    {
     "data": {
      "image/png": "[encoded data removed]",
      "text/plain": [
       "<Figure size 576x288 with 1 Axes>"
      ]
     },
     "metadata": {
      "needs_background": "light"
     },
     "output_type": "display_data"
    },
    {
     "data": {
      "image/png": "[encoded data removed]",
      "text/plain": [
       "<Figure size 576x288 with 1 Axes>"
      ]
     },
     "metadata": {
      "needs_background": "light"
     },
     "output_type": "display_data"
    },
    {
     "data": {
      "image/png": "[encoded data removed]",
      "text/plain": [
       "<Figure size 576x288 with 1 Axes>"
      ]
     },
     "metadata": {
      "needs_background": "light"
     },
     "output_type": "display_data"
    }
   ],
   "source": [
    "f = \"stargazer_\"\n",
    "f2 = \"stargazer100\"\n",
    "f3 = \"stargazer non zero\"\n",
    "\n",
    "stat(f)\n",
    "csv[f] = csv_org[f]\n",
    "\n",
    "csv[f2]= csv[f] == 100.0\n",
    "csv[f2] = factorize(csv[f2])\n",
    "plot(csv[f2], log=False,fontsize=7,small=True)\n",
    "\n",
    "csv[f3]= csv[f] > 0.0\n",
    "csv[f3] = factorize(csv[f3])\n",
    "plot(csv[f3], log=False,fontsize=7,small=True)\n",
    "\n",
    "csv[f] = cast(csv[f],-100,csv[f].quantile(0.96))\n",
    "csv[f] = standarize(csv[f])\n",
    "\n",
    "plot(csv[f].sort_values(),sort=False,log=False,fontsize=7, small=True)"
   ]
  },
  {
   "cell_type": "code",
   "execution_count": 15,
   "metadata": {
    "colab": {
     "base_uri": "https://localhost:8080/",
     "height": 632
    },
    "colab_type": "code",
    "id": "4sobzC9VEvIZ",
    "outputId": "60d1abf9-fd59-487f-c5bc-479feaa2dbc8"
   },
   "outputs": [
    {
     "name": "stdout",
     "output_type": "stream",
     "text": [
      "min: 0.0\n",
      "max: 32.0\n",
      "nans: 0\n",
      "unique: 19\n",
      "val_type: <class 'numpy.float64'>\n",
      "vals per class: 225.42\n"
     ]
    },
    {
     "data": {
      "image/png": "[encoded data removed]",
      "text/plain": [
       "<Figure size 576x288 with 1 Axes>"
      ]
     },
     "metadata": {
      "needs_background": "light"
     },
     "output_type": "display_data"
    },
    {
     "data": {
      "image/png": "[encoded data removed]",
      "text/plain": [
       "<Figure size 576x288 with 1 Axes>"
      ]
     },
     "metadata": {
      "needs_background": "light"
     },
     "output_type": "display_data"
    }
   ],
   "source": [
    "f = \"milestone\"\n",
    "f2 = \"has milestone\"\n",
    "stat(f)\n",
    "csv[f] = csv_org[f]\n",
    "\n",
    "csv[f2]= csv[f]>0.0\n",
    "csv[f2] = factorize(csv[f2])\n",
    "plot(csv[f2], log=False,fontsize=7,small=True)\n",
    "\n",
    "# csv[f] = cast(csv[f],-100,csv[f].quantile(0.99))\n",
    "csv[f] = standarize(csv[f])\n",
    "\n",
    "plot(csv[f].sort_values(),sort=False,log=False,fontsize=7, small=True)"
   ]
  },
  {
   "cell_type": "code",
   "execution_count": 16,
   "metadata": {
    "colab": {
     "base_uri": "https://localhost:8080/",
     "height": 632
    },
    "colab_type": "code",
    "id": "AP03FE_IIA4i",
    "outputId": "61ba26f6-8aa8-4762-9a0e-1fa08f7b4942"
   },
   "outputs": [
    {
     "name": "stdout",
     "output_type": "stream",
     "text": [
      "min: 0.0\n",
      "max: 31.0\n",
      "nans: 0\n",
      "unique: 18\n",
      "val_type: <class 'numpy.float64'>\n",
      "vals per class: 237.94\n"
     ]
    },
    {
     "data": {
      "image/png": "[encoded data removed]",
      "text/plain": [
       "<Figure size 576x288 with 1 Axes>"
      ]
     },
     "metadata": {
      "needs_background": "light"
     },
     "output_type": "display_data"
    },
    {
     "data": {
      "image/png": "[encoded data removed]",
      "text/plain": [
       "<Figure size 576x288 with 1 Axes>"
      ]
     },
     "metadata": {
      "needs_background": "light"
     },
     "output_type": "display_data"
    }
   ],
   "source": [
    "f = \"milestone_closed\"\n",
    "f2 = \"has milestone\"\n",
    "stat(f)\n",
    "csv[f] = csv_org[f]\n",
    "\n",
    "csv[f2]= csv[f]>0.0\n",
    "csv[f2] = factorize(csv[f2])\n",
    "plot(csv[f2], log=False,fontsize=7,small=True)\n",
    "\n",
    "# csv[f] = cast(csv[f],-100,csv[f].quantile(0.99))\n",
    "csv[f] = standarize(csv[f])\n",
    "\n",
    "plot(csv[f].sort_values(),sort=False,log=False,fontsize=7, small=True)"
   ]
  },
  {
   "cell_type": "code",
   "execution_count": 17,
   "metadata": {
    "colab": {
     "base_uri": "https://localhost:8080/",
     "height": 631
    },
    "colab_type": "code",
    "id": "AvJGQft9Ih-l",
    "outputId": "4257db93-1733-4208-9260-2fe070d227d6"
   },
   "outputs": [
    {
     "name": "stdout",
     "output_type": "stream",
     "text": [
      "min: 0.0\n",
      "max: 100.0\n",
      "nans: 0\n",
      "unique: 40\n",
      "val_type: <class 'numpy.float64'>\n",
      "vals per class: 107.08\n"
     ]
    },
    {
     "data": {
      "image/png": "[encoded data removed]",
      "text/plain": [
       "<Figure size 576x288 with 1 Axes>"
      ]
     },
     "metadata": {
      "needs_background": "light"
     },
     "output_type": "display_data"
    },
    {
     "data": {
      "image/png": "[encoded data removed]",
      "text/plain": [
       "<Figure size 576x288 with 1 Axes>"
      ]
     },
     "metadata": {
      "needs_background": "light"
     },
     "output_type": "display_data"
    }
   ],
   "source": [
    "f = \"release_\"\n",
    "f2 = \"has milestone\"\n",
    "stat(f)\n",
    "csv[f] = csv_org[f]\n",
    "\n",
    "csv[f2]= csv[f]>0.0\n",
    "csv[f2] = factorize(csv[f2])\n",
    "plot(csv[f2], log=False,fontsize=7,small=True)\n",
    "\n",
    "csv[f] = cast(csv[f],-100,csv[f].quantile(0.99))\n",
    "csv[f] = standarize(csv[f])\n",
    "\n",
    "plot(csv[f].sort_values(),sort=False,log=False,fontsize=7, small=True)"
   ]
  },
  {
   "cell_type": "code",
   "execution_count": 18,
   "metadata": {
    "colab": {
     "base_uri": "https://localhost:8080/",
     "height": 297
    },
    "colab_type": "code",
    "id": "DN1e5WM8qM_x",
    "outputId": "68e280c7-c2b9-4190-b16e-d3ff2b2902f7",
    "scrolled": true
   },
   "outputs": [
    {
     "name": "stdout",
     "output_type": "stream",
     "text": [
      "1776\n",
      "2507\n"
     ]
    },
    {
     "data": {
      "image/png": "[encoded data removed]",
      "text/plain": [
       "<Figure size 576x288 with 1 Axes>"
      ]
     },
     "metadata": {
      "needs_background": "light"
     },
     "output_type": "display_data"
    }
   ],
   "source": [
    "f = \"isFork\"\n",
    "print(len(csv[csv[f]==True]))\n",
    "print(len(csv[csv[f]==False]))\n",
    "csv[f] = factorize(csv[f])\n",
    "plot(csv[f].sort_values(),sort=False,log=False,fontsize=7,small=True)"
   ]
  },
  {
   "cell_type": "markdown",
   "metadata": {
    "colab_type": "text",
    "id": "Ku5_ff_PkAa2"
   },
   "source": [
    "# Save Data"
   ]
  },
  {
   "cell_type": "code",
   "execution_count": 19,
   "metadata": {
    "colab": {
     "base_uri": "https://localhost:8080/",
     "height": 34
    },
    "colab_type": "code",
    "id": "4dI09JaTp5TH",
    "outputId": "ff55bfe9-c7a0-43e0-9573-84f2bb32a5f6"
   },
   "outputs": [
    {
     "data": {
      "text/plain": [
       "33"
      ]
     },
     "execution_count": 19,
     "metadata": {},
     "output_type": "execute_result"
    }
   ],
   "source": [
    "len(csv.columns)"
   ]
  },
  {
   "cell_type": "code",
   "execution_count": 21,
   "metadata": {
    "colab": {},
    "colab_type": "code",
    "id": "Bo5iPrCskAa2"
   },
   "outputs": [],
   "source": [
    "csv.to_csv(\"data.csv\", sep=',')"
   ]
  },
  {
   "cell_type": "code",
   "execution_count": null,
   "metadata": {},
   "outputs": [],
   "source": []
  }
 ],
 "metadata": {
  "accelerator": "GPU",
  "colab": {
   "collapsed_sections": [],
   "include_colab_link": true,
   "name": "Copy of data_extraction.ipynb",
   "provenance": [],
   "version": "0.3.2"
  },
  "kernelspec": {
   "display_name": "Python 3",
   "language": "python",
   "name": "python3"
  },
  "language_info": {
   "codemirror_mode": {
    "name": "ipython",
    "version": 3
   },
   "file_extension": ".py",
   "mimetype": "text/x-python",
   "name": "python",
   "nbconvert_exporter": "python",
   "pygments_lexer": "ipython3",
   "version": "3.7.3"
  },
  "toc": {
   "base_numbering": 1,
   "nav_menu": {},
   "number_sections": true,
   "sideBar": true,
   "skip_h1_title": false,
   "title_cell": "Table of Contents",
   "title_sidebar": "Contents",
   "toc_cell": false,
   "toc_position": {},
   "toc_section_display": true,
   "toc_window_display": false
  }
 },
 "nbformat": 4,
 "nbformat_minor": 1
}
