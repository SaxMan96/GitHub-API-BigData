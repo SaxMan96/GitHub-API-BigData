{
  "nbformat": 4,
  "nbformat_minor": 0,
  "metadata": {
    "colab": {
      "name": "Copy of data_extraction.ipynb",
      "version": "0.3.2",
      "provenance": [],
      "collapsed_sections": [
        "Ku5_ff_PkAa2"
      ],
      "include_colab_link": true
    },
    "language_info": {
      "codemirror_mode": {
        "name": "ipython",
        "version": 3
      },
      "file_extension": ".py",
      "mimetype": "text/x-python",
      "name": "python",
      "nbconvert_exporter": "python",
      "pygments_lexer": "ipython3",
      "version": "3.7.1"
    },
    "kernelspec": {
      "name": "python3",
      "display_name": "Python 3"
    },
    "accelerator": "GPU"
  },
  "cells": [
    {
      "cell_type": "markdown",
      "metadata": {
        "id": "view-in-github",
        "colab_type": "text"
      },
      "source": [
        "<a href=\"https://colab.research.google.com/github/SaxMan96/GitHub-Repos-BigData/blob/master/Copy_of_data_extraction.ipynb\" target=\"_parent\"><img src=\"https://colab.research.google.com/assets/colab-badge.svg\" alt=\"Open In Colab\"/></a>"
      ]
    },
    {
      "cell_type": "markdown",
      "metadata": {
        "id": "BFbe4nnMkAWb",
        "colab_type": "text"
      },
      "source": [
        "# Imports and Constraints"
      ]
    },
    {
      "cell_type": "code",
      "metadata": {
        "id": "lkCfOZTbknwx",
        "colab_type": "code",
        "outputId": "29c692f4-f376-44b3-e3fb-18d08e15a715",
        "colab": {
          "base_uri": "https://localhost:8080/",
          "height": 187
        }
      },
      "source": [
        "!pip install category_encoders"
      ],
      "execution_count": 12,
      "outputs": [
        {
          "output_type": "stream",
          "text": [
            "Requirement already satisfied: category_encoders in /usr/local/lib/python3.6/dist-packages (2.0.0)\n",
            "Requirement already satisfied: patsy>=0.4.1 in /usr/local/lib/python3.6/dist-packages (from category_encoders) (0.5.1)\n",
            "Requirement already satisfied: scikit-learn>=0.20.0 in /usr/local/lib/python3.6/dist-packages (from category_encoders) (0.20.3)\n",
            "Requirement already satisfied: statsmodels>=0.6.1 in /usr/local/lib/python3.6/dist-packages (from category_encoders) (0.9.0)\n",
            "Requirement already satisfied: pandas>=0.21.1 in /usr/local/lib/python3.6/dist-packages (from category_encoders) (0.24.2)\n",
            "Requirement already satisfied: numpy>=1.11.3 in /usr/local/lib/python3.6/dist-packages (from category_encoders) (1.16.3)\n",
            "Requirement already satisfied: scipy>=0.19.0 in /usr/local/lib/python3.6/dist-packages (from category_encoders) (1.2.1)\n",
            "Requirement already satisfied: six in /usr/local/lib/python3.6/dist-packages (from patsy>=0.4.1->category_encoders) (1.12.0)\n",
            "Requirement already satisfied: python-dateutil>=2.5.0 in /usr/local/lib/python3.6/dist-packages (from pandas>=0.21.1->category_encoders) (2.5.3)\n",
            "Requirement already satisfied: pytz>=2011k in /usr/local/lib/python3.6/dist-packages (from pandas>=0.21.1->category_encoders) (2018.9)\n"
          ],
          "name": "stdout"
        }
      ]
    },
    {
      "cell_type": "code",
      "metadata": {
        "id": "Jh3Vbdo4kAWd",
        "colab_type": "code",
        "colab": {}
      },
      "source": [
        "import numpy as np\n",
        "import pandas as pd\n",
        "from tqdm import tqdm_notebook as tqdm\n",
        "from collections import Counter\n",
        "import category_encoders as ce\n",
        "import matplotlib.pylab as plt\n",
        "from matplotlib.ticker import MaxNLocator"
      ],
      "execution_count": 0,
      "outputs": []
    },
    {
      "cell_type": "markdown",
      "metadata": {
        "id": "OE_pkTYnkAWg",
        "colab_type": "text"
      },
      "source": [
        "# Defines"
      ]
    },
    {
      "cell_type": "code",
      "metadata": {
        "id": "GcNHtNmbkAWg",
        "colab_type": "code",
        "colab": {}
      },
      "source": [
        "def load_data() -> pd.Series:\n",
        "    csv = pd.read_csv('result.csv', sep=\",\")\n",
        "    return csv\n",
        "\n",
        "def del_nans(nans_perc):\n",
        "    global csv, nans\n",
        "    na = csv.isna().sum()\n",
        "    del_na = na[na >= nans_perc*len(csv)]\n",
        "    csv = csv.drop(del_na.index.values, axis=1)\n",
        "    nans = nans_ctr()\n",
        "    \n",
        "def nans_ctr() -> pd.Series:\n",
        "    return csv.isna().sum()\n",
        "\n",
        "def unique_ctr() -> pd.Series():\n",
        "    unique = pd.Series()\n",
        "    for col in list(csv_org):\n",
        "        if(csv.columns.contains(col) and (col != 'train')):\n",
        "            unique.at[col] = len(csv[col].unique())\n",
        "    return unique\n",
        "\n",
        "def val_types() -> pd.Series():\n",
        "    val_type = pd.Series()\n",
        "    for col in list(csv_org):\n",
        "        if not csv.columns.contains(col) or col == 'train':\n",
        "            continue\n",
        "        if csv[col].dtype == np.float64:\n",
        "            val_type.at[col] = np.float64\n",
        "        elif csv[col].dtype == np.int64:\n",
        "            val_type.at[col] = np.int64\n",
        "        elif csv[col].dtype == np.int32:\n",
        "            val_type.at[col] = np.int32\n",
        "        elif csv[col].dtype == bool:\n",
        "            val_type.at[col] = bool\n",
        "        elif csv[col].dtype == object:\n",
        "            val_type.at[col] = object\n",
        "        else:\n",
        "            print(f\"No common value type found in val_types() - {csv[col].dtype}\")\n",
        "    return val_type\n",
        "\n",
        "def stat(f):\n",
        "    nans = nans_ctr()\n",
        "    unique = unique_ctr()\n",
        "    val_type = val_types()\n",
        "    print(f\"min: {csv[f].min()}\")\n",
        "    print(f\"max: {csv[f].max()}\")\n",
        "    print(f\"nans: {nans[f]}\")\n",
        "    print(f\"unique: {unique[f]}\")\n",
        "    print(f\"val_type: {val_type[f]}\")\n",
        "    print(f\"vals per class: {round((len(csv)-nans[f])/unique[f],2)}\")\n",
        "    \n",
        "def plot(data, sort=False, log=True, small=False, fontsize=7):\n",
        "    if small:\n",
        "        figsize = (8,4)\n",
        "    else:\n",
        "        figsize = (20,10)\n",
        "    letter_counts = Counter(data)\n",
        "    df = pd.DataFrame.from_dict(letter_counts, orient='index')\n",
        "    if sort:\n",
        "        ax = df.sort_values(by=0, ascending=False).plot(kind='bar', logy = log, figsize=figsize, legend=False)\n",
        "    else:\n",
        "        ax = df.plot(kind='bar', logy = log, figsize=figsize, legend=False)\n",
        "    plt.xticks(fontsize=fontsize, rotation=90)\n",
        "    plt.show()\n",
        "    \n",
        "def threshold_factorization(data, *t_list) -> pd.Series():\n",
        "    letter_counts = Counter(data)\n",
        "    df = pd.DataFrame.from_dict(letter_counts, orient='index')\n",
        "    df = df.sort_values(by=0, ascending=False)\n",
        "    t_list = (df.values[0].item()+1,) + t_list + (0,)\n",
        "    out = data.copy()\n",
        "    for i in tqdm(range(1,len(t_list)),desc=\"Progress\",leave=False):\n",
        "        idx = df[(df>t_list[i]).values & (df<=t_list[i-1]).values].index\n",
        "        for j in tqdm(idx,leave=False):\n",
        "            out.loc[out == j] = i\n",
        "    return out\n",
        "\n",
        "def factorize(data) -> pd.Series():\n",
        "    series = data.copy()\n",
        "    labels, _ = pd.factorize(series)\n",
        "    series = labels[:len(series)]\n",
        "    return series\n",
        "\n",
        "def cast(data, lower_t, upper_t) -> pd.Series():\n",
        "    data = data.sort_values()\n",
        "    data[data<lower_t] = lower_t\n",
        "    data[data>upper_t] = upper_t\n",
        "    return data\n",
        "\n",
        "def standarize(df) ->pd.Series():\n",
        "    return round((df-df.min())/(df.max()-df.min()),4)\n",
        "\n",
        "def one_hot_encoding(f):\n",
        "    global csv\n",
        "    ohe = ce.OneHotEncoder(cols = [f], handle_unknown='ignore', use_cat_names=True)\n",
        "    csv[f] = csv[f].fillna(-1)\n",
        "    new_features = ohe.fit_transform(csv[f].to_frame())\n",
        "    csv = csv.drop([f],axis=1)\n",
        "    csv = pd.concat([csv,new_features],axis=1)\n",
        "    \n",
        "def binary_encoding(f):\n",
        "    global csv\n",
        "    ohe = ce.BinaryEncoder(cols = [f], handle_unknown='ignore',drop_invariant=True)\n",
        "    csv[f] = csv[f].fillna(-1)\n",
        "    new_features = ohe.fit_transform(csv[f].to_frame())\n",
        "    csv = csv.drop([f],axis=1)\n",
        "    csv = pd.concat([csv,new_features],axis=1)  \n",
        "def delete(f):\n",
        "    global csv\n",
        "    csv[f] = csv_org[f]\n",
        "    csv = csv.drop(f, axis=1)"
      ],
      "execution_count": 0,
      "outputs": []
    },
    {
      "cell_type": "markdown",
      "metadata": {
        "id": "bo6sY6IdkAWi",
        "colab_type": "text"
      },
      "source": [
        "# Data Loading"
      ]
    },
    {
      "cell_type": "code",
      "metadata": {
        "scrolled": true,
        "id": "nZGLPQHJkAWi",
        "colab_type": "code",
        "outputId": "89b18452-a63f-4059-8e8d-3ca2a9dc4350",
        "colab": {
          "base_uri": "https://localhost:8080/",
          "height": 85
        }
      },
      "source": [
        "csv = load_data()\n",
        "csv_org = csv.copy()\n",
        "nans = nans_ctr()\n",
        "unique = unique_ctr()\n",
        "val_type = val_types()\n",
        "# del_nans(0.99)\n",
        "print(\"Max NaNs in column left: \", max(nans))\n",
        "print(\"Columns left after Nans removed: \", len(csv.columns))"
      ],
      "execution_count": 269,
      "outputs": [
        {
          "output_type": "stream",
          "text": [
            "/usr/local/lib/python3.6/dist-packages/IPython/core/interactiveshell.py:2822: DtypeWarning: Columns (190,191) have mixed types. Specify dtype option on import or set low_memory=False.\n",
            "  if self.run_code(code, result):\n"
          ],
          "name": "stderr"
        },
        {
          "output_type": "stream",
          "text": [
            "Max NaNs in column left:  4285\n",
            "Columns left after Nans removed:  221\n"
          ],
          "name": "stdout"
        }
      ]
    },
    {
      "cell_type": "markdown",
      "metadata": {
        "id": "6FrYKR9lkAWq",
        "colab_type": "text"
      },
      "source": [
        "# Data Preprocessing"
      ]
    },
    {
      "cell_type": "code",
      "metadata": {
        "id": "8kQPtCn0e_cO",
        "colab_type": "code",
        "colab": {}
      },
      "source": [
        "languages = list((\"NewLisp\", \"Max\", \"Liquid\", \"SQLPL\", \"Perl\", \"M4\", \"OpenEdge ABL\", \"XS\", \"Xtend\", \"Mirah\", \"SMT\", \"Prolog\", \"Ioke\", \"Crystal\", \"Haskell\", \"PureBasic\", \"Ragel in Ruby Host\", \"Rich Text Format\", \"Dockerfile\", \"Processing\", \"Erlang\", \"DIGITAL Command Language\", \"Roff\", \"Haxe\", \"Objective-J\", \"PLSQL\", \"ApacheConf\", \"Gnuplot\", \"COBOL\", \"Fortran\", \"GAP\", \"UnrealScript\", \"IDL\", \"Common Lisp\", \"PHP\", \"Python\", \"HTML\", \"sed\", \"Pascal\", \"C\", \"VCL\", \"Rebol\", \"Clojure\", \"PLpgSQL\", \"Jupyter Notebook\", \"Protocol Buffer\", \"Gherkin\", \"JSONiq\", \"Coq\", \"M\", \"HLSL\", \"Mathematica\", \"Puppet\", \"JavaScript\", \"Scheme\", \"MoonScript\", \"Scala\", \"Slash\", \"Vue\", \"Elixir\", \"SaltStack\", \"Yacc\", \"Perl 6\", \"Chapel\", \"Nim\", \"DM\", \"Batchfile\", \"AppleScript\", \"HCL\", \"Nu\", \"Ada\", \"C#\", \"Scilab\", \"TypeScript\", \"AspectJ\", \"SuperCollider\", \"F#\", \"CMake\", \"Handlebars\", \"LiveScript\", \"Clean\", \"Cool\", \"Mercury\", \"AGS Script\", \"Thrift\", \"POV-Ray SDL\", \"Inno Setup\", \"PigLatin\", \"Nginx\", \"Io\", \"Groovy\", \"ANTLR\", \"SystemVerilog\", \"Racket\", \"XSLT\", \"Boo\", \"CSS\", \"NSIS\", \"Rouge\", \"Mako\", \"ASP\", \"EmberScript\", \"R\", \"API Blueprint\", \"Rust\", \"XProc\", \"LLVM\", \"Shell\", \"PowerShell\", \"RobotFramework\", \"Pure Data\", \"Nemerle\", \"QML\", \"GCC Machine Description\", \"Forth\", \"Objective-C++\", \"ShaderLab\", \"OpenSCAD\", \"ooc\", \"Limbo\", \"Tcl\", \"Visual Basic\", \"Alloy\", \"Logos\", \"Gosu\", \"GLSL\", \"Verilog\", \"Arc\", \"Dart\", \"Cuda\", \"Pike\", \"Smarty\", \"Terra\", \"Stata\", \"Java\", \"ActionScript\", \"Hy\", \"Groff\", \"CoffeeScript\", \"Arduino\", \"xBase\", \"Ragel\", \"Graphviz (DOT)\", \"Objective-C\", \"Lex\", \"NetLogo\", \"Game Maker Language\", \"E\", \"Swift\", \"QMake\", \"Web Ontology Language\", \"Vim script\", \"Jsonnet\", \"RPC\", \"Go\", \"RenderScript\", \"Awk\", \"Metal\", \"Turing\", \"ColdFusion\", \"Eagle\", \"Smalltalk\", \"OCaml\", \"DTrace\", \"Lua\", \"Julia\", \"XQuery\", \"Vala\", \"Makefile\", \"Bison\", \"Brainfuck\", \"Assembly\", \"FreeMarker\", \"D\", \"TeX\", \"PostScript\", \"MATLAB\", \"GDB\", \"Kotlin\", \"SourcePawn\", \"Ruby\", \"AutoHotkey\", \"Emacs Lisp\", \"AutoIt\", \"HyPhy\", \"C++\", \"J\", \"VHDL\", \"Standard ML\"))"
      ],
      "execution_count": 0,
      "outputs": []
    },
    {
      "cell_type": "code",
      "metadata": {
        "id": "DEeMJU1ifAcE",
        "colab_type": "code",
        "colab": {
          "base_uri": "https://localhost:8080/",
          "height": 221
        },
        "outputId": "94f8a7e8-5455-47d4-abaa-ba6a594c531f"
      },
      "source": [
        "popularLanguages=[]\n",
        "for l in languages:\n",
        "  if round(100*(1-nans[l]/len(csv.index)))>5.0:\n",
        "    print(l, \"\\t\", round(100*(1-nans[l]/len(csv.index))),\"%\")\n",
        "    popularLanguages.append(l)\n",
        "print(popularLanguages)"
      ],
      "execution_count": 272,
      "outputs": [
        {
          "output_type": "stream",
          "text": [
            "Python \t 37.0 %\n",
            "HTML \t 16.0 %\n",
            "C \t 13.0 %\n",
            "JavaScript \t 25.0 %\n",
            "CMake \t 6.0 %\n",
            "CSS \t 15.0 %\n",
            "Shell \t 27.0 %\n",
            "Java \t 9.0 %\n",
            "Makefile \t 12.0 %\n",
            "Ruby \t 8.0 %\n",
            "C++ \t 15.0 %\n",
            "['Python', 'HTML', 'C', 'JavaScript', 'CMake', 'CSS', 'Shell', 'Java', 'Makefile', 'Ruby', 'C++']\n"
          ],
          "name": "stdout"
        }
      ]
    },
    {
      "cell_type": "code",
      "metadata": {
        "id": "Qy3_qrVqfAof",
        "colab_type": "code",
        "colab": {
          "base_uri": "https://localhost:8080/",
          "height": 1969
        },
        "outputId": "26fa7860-57de-4756-e6d9-dc4ab7e2f2ad"
      },
      "source": [
        "f1 = \"languageCounter\"\n",
        "f2 = \"popularLanguageCounter\"\n",
        "\n",
        "csv[languages] = csv_org[languages]\n",
        "csv[f1] = csv[languages].count(axis=1)\n",
        "csv[f2] = csv[popularLanguages].count(axis=1)\n",
        "for l in languages:\n",
        "  if l in popularLanguages:\n",
        "    continue\n",
        "  delete(l)\n",
        "\n",
        "csv[f1] = standarize(csv[f1])\n",
        "csv[f2] = standarize(csv[f2])\n",
        "\n",
        "\n",
        "csv[[f1,f2]]"
      ],
      "execution_count": 294,
      "outputs": [
        {
          "output_type": "execute_result",
          "data": {
            "text/html": [
              "<div>\n",
              "<style scoped>\n",
              "    .dataframe tbody tr th:only-of-type {\n",
              "        vertical-align: middle;\n",
              "    }\n",
              "\n",
              "    .dataframe tbody tr th {\n",
              "        vertical-align: top;\n",
              "    }\n",
              "\n",
              "    .dataframe thead th {\n",
              "        text-align: right;\n",
              "    }\n",
              "</style>\n",
              "<table border=\"1\" class=\"dataframe\">\n",
              "  <thead>\n",
              "    <tr style=\"text-align: right;\">\n",
              "      <th></th>\n",
              "      <th>languageCounter</th>\n",
              "      <th>popularLanguageCounter</th>\n",
              "    </tr>\n",
              "  </thead>\n",
              "  <tbody>\n",
              "    <tr>\n",
              "      <th>0</th>\n",
              "      <td>0.0156</td>\n",
              "      <td>0.0909</td>\n",
              "    </tr>\n",
              "    <tr>\n",
              "      <th>1</th>\n",
              "      <td>0.0312</td>\n",
              "      <td>0.0909</td>\n",
              "    </tr>\n",
              "    <tr>\n",
              "      <th>2</th>\n",
              "      <td>0.0781</td>\n",
              "      <td>0.3636</td>\n",
              "    </tr>\n",
              "    <tr>\n",
              "      <th>3</th>\n",
              "      <td>0.0312</td>\n",
              "      <td>0.1818</td>\n",
              "    </tr>\n",
              "    <tr>\n",
              "      <th>4</th>\n",
              "      <td>0.0312</td>\n",
              "      <td>0.0909</td>\n",
              "    </tr>\n",
              "    <tr>\n",
              "      <th>5</th>\n",
              "      <td>0.0312</td>\n",
              "      <td>0.1818</td>\n",
              "    </tr>\n",
              "    <tr>\n",
              "      <th>6</th>\n",
              "      <td>0.0625</td>\n",
              "      <td>0.3636</td>\n",
              "    </tr>\n",
              "    <tr>\n",
              "      <th>7</th>\n",
              "      <td>0.0000</td>\n",
              "      <td>0.0000</td>\n",
              "    </tr>\n",
              "    <tr>\n",
              "      <th>8</th>\n",
              "      <td>0.1250</td>\n",
              "      <td>0.5455</td>\n",
              "    </tr>\n",
              "    <tr>\n",
              "      <th>9</th>\n",
              "      <td>0.1250</td>\n",
              "      <td>0.5455</td>\n",
              "    </tr>\n",
              "    <tr>\n",
              "      <th>10</th>\n",
              "      <td>0.0781</td>\n",
              "      <td>0.3636</td>\n",
              "    </tr>\n",
              "    <tr>\n",
              "      <th>11</th>\n",
              "      <td>0.1406</td>\n",
              "      <td>0.5455</td>\n",
              "    </tr>\n",
              "    <tr>\n",
              "      <th>12</th>\n",
              "      <td>0.0156</td>\n",
              "      <td>0.0909</td>\n",
              "    </tr>\n",
              "    <tr>\n",
              "      <th>13</th>\n",
              "      <td>0.0938</td>\n",
              "      <td>0.3636</td>\n",
              "    </tr>\n",
              "    <tr>\n",
              "      <th>14</th>\n",
              "      <td>0.0469</td>\n",
              "      <td>0.2727</td>\n",
              "    </tr>\n",
              "    <tr>\n",
              "      <th>15</th>\n",
              "      <td>0.0156</td>\n",
              "      <td>0.0909</td>\n",
              "    </tr>\n",
              "    <tr>\n",
              "      <th>16</th>\n",
              "      <td>0.2031</td>\n",
              "      <td>0.8182</td>\n",
              "    </tr>\n",
              "    <tr>\n",
              "      <th>17</th>\n",
              "      <td>0.0156</td>\n",
              "      <td>0.0909</td>\n",
              "    </tr>\n",
              "    <tr>\n",
              "      <th>18</th>\n",
              "      <td>0.0156</td>\n",
              "      <td>0.0909</td>\n",
              "    </tr>\n",
              "    <tr>\n",
              "      <th>19</th>\n",
              "      <td>0.0312</td>\n",
              "      <td>0.1818</td>\n",
              "    </tr>\n",
              "    <tr>\n",
              "      <th>20</th>\n",
              "      <td>0.0312</td>\n",
              "      <td>0.1818</td>\n",
              "    </tr>\n",
              "    <tr>\n",
              "      <th>21</th>\n",
              "      <td>0.0312</td>\n",
              "      <td>0.1818</td>\n",
              "    </tr>\n",
              "    <tr>\n",
              "      <th>22</th>\n",
              "      <td>0.0469</td>\n",
              "      <td>0.2727</td>\n",
              "    </tr>\n",
              "    <tr>\n",
              "      <th>23</th>\n",
              "      <td>0.0312</td>\n",
              "      <td>0.1818</td>\n",
              "    </tr>\n",
              "    <tr>\n",
              "      <th>24</th>\n",
              "      <td>0.0312</td>\n",
              "      <td>0.1818</td>\n",
              "    </tr>\n",
              "    <tr>\n",
              "      <th>25</th>\n",
              "      <td>0.0312</td>\n",
              "      <td>0.1818</td>\n",
              "    </tr>\n",
              "    <tr>\n",
              "      <th>26</th>\n",
              "      <td>0.0312</td>\n",
              "      <td>0.0909</td>\n",
              "    </tr>\n",
              "    <tr>\n",
              "      <th>27</th>\n",
              "      <td>0.0312</td>\n",
              "      <td>0.1818</td>\n",
              "    </tr>\n",
              "    <tr>\n",
              "      <th>28</th>\n",
              "      <td>0.0312</td>\n",
              "      <td>0.1818</td>\n",
              "    </tr>\n",
              "    <tr>\n",
              "      <th>29</th>\n",
              "      <td>0.1094</td>\n",
              "      <td>0.4545</td>\n",
              "    </tr>\n",
              "    <tr>\n",
              "      <th>...</th>\n",
              "      <td>...</td>\n",
              "      <td>...</td>\n",
              "    </tr>\n",
              "    <tr>\n",
              "      <th>4256</th>\n",
              "      <td>0.0000</td>\n",
              "      <td>0.0000</td>\n",
              "    </tr>\n",
              "    <tr>\n",
              "      <th>4257</th>\n",
              "      <td>0.0312</td>\n",
              "      <td>0.0909</td>\n",
              "    </tr>\n",
              "    <tr>\n",
              "      <th>4258</th>\n",
              "      <td>0.0312</td>\n",
              "      <td>0.0909</td>\n",
              "    </tr>\n",
              "    <tr>\n",
              "      <th>4259</th>\n",
              "      <td>0.0156</td>\n",
              "      <td>0.0000</td>\n",
              "    </tr>\n",
              "    <tr>\n",
              "      <th>4260</th>\n",
              "      <td>0.1250</td>\n",
              "      <td>0.4545</td>\n",
              "    </tr>\n",
              "    <tr>\n",
              "      <th>4261</th>\n",
              "      <td>0.0156</td>\n",
              "      <td>0.0909</td>\n",
              "    </tr>\n",
              "    <tr>\n",
              "      <th>4262</th>\n",
              "      <td>0.0000</td>\n",
              "      <td>0.0000</td>\n",
              "    </tr>\n",
              "    <tr>\n",
              "      <th>4263</th>\n",
              "      <td>0.0781</td>\n",
              "      <td>0.3636</td>\n",
              "    </tr>\n",
              "    <tr>\n",
              "      <th>4264</th>\n",
              "      <td>0.0312</td>\n",
              "      <td>0.0909</td>\n",
              "    </tr>\n",
              "    <tr>\n",
              "      <th>4265</th>\n",
              "      <td>0.0625</td>\n",
              "      <td>0.1818</td>\n",
              "    </tr>\n",
              "    <tr>\n",
              "      <th>4266</th>\n",
              "      <td>0.0156</td>\n",
              "      <td>0.0000</td>\n",
              "    </tr>\n",
              "    <tr>\n",
              "      <th>4267</th>\n",
              "      <td>0.0625</td>\n",
              "      <td>0.3636</td>\n",
              "    </tr>\n",
              "    <tr>\n",
              "      <th>4268</th>\n",
              "      <td>0.0312</td>\n",
              "      <td>0.1818</td>\n",
              "    </tr>\n",
              "    <tr>\n",
              "      <th>4269</th>\n",
              "      <td>0.0312</td>\n",
              "      <td>0.1818</td>\n",
              "    </tr>\n",
              "    <tr>\n",
              "      <th>4270</th>\n",
              "      <td>0.0469</td>\n",
              "      <td>0.1818</td>\n",
              "    </tr>\n",
              "    <tr>\n",
              "      <th>4271</th>\n",
              "      <td>0.0312</td>\n",
              "      <td>0.1818</td>\n",
              "    </tr>\n",
              "    <tr>\n",
              "      <th>4272</th>\n",
              "      <td>0.1094</td>\n",
              "      <td>0.5455</td>\n",
              "    </tr>\n",
              "    <tr>\n",
              "      <th>4273</th>\n",
              "      <td>0.1250</td>\n",
              "      <td>0.5455</td>\n",
              "    </tr>\n",
              "    <tr>\n",
              "      <th>4274</th>\n",
              "      <td>0.0156</td>\n",
              "      <td>0.0000</td>\n",
              "    </tr>\n",
              "    <tr>\n",
              "      <th>4275</th>\n",
              "      <td>0.0312</td>\n",
              "      <td>0.1818</td>\n",
              "    </tr>\n",
              "    <tr>\n",
              "      <th>4276</th>\n",
              "      <td>0.0469</td>\n",
              "      <td>0.2727</td>\n",
              "    </tr>\n",
              "    <tr>\n",
              "      <th>4277</th>\n",
              "      <td>0.0312</td>\n",
              "      <td>0.0909</td>\n",
              "    </tr>\n",
              "    <tr>\n",
              "      <th>4278</th>\n",
              "      <td>0.0312</td>\n",
              "      <td>0.1818</td>\n",
              "    </tr>\n",
              "    <tr>\n",
              "      <th>4279</th>\n",
              "      <td>0.1406</td>\n",
              "      <td>0.5455</td>\n",
              "    </tr>\n",
              "    <tr>\n",
              "      <th>4280</th>\n",
              "      <td>0.0625</td>\n",
              "      <td>0.1818</td>\n",
              "    </tr>\n",
              "    <tr>\n",
              "      <th>4281</th>\n",
              "      <td>0.0156</td>\n",
              "      <td>0.0909</td>\n",
              "    </tr>\n",
              "    <tr>\n",
              "      <th>4282</th>\n",
              "      <td>0.0625</td>\n",
              "      <td>0.3636</td>\n",
              "    </tr>\n",
              "    <tr>\n",
              "      <th>4283</th>\n",
              "      <td>0.0625</td>\n",
              "      <td>0.2727</td>\n",
              "    </tr>\n",
              "    <tr>\n",
              "      <th>4284</th>\n",
              "      <td>0.0312</td>\n",
              "      <td>0.0909</td>\n",
              "    </tr>\n",
              "    <tr>\n",
              "      <th>4285</th>\n",
              "      <td>0.0000</td>\n",
              "      <td>0.0000</td>\n",
              "    </tr>\n",
              "  </tbody>\n",
              "</table>\n",
              "<p>4286 rows × 2 columns</p>\n",
              "</div>"
            ],
            "text/plain": [
              "      languageCounter  popularLanguageCounter\n",
              "0              0.0156                  0.0909\n",
              "1              0.0312                  0.0909\n",
              "2              0.0781                  0.3636\n",
              "3              0.0312                  0.1818\n",
              "4              0.0312                  0.0909\n",
              "5              0.0312                  0.1818\n",
              "6              0.0625                  0.3636\n",
              "7              0.0000                  0.0000\n",
              "8              0.1250                  0.5455\n",
              "9              0.1250                  0.5455\n",
              "10             0.0781                  0.3636\n",
              "11             0.1406                  0.5455\n",
              "12             0.0156                  0.0909\n",
              "13             0.0938                  0.3636\n",
              "14             0.0469                  0.2727\n",
              "15             0.0156                  0.0909\n",
              "16             0.2031                  0.8182\n",
              "17             0.0156                  0.0909\n",
              "18             0.0156                  0.0909\n",
              "19             0.0312                  0.1818\n",
              "20             0.0312                  0.1818\n",
              "21             0.0312                  0.1818\n",
              "22             0.0469                  0.2727\n",
              "23             0.0312                  0.1818\n",
              "24             0.0312                  0.1818\n",
              "25             0.0312                  0.1818\n",
              "26             0.0312                  0.0909\n",
              "27             0.0312                  0.1818\n",
              "28             0.0312                  0.1818\n",
              "29             0.1094                  0.4545\n",
              "...               ...                     ...\n",
              "4256           0.0000                  0.0000\n",
              "4257           0.0312                  0.0909\n",
              "4258           0.0312                  0.0909\n",
              "4259           0.0156                  0.0000\n",
              "4260           0.1250                  0.4545\n",
              "4261           0.0156                  0.0909\n",
              "4262           0.0000                  0.0000\n",
              "4263           0.0781                  0.3636\n",
              "4264           0.0312                  0.0909\n",
              "4265           0.0625                  0.1818\n",
              "4266           0.0156                  0.0000\n",
              "4267           0.0625                  0.3636\n",
              "4268           0.0312                  0.1818\n",
              "4269           0.0312                  0.1818\n",
              "4270           0.0469                  0.1818\n",
              "4271           0.0312                  0.1818\n",
              "4272           0.1094                  0.5455\n",
              "4273           0.1250                  0.5455\n",
              "4274           0.0156                  0.0000\n",
              "4275           0.0312                  0.1818\n",
              "4276           0.0469                  0.2727\n",
              "4277           0.0312                  0.0909\n",
              "4278           0.0312                  0.1818\n",
              "4279           0.1406                  0.5455\n",
              "4280           0.0625                  0.1818\n",
              "4281           0.0156                  0.0909\n",
              "4282           0.0625                  0.3636\n",
              "4283           0.0625                  0.2727\n",
              "4284           0.0312                  0.0909\n",
              "4285           0.0000                  0.0000\n",
              "\n",
              "[4286 rows x 2 columns]"
            ]
          },
          "metadata": {
            "tags": []
          },
          "execution_count": 294
        }
      ]
    },
    {
      "cell_type": "code",
      "metadata": {
        "id": "U7SsibjtlPTZ",
        "colab_type": "code",
        "colab": {}
      },
      "source": [
        "csv[f] = csv_org[f]\n",
        "to_delete = (\"Unnamed: 0\", \"name\", \"isDisabled\", \"isLocked\", \"isMirror\", \"isPrivate\", \"url\", \"_uri\", \"assign_company\", \"stargazer_bio\", \"stargazer_company\", \"release_isDraft\", \"release_isPrerelease\", \"_error\",\"_error_trace\")\n",
        "for f in to_delete: \n",
        "  delete(f)"
      ],
      "execution_count": 0,
      "outputs": []
    },
    {
      "cell_type": "code",
      "metadata": {
        "id": "9E69sbZomOdI",
        "colab_type": "code",
        "colab": {}
      },
      "source": [
        "f = \"name\"\n",
        "# stat(f)\n",
        "l = list()\n",
        "ctr = 0\n",
        "for cell in csv[f]:\n",
        "  if cell in l:\n",
        "    print(cell)\n",
        "    ctr += 1\n",
        "  l.append(cell)\n",
        "print(ctr)\n",
        "# plot(csv[f],sort=True,log=False,fontsize=14)"
      ],
      "execution_count": 0,
      "outputs": []
    },
    {
      "cell_type": "code",
      "metadata": {
        "id": "K3MLQxlaysZz",
        "colab_type": "code",
        "colab": {
          "base_uri": "https://localhost:8080/",
          "height": 286
        },
        "outputId": "868f2058-aa5d-4ee5-f7a3-2a4a22dea3d4"
      },
      "source": [
        "f = \"diskUsage\"\n",
        "csv[f] = csv_org[f]\n",
        "csv[f] = cast(csv[f],-100,csv[f].quantile(0.95))\n",
        "csv[f] = csv[f].apply(lambda x: np.power(x,1/5))\n",
        "csv[f] = standarize(csv[f])\n",
        "csv[f].plot.kde()"
      ],
      "execution_count": 147,
      "outputs": [
        {
          "output_type": "execute_result",
          "data": {
            "text/plain": [
              "<matplotlib.axes._subplots.AxesSubplot at 0x7f903e5880f0>"
            ]
          },
          "metadata": {
            "tags": []
          },
          "execution_count": 147
        },
        {
          "output_type": "display_data",
          "data": {
            "image/png": "[encoded data removed]",
            "text/plain": [
              "<Figure size 432x288 with 1 Axes>"
            ]
          },
          "metadata": {
            "tags": []
          }
        }
      ]
    },
    {
      "cell_type": "code",
      "metadata": {
        "id": "cRSJ_3NWuLFN",
        "colab_type": "code",
        "colab": {
          "base_uri": "https://localhost:8080/",
          "height": 785
        },
        "outputId": "ce72b83d-424b-424e-d274-82bff9fc2bb8"
      },
      "source": [
        "f = \"description\"\n",
        "f2 = \"description len\"\n",
        "f3 = \"has description\"\n",
        "csv[f] = csv_org[f]\n",
        "csv[f2]= csv[f].astype(str).str.len()\n",
        "csv[f3]= csv[f2]>3\n",
        "csv[f3] = factorize(csv[f3])\n",
        "plot(csv[f2].sort_values(),sort=False,log=False,fontsize=7,small=True)\n",
        "csv[f2] = cast(csv[f2],-100,2*csv[f2].median())\n",
        "csv[f2] = standarize(csv[f2])\n",
        "plot(csv[f2].sort_values(),sort=False,log=False,fontsize=7,small=True)\n",
        "plot(csv[f3], log=False,fontsize=7,small=True)\n",
        "delete(f)"
      ],
      "execution_count": 264,
      "outputs": [
        {
          "output_type": "display_data",
          "data": {
            "image/png": "[encoded data removed]",
            "text/plain": [
              "<Figure size 576x288 with 1 Axes>"
            ]
          },
          "metadata": {
            "tags": []
          }
        },
        {
          "output_type": "display_data",
          "data": {
            "image/png": "[encoded data removed]",
            "text/plain": [
              "<Figure size 576x288 with 1 Axes>"
            ]
          },
          "metadata": {
            "tags": []
          }
        },
        {
          "output_type": "display_data",
          "data": {
            "image/png": "[encoded data removed]",
            "text/plain": [
              "<Figure size 576x288 with 1 Axes>"
            ]
          },
          "metadata": {
            "tags": []
          }
        }
      ]
    },
    {
      "cell_type": "code",
      "metadata": {
        "id": "OtGol0zk1EcO",
        "colab_type": "code",
        "colab": {
          "base_uri": "https://localhost:8080/",
          "height": 413
        },
        "outputId": "f8bb8c9b-5fcd-4bfe-c432-9e75e38732cf"
      },
      "source": [
        "f = \"squashMergeAllowed\"\n",
        "f = \"isArchived\"\n",
        "stat(f)\n",
        "\n",
        "csv[f] = csv_org[f]\n",
        "print(len(csv[csv[f]==True]))\n",
        "print(len(csv[csv[f]==False]))\n",
        "# csv[f] = factorize(csv[f])\n",
        "plot(csv[f].sort_values(),sort=False,log=False,fontsize=7,small=True)"
      ],
      "execution_count": 159,
      "outputs": [
        {
          "output_type": "stream",
          "text": [
            "min: False\n",
            "max: True\n",
            "nans: 0\n",
            "unique: 2\n",
            "val_type: <class 'bool'>\n",
            "vals per class: 2143.0\n",
            "79\n",
            "4207\n"
          ],
          "name": "stdout"
        },
        {
          "output_type": "display_data",
          "data": {
            "image/png": "[encoded data removed]",
            "text/plain": [
              "<Figure size 576x288 with 1 Axes>"
            ]
          },
          "metadata": {
            "tags": []
          }
        }
      ]
    },
    {
      "cell_type": "code",
      "metadata": {
        "id": "8CnZ6CwZ6y7K",
        "colab_type": "code",
        "colab": {}
      },
      "source": [
        "f = \"_created\""
      ],
      "execution_count": 0,
      "outputs": []
    },
    {
      "cell_type": "code",
      "metadata": {
        "id": "pXFJHfaA63t2",
        "colab_type": "code",
        "colab": {}
      },
      "source": [
        "f = \"_processed\""
      ],
      "execution_count": 0,
      "outputs": []
    },
    {
      "cell_type": "code",
      "metadata": {
        "id": "98y8sMWQ69Oj",
        "colab_type": "code",
        "colab": {
          "base_uri": "https://localhost:8080/",
          "height": 666
        },
        "outputId": "c39561c6-2df9-4823-da86-5f5cb831339f"
      },
      "source": [
        "f = \"unclosed_issues\"\n",
        "f2 = \"has issue\"\n",
        "stat(f)\n",
        "csv[f] = csv_org[f]\n",
        "\n",
        "csv[f2]= csv[f]>0\n",
        "csv[f2] = factorize(csv[f2])\n",
        "plot(csv[f2], log=False,fontsize=7,small=True)\n",
        "\n",
        "csv[f] = cast(csv[f],-100,csv[f].quantile(0.96))\n",
        "csv[f] = standarize(csv[f])\n",
        "\n",
        "plot(csv[f].sort_values(),sort=False,log=False,fontsize=7, small=True)"
      ],
      "execution_count": 151,
      "outputs": [
        {
          "output_type": "stream",
          "text": [
            "min: 0.0\n",
            "max: 1.0\n",
            "nans: 0\n",
            "unique: 17\n",
            "val_type: <class 'numpy.float64'>\n",
            "vals per class: 252.12\n"
          ],
          "name": "stdout"
        },
        {
          "output_type": "display_data",
          "data": {
            "image/png": "[encoded data removed]",
            "text/plain": [
              "<Figure size 576x288 with 1 Axes>"
            ]
          },
          "metadata": {
            "tags": []
          }
        },
        {
          "output_type": "stream",
          "text": [
            "210\n",
            "3534\n"
          ],
          "name": "stdout"
        },
        {
          "output_type": "display_data",
          "data": {
            "image/png": "[encoded data removed]",
            "text/plain": [
              "<Figure size 576x288 with 1 Axes>"
            ]
          },
          "metadata": {
            "tags": []
          }
        }
      ]
    },
    {
      "cell_type": "code",
      "metadata": {
        "id": "aWqjQj9J90ax",
        "colab_type": "code",
        "colab": {
          "base_uri": "https://localhost:8080/",
          "height": 869
        },
        "outputId": "58ef6415-3f01-48bb-9eed-4c4cac4f529c"
      },
      "source": [
        "f = \"stargazer_\"\n",
        "f2 = \"stargazer100\"\n",
        "f3 = \"stargazer non zero\"\n",
        "\n",
        "stat(f)\n",
        "csv[f] = csv_org[f]\n",
        "\n",
        "csv[f2]= csv[f] == 100.0\n",
        "csv[f2] = factorize(csv[f2])\n",
        "plot(csv[f2], log=False,fontsize=7,small=True)\n",
        "\n",
        "csv[f3]= csv[f] > 0.0\n",
        "csv[f3] = factorize(csv[f3])\n",
        "plot(csv[f3], log=False,fontsize=7,small=True)\n",
        "\n",
        "csv[f] = cast(csv[f],-100,csv[f].quantile(0.96))\n",
        "csv[f] = standarize(csv[f])\n",
        "\n",
        "plot(csv[f].sort_values(),sort=False,log=False,fontsize=7, small=True)"
      ],
      "execution_count": 170,
      "outputs": [
        {
          "output_type": "stream",
          "text": [
            "min: 0.0\n",
            "max: 1.0\n",
            "nans: 0\n",
            "unique: 128\n",
            "val_type: <class 'numpy.float64'>\n",
            "vals per class: 33.48\n"
          ],
          "name": "stdout"
        },
        {
          "output_type": "display_data",
          "data": {
            "image/png": "[encoded data removed]",
            "text/plain": [
              "<Figure size 576x288 with 1 Axes>"
            ]
          },
          "metadata": {
            "tags": []
          }
        },
        {
          "output_type": "display_data",
          "data": {
            "image/png": "[encoded data removed]",
            "text/plain": [
              "<Figure size 576x288 with 1 Axes>"
            ]
          },
          "metadata": {
            "tags": []
          }
        },
        {
          "output_type": "display_data",
          "data": {
            "image/png": "[encoded data removed]",
            "text/plain": [
              "<Figure size 576x288 with 1 Axes>"
            ]
          },
          "metadata": {
            "tags": []
          }
        }
      ]
    },
    {
      "cell_type": "code",
      "metadata": {
        "id": "4sobzC9VEvIZ",
        "colab_type": "code",
        "colab": {
          "base_uri": "https://localhost:8080/",
          "height": 632
        },
        "outputId": "de9d9ca7-af89-4448-ba0f-109f33a71f50"
      },
      "source": [
        "f = \"milestone\"\n",
        "f2 = \"has milestone\"\n",
        "stat(f)\n",
        "csv[f] = csv_org[f]\n",
        "\n",
        "csv[f2]= csv[f]>0.0\n",
        "csv[f2] = factorize(csv[f2])\n",
        "plot(csv[f2], log=False,fontsize=7,small=True)\n",
        "\n",
        "# csv[f] = cast(csv[f],-100,csv[f].quantile(0.99))\n",
        "csv[f] = standarize(csv[f])\n",
        "\n",
        "plot(csv[f].sort_values(),sort=False,log=False,fontsize=7, small=True)"
      ],
      "execution_count": 179,
      "outputs": [
        {
          "output_type": "stream",
          "text": [
            "min: 0.0\n",
            "max: 1.0\n",
            "nans: 0\n",
            "unique: 4\n",
            "val_type: <class 'numpy.float64'>\n",
            "vals per class: 1071.5\n"
          ],
          "name": "stdout"
        },
        {
          "output_type": "display_data",
          "data": {
            "image/png": "[encoded data removed]",
            "text/plain": [
              "<Figure size 576x288 with 1 Axes>"
            ]
          },
          "metadata": {
            "tags": []
          }
        },
        {
          "output_type": "display_data",
          "data": {
            "image/png": "[encoded data removed]",
            "text/plain": [
              "<Figure size 576x288 with 1 Axes>"
            ]
          },
          "metadata": {
            "tags": []
          }
        }
      ]
    },
    {
      "cell_type": "code",
      "metadata": {
        "id": "AP03FE_IIA4i",
        "colab_type": "code",
        "colab": {
          "base_uri": "https://localhost:8080/",
          "height": 632
        },
        "outputId": "4c8969fc-f357-4c2b-bd54-44995bd1366e"
      },
      "source": [
        "f = \"milestone_closed\"\n",
        "f2 = \"has milestone\"\n",
        "stat(f)\n",
        "csv[f] = csv_org[f]\n",
        "\n",
        "csv[f2]= csv[f]>0.0\n",
        "csv[f2] = factorize(csv[f2])\n",
        "plot(csv[f2], log=False,fontsize=7,small=True)\n",
        "\n",
        "# csv[f] = cast(csv[f],-100,csv[f].quantile(0.99))\n",
        "csv[f] = standarize(csv[f])\n",
        "\n",
        "plot(csv[f].sort_values(),sort=False,log=False,fontsize=7, small=True)"
      ],
      "execution_count": 180,
      "outputs": [
        {
          "output_type": "stream",
          "text": [
            "min: 0.0\n",
            "max: 31.0\n",
            "nans: 0\n",
            "unique: 18\n",
            "val_type: <class 'numpy.float64'>\n",
            "vals per class: 238.11\n"
          ],
          "name": "stdout"
        },
        {
          "output_type": "display_data",
          "data": {
            "image/png": "[encoded data removed]",
            "text/plain": [
              "<Figure size 576x288 with 1 Axes>"
            ]
          },
          "metadata": {
            "tags": []
          }
        },
        {
          "output_type": "display_data",
          "data": {
            "image/png": "[encoded data removed]",
            "text/plain": [
              "<Figure size 576x288 with 1 Axes>"
            ]
          },
          "metadata": {
            "tags": []
          }
        }
      ]
    },
    {
      "cell_type": "code",
      "metadata": {
        "id": "AvJGQft9Ih-l",
        "colab_type": "code",
        "colab": {
          "base_uri": "https://localhost:8080/",
          "height": 623
        },
        "outputId": "f6657183-2eae-4aae-ee1c-900dd38ff989"
      },
      "source": [
        "f = \"release_\"\n",
        "f2 = \"has milestone\"\n",
        "stat(f)\n",
        "csv[f] = csv_org[f]\n",
        "\n",
        "csv[f2]= csv[f]>0.0\n",
        "csv[f2] = factorize(csv[f2])\n",
        "plot(csv[f2], log=False,fontsize=7,small=True)\n",
        "\n",
        "# csv[f] = cast(csv[f],-100,csv[f].quantile(0.99))\n",
        "csv[f] = standarize(csv[f])\n",
        "\n",
        "plot(csv[f].sort_values(),sort=False,log=False,fontsize=7, small=True)"
      ],
      "execution_count": 182,
      "outputs": [
        {
          "output_type": "stream",
          "text": [
            "min: 0.0\n",
            "max: 100.0\n",
            "nans: 0\n",
            "unique: 40\n",
            "val_type: <class 'numpy.float64'>\n",
            "vals per class: 107.15\n"
          ],
          "name": "stdout"
        },
        {
          "output_type": "display_data",
          "data": {
            "image/png": "[encoded data removed]",
            "text/plain": [
              "<Figure size 576x288 with 1 Axes>"
            ]
          },
          "metadata": {
            "tags": []
          }
        },
        {
          "output_type": "display_data",
          "data": {
            "image/png": "[encoded data removed]",
            "text/plain": [
              "<Figure size 576x288 with 1 Axes>"
            ]
          },
          "metadata": {
            "tags": []
          }
        }
      ]
    },
    {
      "cell_type": "code",
      "metadata": {
        "id": "GYrntBLQIz3n",
        "colab_type": "code",
        "colab": {}
      },
      "source": [
        "f = \"release_isDraft\"\n",
        "f2 = \"has milestone\"\n",
        "stat(f)\n",
        "csv[f] = csv_org[f]\n",
        "\n",
        "csv[f2]= csv[f]>0.0\n",
        "csv[f2] = factorize(csv[f2])\n",
        "plot(csv[f2], log=False,fontsize=7,small=True)\n",
        "\n",
        "# csv[f] = cast(csv[f],-100,csv[f].quantile(0.99))\n",
        "csv[f] = standarize(csv[f])\n",
        "\n",
        "plot(csv[f].sort_values(),sort=False,log=False,fontsize=7, small=True)"
      ],
      "execution_count": 0,
      "outputs": []
    },
    {
      "cell_type": "code",
      "metadata": {
        "id": "DN1e5WM8qM_x",
        "colab_type": "code",
        "colab": {
          "base_uri": "https://localhost:8080/",
          "height": 297
        },
        "outputId": "03d71496-ccca-48cb-b848-8f37d5fd3c6a"
      },
      "source": [
        "f = \"isFork\"\n",
        "print(len(csv[csv[f]==True]))\n",
        "print(len(csv[csv[f]==False]))\n",
        "csv[f] = factorize(csv[f])\n",
        "plot(csv[f].sort_values(),sort=False,log=False,fontsize=7,small=True)"
      ],
      "execution_count": 109,
      "outputs": [
        {
          "output_type": "stream",
          "text": [
            "1776\n",
            "2510\n"
          ],
          "name": "stdout"
        },
        {
          "output_type": "display_data",
          "data": {
            "image/png": "[encoded data removed]",
            "text/plain": [
              "<Figure size 576x288 with 1 Axes>"
            ]
          },
          "metadata": {
            "tags": []
          }
        }
      ]
    },
    {
      "cell_type": "code",
      "metadata": {
        "id": "jpBB36W1kAYX",
        "colab_type": "code",
        "colab": {}
      },
      "source": [
        "f = 'Var178'\n",
        "# print(stat(f))\n",
        "csv[f] = csv_org[f].copy()\n",
        "csv[f] = csv[f].fillna(method='ffill')\n",
        "csv[f] = csv[f].fillna(method='bfill')\n",
        "csv[f] = cast(csv[f],-100,csv[f].quantile(0.98))\n",
        "# csv[f] = threshold_factorization(csv[f],10000)\n",
        "csv[f] = standarize(csv[f])\n",
        "# ax = csv[f].plot.kde()\n",
        "csv[f] = csv[f].apply(lambda x: np.power(x,1/5))\n",
        "csv[f] = standarize(csv[f])\n",
        "# csv[f].plot.kde()"
      ],
      "execution_count": 0,
      "outputs": []
    },
    {
      "cell_type": "code",
      "metadata": {
        "id": "LPabWfFxkAYY",
        "colab_type": "code",
        "outputId": "0a2348a2-73e2-4aa5-8de2-90c6ecb22c6f",
        "colab": {}
      },
      "source": [
        "f = 'Var177'\n",
        "# print(stat(f))\n",
        "csv[f] = csv_org[f].copy()\n",
        "csv[f] = csv[f].fillna(method='ffill')\n",
        "csv[f] = csv[f].fillna(method='bfill')\n",
        "# csv[f] = cast(csv[f],-100,csv[f].quantile(0.98))\n",
        "csv[f] = threshold_factorization(csv[f],10000)\n",
        "csv[f] = standarize(csv[f])\n",
        "# ax = csv[f].plot.kde()\n"
      ],
      "execution_count": 0,
      "outputs": [
        {
          "output_type": "display_data",
          "data": {
            "application/vnd.jupyter.widget-view+json": {
              "model_id": "",
              "version_major": 2,
              "version_minor": 0
            },
            "text/plain": [
              "HBox(children=(IntProgress(value=0, description='Progress', max=2, style=ProgressStyle(description_width='init…"
            ]
          },
          "metadata": {
            "tags": []
          }
        },
        {
          "output_type": "display_data",
          "data": {
            "application/vnd.jupyter.widget-view+json": {
              "model_id": "",
              "version_major": 2,
              "version_minor": 0
            },
            "text/plain": [
              "HBox(children=(IntProgress(value=0, max=1), HTML(value='')))"
            ]
          },
          "metadata": {
            "tags": []
          }
        },
        {
          "output_type": "display_data",
          "data": {
            "application/vnd.jupyter.widget-view+json": {
              "model_id": "",
              "version_major": 2,
              "version_minor": 0
            },
            "text/plain": [
              "HBox(children=(IntProgress(value=0, max=442), HTML(value='')))"
            ]
          },
          "metadata": {
            "tags": []
          }
        },
        {
          "output_type": "stream",
          "text": [
            "\r"
          ],
          "name": "stdout"
        }
      ]
    },
    {
      "cell_type": "code",
      "metadata": {
        "id": "4zMUxKAekAYb",
        "colab_type": "code",
        "colab": {}
      },
      "source": [
        "f = 'Var176'\n",
        "delete(f)"
      ],
      "execution_count": 0,
      "outputs": []
    },
    {
      "cell_type": "code",
      "metadata": {
        "id": "JHxjexV9kAYc",
        "colab_type": "code",
        "colab": {}
      },
      "source": [
        "f = 'Var175'\n",
        "delete(f)"
      ],
      "execution_count": 0,
      "outputs": []
    },
    {
      "cell_type": "code",
      "metadata": {
        "id": "Huo71CIQkAYd",
        "colab_type": "code",
        "colab": {}
      },
      "source": [
        "f = 'Var174'\n",
        "# print(stat(f))\n",
        "csv[f] = csv_org[f].copy()\n",
        "csv[f] = csv[f].fillna(method='ffill')\n",
        "csv[f] = csv[f].fillna(method='bfill')\n",
        "csv[f] = cast(csv[f],-100,csv[f].quantile(0.98))\n",
        "# csv[f] = threshold_factorization(csv[f],10000)\n",
        "csv[f] = standarize(csv[f])\n",
        "# ax = csv[f].plot.kde()\n"
      ],
      "execution_count": 0,
      "outputs": []
    },
    {
      "cell_type": "code",
      "metadata": {
        "id": "X0CqyyQukAYe",
        "colab_type": "code",
        "colab": {}
      },
      "source": [
        "f = 'Var173'\n",
        "delete(f)"
      ],
      "execution_count": 0,
      "outputs": []
    },
    {
      "cell_type": "code",
      "metadata": {
        "id": "r3ya6uXIkAYf",
        "colab_type": "code",
        "colab": {}
      },
      "source": [
        "f = 'Var172'\n",
        "# print(stat(f))\n",
        "csv[f] = csv_org[f].copy()\n",
        "csv[f] = csv[f].fillna(method='ffill')\n",
        "csv[f] = csv[f].fillna(method='bfill')\n",
        "csv[f] = cast(csv[f],-100,csv[f].quantile(0.98))\n",
        "# csv[f] = threshold_factorization(csv[f],10000)\n",
        "csv[f] = standarize(csv[f])\n",
        "# ax = csv[f].plot.kde()\n",
        "csv[f] = csv[f].apply(lambda x: np.power(x,1/3))\n",
        "csv[f] = standarize(csv[f])\n",
        "# csv[f].plot.kde()"
      ],
      "execution_count": 0,
      "outputs": []
    },
    {
      "cell_type": "code",
      "metadata": {
        "id": "xcDE7cx7kAYh",
        "colab_type": "code",
        "colab": {}
      },
      "source": [
        "f = 'Var171'\n",
        "# print(stat(f))\n",
        "csv[f] = csv_org[f].copy()\n",
        "csv[f] = csv[f].fillna(method='ffill')\n",
        "csv[f] = csv[f].fillna(method='bfill')\n",
        "csv[f] = cast(csv[f],-100,csv[f].quantile(0.98))\n",
        "# csv[f] = threshold_factorization(csv[f],10000)\n",
        "csv[f] = standarize(csv[f])\n",
        "# ax = csv[f].plot.kde()\n",
        "csv[f] = csv[f].apply(lambda x: np.power(x,1/3))\n",
        "csv[f] = standarize(csv[f])\n",
        "# csv[f].plot.kde()"
      ],
      "execution_count": 0,
      "outputs": []
    },
    {
      "cell_type": "code",
      "metadata": {
        "id": "9b9ExqmLkAYi",
        "colab_type": "code",
        "outputId": "ea45b88e-2b15-4cb2-c914-dd0e87104b99",
        "colab": {}
      },
      "source": [
        "f = 'Var170'\n",
        "# print(stat(f))\n",
        "csv[f] = csv_org[f].copy()\n",
        "csv[f] = csv[f].fillna(method='ffill')\n",
        "csv[f] = csv[f].fillna(method='bfill')\n",
        "# csv[f] = cast(csv[f],-100,csv[f].quantile(0.98))\n",
        "csv[f] = threshold_factorization(csv[f],10000)\n",
        "csv[f] = standarize(csv[f])\n",
        "# ax = csv[f].plot.kde()\n"
      ],
      "execution_count": 0,
      "outputs": [
        {
          "output_type": "display_data",
          "data": {
            "application/vnd.jupyter.widget-view+json": {
              "model_id": "",
              "version_major": 2,
              "version_minor": 0
            },
            "text/plain": [
              "HBox(children=(IntProgress(value=0, description='Progress', max=2, style=ProgressStyle(description_width='init…"
            ]
          },
          "metadata": {
            "tags": []
          }
        },
        {
          "output_type": "display_data",
          "data": {
            "application/vnd.jupyter.widget-view+json": {
              "model_id": "",
              "version_major": 2,
              "version_minor": 0
            },
            "text/plain": [
              "HBox(children=(IntProgress(value=0, max=1), HTML(value='')))"
            ]
          },
          "metadata": {
            "tags": []
          }
        },
        {
          "output_type": "display_data",
          "data": {
            "application/vnd.jupyter.widget-view+json": {
              "model_id": "",
              "version_major": 2,
              "version_minor": 0
            },
            "text/plain": [
              "HBox(children=(IntProgress(value=0, max=17), HTML(value='')))"
            ]
          },
          "metadata": {
            "tags": []
          }
        },
        {
          "output_type": "stream",
          "text": [
            "\r"
          ],
          "name": "stdout"
        }
      ]
    },
    {
      "cell_type": "code",
      "metadata": {
        "id": "FGeL_6SMkAYl",
        "colab_type": "code",
        "colab": {}
      },
      "source": [
        "f = 'Var169'\n",
        "delete(f)\n"
      ],
      "execution_count": 0,
      "outputs": []
    },
    {
      "cell_type": "code",
      "metadata": {
        "id": "e3HCECk_kAYm",
        "colab_type": "code",
        "colab": {}
      },
      "source": [
        "f = 'Var168'\n",
        "# print(stat(f))\n",
        "csv[f] = csv_org[f].copy()\n",
        "csv[f] = csv[f].fillna(method='ffill')\n",
        "csv[f] = csv[f].fillna(method='bfill')\n",
        "csv[f] = cast(csv[f],-100,csv[f].quantile(0.98))\n",
        "# csv[f] = threshold_factorization(csv[f],10000)\n",
        "csv[f] = standarize(csv[f])\n",
        "# ax = csv[f].plot.kde()\n"
      ],
      "execution_count": 0,
      "outputs": []
    },
    {
      "cell_type": "code",
      "metadata": {
        "id": "y15wzLRmkAYo",
        "colab_type": "code",
        "colab": {}
      },
      "source": [
        "f = 'Var167'\n",
        "delete(f)"
      ],
      "execution_count": 0,
      "outputs": []
    },
    {
      "cell_type": "code",
      "metadata": {
        "id": "1bmfs4UckAYq",
        "colab_type": "code",
        "outputId": "59859d1c-496e-4399-8d8e-dda200aa3f2b",
        "colab": {}
      },
      "source": [
        "f = 'Var166'\n",
        "# print(stat(f))\n",
        "csv[f] = csv_org[f].copy()\n",
        "csv[f] = csv[f].fillna(method='ffill')\n",
        "csv[f] = csv[f].fillna(method='bfill')\n",
        "# csv[f] = cast(csv[f],-100,csv[f].quantile(0.98))\n",
        "csv[f] = threshold_factorization(csv[f],10000)\n",
        "csv[f] = standarize(csv[f])\n",
        "# ax = csv[f].plot.kde()\n"
      ],
      "execution_count": 0,
      "outputs": [
        {
          "output_type": "display_data",
          "data": {
            "application/vnd.jupyter.widget-view+json": {
              "model_id": "",
              "version_major": 2,
              "version_minor": 0
            },
            "text/plain": [
              "HBox(children=(IntProgress(value=0, description='Progress', max=2, style=ProgressStyle(description_width='init…"
            ]
          },
          "metadata": {
            "tags": []
          }
        },
        {
          "output_type": "display_data",
          "data": {
            "application/vnd.jupyter.widget-view+json": {
              "model_id": "",
              "version_major": 2,
              "version_minor": 0
            },
            "text/plain": [
              "HBox(children=(IntProgress(value=0, max=1), HTML(value='')))"
            ]
          },
          "metadata": {
            "tags": []
          }
        },
        {
          "output_type": "display_data",
          "data": {
            "application/vnd.jupyter.widget-view+json": {
              "model_id": "",
              "version_major": 2,
              "version_minor": 0
            },
            "text/plain": [
              "HBox(children=(IntProgress(value=0, max=47), HTML(value='')))"
            ]
          },
          "metadata": {
            "tags": []
          }
        },
        {
          "output_type": "stream",
          "text": [
            "\r"
          ],
          "name": "stdout"
        }
      ]
    },
    {
      "cell_type": "code",
      "metadata": {
        "id": "eBbPi1e5kAYr",
        "colab_type": "code",
        "outputId": "ab2d07c4-7d55-452d-f418-13490b96aa4f",
        "colab": {}
      },
      "source": [
        "f = 'Var165'\n",
        "# print(stat(f))\n",
        "csv[f] = csv_org[f].copy()\n",
        "csv[f] = csv[f].fillna(method='ffill')\n",
        "csv[f] = csv[f].fillna(method='bfill')\n",
        "# csv[f] = cast(csv[f],-100,csv[f].quantile(0.98))\n",
        "csv[f] = threshold_factorization(csv[f],10000)\n",
        "csv[f] = standarize(csv[f])\n",
        "# ax = csv[f].plot.kde()\n"
      ],
      "execution_count": 0,
      "outputs": [
        {
          "output_type": "display_data",
          "data": {
            "application/vnd.jupyter.widget-view+json": {
              "model_id": "",
              "version_major": 2,
              "version_minor": 0
            },
            "text/plain": [
              "HBox(children=(IntProgress(value=0, description='Progress', max=2, style=ProgressStyle(description_width='init…"
            ]
          },
          "metadata": {
            "tags": []
          }
        },
        {
          "output_type": "display_data",
          "data": {
            "application/vnd.jupyter.widget-view+json": {
              "model_id": "",
              "version_major": 2,
              "version_minor": 0
            },
            "text/plain": [
              "HBox(children=(IntProgress(value=0, max=1), HTML(value='')))"
            ]
          },
          "metadata": {
            "tags": []
          }
        },
        {
          "output_type": "display_data",
          "data": {
            "application/vnd.jupyter.widget-view+json": {
              "model_id": "",
              "version_major": 2,
              "version_minor": 0
            },
            "text/plain": [
              "HBox(children=(IntProgress(value=0, max=203), HTML(value='')))"
            ]
          },
          "metadata": {
            "tags": []
          }
        },
        {
          "output_type": "stream",
          "text": [
            "\r"
          ],
          "name": "stdout"
        }
      ]
    },
    {
      "cell_type": "code",
      "metadata": {
        "id": "sFlAb2JekAYt",
        "colab_type": "code",
        "outputId": "bc2fae66-2a0d-4b4d-dd41-901eb00bd636",
        "colab": {}
      },
      "source": [
        "f = 'Var164'\n",
        "# print(stat(f))\n",
        "csv[f] = csv_org[f].copy()\n",
        "csv[f] = csv[f].fillna(method='ffill')\n",
        "csv[f] = csv[f].fillna(method='bfill')\n",
        "# csv[f] = cast(csv[f],-100,csv[f].quantile(0.98))\n",
        "csv[f] = threshold_factorization(csv[f],10000)\n",
        "csv[f] = standarize(csv[f])\n",
        "# ax = csv[f].plot.kde()\n"
      ],
      "execution_count": 0,
      "outputs": [
        {
          "output_type": "display_data",
          "data": {
            "application/vnd.jupyter.widget-view+json": {
              "model_id": "",
              "version_major": 2,
              "version_minor": 0
            },
            "text/plain": [
              "HBox(children=(IntProgress(value=0, description='Progress', max=2, style=ProgressStyle(description_width='init…"
            ]
          },
          "metadata": {
            "tags": []
          }
        },
        {
          "output_type": "display_data",
          "data": {
            "application/vnd.jupyter.widget-view+json": {
              "model_id": "",
              "version_major": 2,
              "version_minor": 0
            },
            "text/plain": [
              "HBox(children=(IntProgress(value=0, max=1), HTML(value='')))"
            ]
          },
          "metadata": {
            "tags": []
          }
        },
        {
          "output_type": "display_data",
          "data": {
            "application/vnd.jupyter.widget-view+json": {
              "model_id": "",
              "version_major": 2,
              "version_minor": 0
            },
            "text/plain": [
              "HBox(children=(IntProgress(value=0, max=18), HTML(value='')))"
            ]
          },
          "metadata": {
            "tags": []
          }
        },
        {
          "output_type": "stream",
          "text": [
            "\r"
          ],
          "name": "stdout"
        }
      ]
    },
    {
      "cell_type": "code",
      "metadata": {
        "id": "GKBLRapGkAYu",
        "colab_type": "code",
        "colab": {}
      },
      "source": [
        "f = 'Var163'\n",
        "# print(stat(f))\n",
        "csv[f] = csv_org[f].copy()\n",
        "csv[f] = csv[f].fillna(method='ffill')\n",
        "csv[f] = csv[f].fillna(method='bfill')\n",
        "csv[f] = cast(csv[f],-100,csv[f].quantile(0.98))\n",
        "# csv[f] = threshold_factorization(csv[f],10000)\n",
        "csv[f] = standarize(csv[f])\n",
        "# ax = csv[f].plot.kde()\n",
        "csv[f] = csv[f].apply(lambda x: np.power(x,1/3))\n",
        "csv[f] = standarize(csv[f])\n",
        "# csv[f].plot.kde()\n",
        "\n"
      ],
      "execution_count": 0,
      "outputs": []
    },
    {
      "cell_type": "code",
      "metadata": {
        "id": "VDG1kldPkAYx",
        "colab_type": "code",
        "outputId": "d1048cea-11cd-45e9-bd03-57a0770d38cf",
        "colab": {}
      },
      "source": [
        "f = 'Var162'\n",
        "# print(stat(f))\n",
        "csv[f] = csv_org[f].copy()\n",
        "csv[f] = csv[f].fillna(method='ffill')\n",
        "csv[f] = csv[f].fillna(method='bfill')\n",
        "csv[f] = threshold_factorization(csv[f],10000)\n",
        "csv[f] = standarize(csv[f])\n",
        "# ax = csv[f].plot.kde()\n"
      ],
      "execution_count": 0,
      "outputs": [
        {
          "output_type": "display_data",
          "data": {
            "application/vnd.jupyter.widget-view+json": {
              "model_id": "",
              "version_major": 2,
              "version_minor": 0
            },
            "text/plain": [
              "HBox(children=(IntProgress(value=0, description='Progress', max=2, style=ProgressStyle(description_width='init…"
            ]
          },
          "metadata": {
            "tags": []
          }
        },
        {
          "output_type": "display_data",
          "data": {
            "application/vnd.jupyter.widget-view+json": {
              "model_id": "",
              "version_major": 2,
              "version_minor": 0
            },
            "text/plain": [
              "HBox(children=(IntProgress(value=0, max=1), HTML(value='')))"
            ]
          },
          "metadata": {
            "tags": []
          }
        },
        {
          "output_type": "display_data",
          "data": {
            "application/vnd.jupyter.widget-view+json": {
              "model_id": "",
              "version_major": 2,
              "version_minor": 0
            },
            "text/plain": [
              "HBox(children=(IntProgress(value=0, max=470), HTML(value='')))"
            ]
          },
          "metadata": {
            "tags": []
          }
        },
        {
          "output_type": "stream",
          "text": [
            "\r"
          ],
          "name": "stdout"
        }
      ]
    },
    {
      "cell_type": "code",
      "metadata": {
        "id": "EQvm4eBUkAYz",
        "colab_type": "code",
        "outputId": "03809548-7861-4dd4-c025-378e201c1afa",
        "colab": {}
      },
      "source": [
        "f = 'Var161'\n",
        "# print(stat(f))\n",
        "csv[f] = csv_org[f].copy()\n",
        "csv[f] = csv[f].fillna(method='ffill')\n",
        "csv[f] = csv[f].fillna(method='bfill')\n",
        "csv[f] = threshold_factorization(csv[f],10000)\n",
        "csv[f] = standarize(csv[f])\n",
        "# ax = csv[f].plot.kde()\n"
      ],
      "execution_count": 0,
      "outputs": [
        {
          "output_type": "display_data",
          "data": {
            "application/vnd.jupyter.widget-view+json": {
              "model_id": "",
              "version_major": 2,
              "version_minor": 0
            },
            "text/plain": [
              "HBox(children=(IntProgress(value=0, description='Progress', max=2, style=ProgressStyle(description_width='init…"
            ]
          },
          "metadata": {
            "tags": []
          }
        },
        {
          "output_type": "display_data",
          "data": {
            "application/vnd.jupyter.widget-view+json": {
              "model_id": "",
              "version_major": 2,
              "version_minor": 0
            },
            "text/plain": [
              "HBox(children=(IntProgress(value=0, max=1), HTML(value='')))"
            ]
          },
          "metadata": {
            "tags": []
          }
        },
        {
          "output_type": "display_data",
          "data": {
            "application/vnd.jupyter.widget-view+json": {
              "model_id": "",
              "version_major": 2,
              "version_minor": 0
            },
            "text/plain": [
              "HBox(children=(IntProgress(value=0, max=8), HTML(value='')))"
            ]
          },
          "metadata": {
            "tags": []
          }
        },
        {
          "output_type": "stream",
          "text": [
            "\r"
          ],
          "name": "stdout"
        }
      ]
    },
    {
      "cell_type": "code",
      "metadata": {
        "id": "gvyorT-hkAY1",
        "colab_type": "code",
        "colab": {}
      },
      "source": [
        "f = 'Var160'\n",
        "# print(stat(f))\n",
        "csv[f] = csv_org[f].copy()\n",
        "csv[f] = csv[f].fillna(method='ffill')\n",
        "csv[f] = csv[f].fillna(method='bfill')\n",
        "csv[f] = cast(csv[f],-100,csv[f].quantile(0.98))\n",
        "# csv[f] = threshold_factorization(csv[f],10000)\n",
        "csv[f] = standarize(csv[f])\n",
        "# ax = csv[f].plot.kde()\n",
        "csv[f] = csv[f].apply(lambda x: np.power(x,1/3))\n",
        "csv[f] = standarize(csv[f])\n",
        "# csv[f].plot.kde()\n"
      ],
      "execution_count": 0,
      "outputs": []
    },
    {
      "cell_type": "code",
      "metadata": {
        "id": "BOCvMWOikAY3",
        "colab_type": "code",
        "outputId": "7391922c-38a0-4fdf-8588-d249b9d43770",
        "colab": {}
      },
      "source": [
        "f = 'Var159'\n",
        "# print(stat(f))\n",
        "csv[f] = csv_org[f].copy()\n",
        "csv[f] = csv[f].fillna(method='ffill')\n",
        "csv[f] = csv[f].fillna(method='bfill')\n",
        "csv[f] = cast(csv[f],-100,csv[f].quantile(0.98))\n",
        "csv[f] = threshold_factorization(csv[f],10000)\n",
        "csv[f] = standarize(csv[f])\n",
        "# ax = csv[f].plot.kde()\n"
      ],
      "execution_count": 0,
      "outputs": [
        {
          "output_type": "display_data",
          "data": {
            "application/vnd.jupyter.widget-view+json": {
              "model_id": "",
              "version_major": 2,
              "version_minor": 0
            },
            "text/plain": [
              "HBox(children=(IntProgress(value=0, description='Progress', max=2, style=ProgressStyle(description_width='init…"
            ]
          },
          "metadata": {
            "tags": []
          }
        },
        {
          "output_type": "display_data",
          "data": {
            "application/vnd.jupyter.widget-view+json": {
              "model_id": "",
              "version_major": 2,
              "version_minor": 0
            },
            "text/plain": [
              "HBox(children=(IntProgress(value=0, max=1), HTML(value='')))"
            ]
          },
          "metadata": {
            "tags": []
          }
        },
        {
          "output_type": "display_data",
          "data": {
            "application/vnd.jupyter.widget-view+json": {
              "model_id": "",
              "version_major": 2,
              "version_minor": 0
            },
            "text/plain": [
              "HBox(children=(IntProgress(value=0, max=5), HTML(value='')))"
            ]
          },
          "metadata": {
            "tags": []
          }
        },
        {
          "output_type": "stream",
          "text": [
            "\r"
          ],
          "name": "stdout"
        }
      ]
    },
    {
      "cell_type": "code",
      "metadata": {
        "id": "nj6Rv_1jkAY5",
        "colab_type": "code",
        "colab": {}
      },
      "source": [
        "f = 'Var158'\n",
        "delete(f)\n"
      ],
      "execution_count": 0,
      "outputs": []
    },
    {
      "cell_type": "code",
      "metadata": {
        "id": "JwHojzv-kAY6",
        "colab_type": "code",
        "colab": {}
      },
      "source": [
        "f = 'Var157'\n",
        "# print(stat(f))\n",
        "csv[f] = csv_org[f].copy()\n",
        "csv[f] = csv[f].fillna(method='ffill')\n",
        "csv[f] = csv[f].fillna(method='bfill')\n",
        "csv[f] = cast(csv[f],-100,csv[f].quantile(0.98))\n",
        "# csv[f] = threshold_factorization(csv[f],10000)\n",
        "csv[f] = standarize(csv[f])\n",
        "# ax = csv[f].plot.kde()\n",
        "csv[f] = csv[f].apply(lambda x: np.power(x,1/3))\n",
        "csv[f] = standarize(csv[f])\n",
        "# csv[f].plot.kde()\n"
      ],
      "execution_count": 0,
      "outputs": []
    },
    {
      "cell_type": "code",
      "metadata": {
        "id": "kdAgS_nRkAY9",
        "colab_type": "code",
        "colab": {}
      },
      "source": [
        "f = 'Var156'\n",
        "# print(stat(f))\n",
        "csv[f] = csv_org[f].copy()\n",
        "csv[f] = csv[f].fillna(method='ffill')\n",
        "csv[f] = csv[f].fillna(method='bfill')\n",
        "csv[f] = cast(csv[f],-100,csv[f].quantile(0.98))\n",
        "# csv[f] = threshold_factorization(csv[f],10000)\n",
        "csv[f] = standarize(csv[f])\n",
        "# ax = csv[f].plot.kde()\n",
        "csv[f] = csv[f].apply(lambda x: np.power(x,1/3))\n",
        "csv[f] = standarize(csv[f])\n",
        "# csv[f].plot.kde()\n"
      ],
      "execution_count": 0,
      "outputs": []
    },
    {
      "cell_type": "code",
      "metadata": {
        "id": "DxLWqAlbkAY_",
        "colab_type": "code",
        "colab": {}
      },
      "source": [
        "f = 'Var155'\n",
        "delete(f)"
      ],
      "execution_count": 0,
      "outputs": []
    },
    {
      "cell_type": "code",
      "metadata": {
        "id": "MWNjt5YbkAZA",
        "colab_type": "code",
        "colab": {}
      },
      "source": [
        "f = 'Var154'\n",
        "# print(stat(f))\n",
        "csv[f] = csv_org[f].copy()\n",
        "csv[f] = csv[f].fillna(method='ffill')\n",
        "csv[f] = csv[f].fillna(method='bfill')\n",
        "csv[f] = cast(csv[f],-100,csv[f].quantile(0.98))\n",
        "# csv[f] = threshold_factorization(csv[f],10000)\n",
        "csv[f] = standarize(csv[f])\n",
        "# ax = csv[f].plot.kde()\n",
        "csv[f] = csv[f].apply(lambda x: np.power(x,1/3))\n",
        "csv[f] = standarize(csv[f])\n",
        "# csv[f].plot.kde()\n"
      ],
      "execution_count": 0,
      "outputs": []
    },
    {
      "cell_type": "code",
      "metadata": {
        "id": "lR7KnplDkAZB",
        "colab_type": "code",
        "colab": {}
      },
      "source": [
        "f = 'Var153'\n",
        "# print(stat(f))\n",
        "csv[f] = csv_org[f].copy()\n",
        "csv[f] = csv[f].fillna(method='ffill')\n",
        "csv[f] = csv[f].fillna(method='bfill')\n",
        "csv[f] = cast(csv[f],-100,csv[f].quantile(0.98))\n",
        "# csv[f] = threshold_factorization(csv[f],10000)\n",
        "csv[f] = standarize(csv[f])\n",
        "# ax = csv[f].plot.kde()"
      ],
      "execution_count": 0,
      "outputs": []
    },
    {
      "cell_type": "code",
      "metadata": {
        "id": "XvPj9guQkAZC",
        "colab_type": "code",
        "colab": {}
      },
      "source": [
        "f = 'Var152'\n",
        "# print(stat(f))\n",
        "csv[f] = csv_org[f].copy()\n",
        "csv[f] = csv[f].fillna(method='ffill')\n",
        "csv[f] = csv[f].fillna(method='bfill')\n",
        "csv[f] = cast(csv[f],-100,csv[f].quantile(0.98))\n",
        "# csv[f] = threshold_factorization(csv[f],10000)\n",
        "csv[f] = standarize(csv[f])\n",
        "# ax = csv[f].plot.kde()\n"
      ],
      "execution_count": 0,
      "outputs": []
    },
    {
      "cell_type": "code",
      "metadata": {
        "id": "SvWD8EttkAZD",
        "colab_type": "code",
        "colab": {}
      },
      "source": [
        "f = 'Var151'\n",
        "# print(stat(f))\n",
        "csv[f] = csv_org[f].copy()\n",
        "csv[f] = csv[f].fillna(method='ffill')\n",
        "csv[f] = csv[f].fillna(method='bfill')\n",
        "csv[f] = cast(csv[f],-100,csv[f].quantile(0.98))\n",
        "# csv[f] = threshold_factorization(csv[f],10000)\n",
        "csv[f] = standarize(csv[f])\n",
        "# ax = csv[f].plot.kde()\n",
        "csv[f] = csv[f].apply(lambda x: np.power(x,1/3))\n",
        "csv[f] = standarize(csv[f])\n",
        "# csv[f].plot.kde()\n"
      ],
      "execution_count": 0,
      "outputs": []
    },
    {
      "cell_type": "code",
      "metadata": {
        "id": "i-HP6s5nkAZD",
        "colab_type": "code",
        "colab": {}
      },
      "source": [
        "f = 'Var150'\n",
        "# print(stat(f))\n",
        "csv[f] = csv_org[f].copy()\n",
        "csv[f] = csv[f].fillna(method='ffill')\n",
        "csv[f] = csv[f].fillna(method='bfill')\n",
        "csv[f] = cast(csv[f],-100,csv[f].quantile(0.98))\n",
        "# csv[f] = threshold_factorization(csv[f],10000)\n",
        "csv[f] = standarize(csv[f])\n",
        "# ax = csv[f].plot.kde()\n",
        "csv[f] = csv[f].apply(lambda x: np.power(x,1/3))\n",
        "csv[f] = standarize(csv[f])\n",
        "# csv[f].plot.kde()\n"
      ],
      "execution_count": 0,
      "outputs": []
    },
    {
      "cell_type": "code",
      "metadata": {
        "id": "TZBHx8A9kAZF",
        "colab_type": "code",
        "colab": {}
      },
      "source": [
        "f = 'Var149'\n",
        "# print(stat(f))\n",
        "csv[f] = csv_org[f].copy()\n",
        "csv[f] = csv[f].fillna(method='ffill')\n",
        "csv[f] = csv[f].fillna(method='bfill')\n",
        "csv[f] = cast(csv[f],-100,csv[f].quantile(0.98))\n",
        "# csv[f] = threshold_factorization(csv[f],10000)\n",
        "csv[f] = standarize(csv[f])\n",
        "# ax = csv[f].plot.kde()\n",
        "csv[f] = csv[f].apply(lambda x: np.power(x,1/3))\n",
        "csv[f] = standarize(csv[f])\n",
        "# csv[f].plot.kde()\n"
      ],
      "execution_count": 0,
      "outputs": []
    },
    {
      "cell_type": "code",
      "metadata": {
        "id": "jCzxNlNQkAZF",
        "colab_type": "code",
        "colab": {}
      },
      "source": [
        "f = 'Var148'\n",
        "# print(stat(f))\n",
        "csv[f] = csv_org[f].copy()\n",
        "csv[f] = csv[f].fillna(method='ffill')\n",
        "csv[f] = csv[f].fillna(method='bfill')\n",
        "csv[f] = cast(csv[f],-100,csv[f].quantile(0.98))\n",
        "# csv[f] = threshold_factorization(csv[f],10000)\n",
        "csv[f] = standarize(csv[f])\n",
        "# ax = csv[f].plot.kde()\n",
        "csv[f] = csv[f].apply(lambda x: np.power(x,1/3))\n",
        "csv[f] = standarize(csv[f])\n",
        "# csv[f].plot.kde()"
      ],
      "execution_count": 0,
      "outputs": []
    },
    {
      "cell_type": "code",
      "metadata": {
        "id": "GgHC46c_kAZG",
        "colab_type": "code",
        "colab": {}
      },
      "source": [
        "f = 'Var147'\n",
        "# print(stat(f))\n",
        "csv[f] = csv_org[f].copy()\n",
        "csv[f] = csv[f].fillna(method='ffill')\n",
        "csv[f] = csv[f].fillna(method='bfill')\n",
        "csv[f] = cast(csv[f],-100,csv[f].quantile(0.98))\n",
        "# csv[f] = threshold_factorization(csv[f],10000)\n",
        "csv[f] = standarize(csv[f])\n",
        "# ax = csv[f].plot.kde()"
      ],
      "execution_count": 0,
      "outputs": []
    },
    {
      "cell_type": "code",
      "metadata": {
        "id": "C1dpOB-JkAZH",
        "colab_type": "code",
        "colab": {}
      },
      "source": [
        "f = 'Var146'\n",
        "delete(f)"
      ],
      "execution_count": 0,
      "outputs": []
    },
    {
      "cell_type": "code",
      "metadata": {
        "id": "FqOcTNKxkAZH",
        "colab_type": "code",
        "colab": {}
      },
      "source": [
        "f = 'Var145'\n",
        "# print(stat(f))\n",
        "csv[f] = csv_org[f].copy()\n",
        "csv[f] = csv[f].fillna(method='ffill')\n",
        "csv[f] = csv[f].fillna(method='bfill')\n",
        "csv[f] = cast(csv[f],-100,csv[f].quantile(0.98))\n",
        "# csv[f] = threshold_factorization(csv[f],10000)\n",
        "csv[f] = standarize(csv[f])\n",
        "# ax = csv[f].plot.kde()\n",
        "csv[f] = csv[f].apply(lambda x: np.power(x,1/3))\n",
        "csv[f] = standarize(csv[f])\n",
        "# csv[f].plot.kde()"
      ],
      "execution_count": 0,
      "outputs": []
    },
    {
      "cell_type": "code",
      "metadata": {
        "id": "VDdDzncPkAZI",
        "colab_type": "code",
        "colab": {}
      },
      "source": [
        "f = 'Var144'\n",
        "# print(stat(f))\n",
        "csv[f] = csv_org[f].copy()\n",
        "csv[f] = csv[f].fillna(method='ffill')\n",
        "csv[f] = csv[f].fillna(method='bfill')\n",
        "csv[f] = cast(csv[f],-100,csv[f].quantile(0.98))\n",
        "# csv[f] = threshold_factorization(csv[f],10000)\n",
        "csv[f] = standarize(csv[f])\n",
        "# ax = csv[f].plot.kde()"
      ],
      "execution_count": 0,
      "outputs": []
    },
    {
      "cell_type": "code",
      "metadata": {
        "id": "P3CB1Zp4kAZJ",
        "colab_type": "code",
        "colab": {}
      },
      "source": [
        "f = 'Var143'\n",
        "delete(f)"
      ],
      "execution_count": 0,
      "outputs": []
    },
    {
      "cell_type": "code",
      "metadata": {
        "id": "B647jHCikAZJ",
        "colab_type": "code",
        "colab": {}
      },
      "source": [
        "f = 'Var142'\n",
        "delete(f)"
      ],
      "execution_count": 0,
      "outputs": []
    },
    {
      "cell_type": "code",
      "metadata": {
        "id": "XQw-fTN3kAZK",
        "colab_type": "code",
        "colab": {}
      },
      "source": [
        "f = 'Var141'\n",
        "delete(f)"
      ],
      "execution_count": 0,
      "outputs": []
    },
    {
      "cell_type": "code",
      "metadata": {
        "id": "FjzTpeF7kAZL",
        "colab_type": "code",
        "colab": {}
      },
      "source": [
        "f = 'Var140'\n",
        "delete(f)"
      ],
      "execution_count": 0,
      "outputs": []
    },
    {
      "cell_type": "code",
      "metadata": {
        "id": "pc-v0yEjkAZM",
        "colab_type": "code",
        "outputId": "03392440-b1a7-4711-c42d-857982c399e9",
        "colab": {}
      },
      "source": [
        "f = 'Var139'\n",
        "# print(stat(f))\n",
        "csv[f] = csv_org[f].copy()\n",
        "csv[f] = csv[f].fillna(method='ffill')\n",
        "csv[f] = csv[f].fillna(method='bfill')\n",
        "csv[f] = cast(csv[f],-100,csv[f].quantile(0.98))\n",
        "csv[f] = threshold_factorization(csv[f],10000)\n",
        "csv[f] = standarize(csv[f])\n",
        "# ax = csv[f].plot.kde()"
      ],
      "execution_count": 0,
      "outputs": [
        {
          "output_type": "display_data",
          "data": {
            "application/vnd.jupyter.widget-view+json": {
              "model_id": "",
              "version_major": 2,
              "version_minor": 0
            },
            "text/plain": [
              "HBox(children=(IntProgress(value=0, description='Progress', max=2, style=ProgressStyle(description_width='init…"
            ]
          },
          "metadata": {
            "tags": []
          }
        },
        {
          "output_type": "display_data",
          "data": {
            "application/vnd.jupyter.widget-view+json": {
              "model_id": "",
              "version_major": 2,
              "version_minor": 0
            },
            "text/plain": [
              "HBox(children=(IntProgress(value=0, max=1), HTML(value='')))"
            ]
          },
          "metadata": {
            "tags": []
          }
        },
        {
          "output_type": "display_data",
          "data": {
            "application/vnd.jupyter.widget-view+json": {
              "model_id": "",
              "version_major": 2,
              "version_minor": 0
            },
            "text/plain": [
              "HBox(children=(IntProgress(value=0, max=637), HTML(value='')))"
            ]
          },
          "metadata": {
            "tags": []
          }
        },
        {
          "output_type": "stream",
          "text": [
            "\r"
          ],
          "name": "stdout"
        }
      ]
    },
    {
      "cell_type": "code",
      "metadata": {
        "id": "Cl32M4-ckAZN",
        "colab_type": "code",
        "colab": {}
      },
      "source": [
        "f = 'Var138'\n",
        "delete(f)"
      ],
      "execution_count": 0,
      "outputs": []
    },
    {
      "cell_type": "code",
      "metadata": {
        "id": "fYrOwbhFkAZO",
        "colab_type": "code",
        "outputId": "66b338b3-a794-43d5-e140-2d5ee18f6a60",
        "colab": {}
      },
      "source": [
        "f = 'Var137'\n",
        "# print(stat(f))\n",
        "csv[f] = csv_org[f].copy()\n",
        "csv[f] = csv[f].fillna(method='ffill')\n",
        "csv[f] = csv[f].fillna(method='bfill')\n",
        "# csv[f] = cast(csv[f],-100,csv[f].quantile(0.98))\n",
        "csv[f] = threshold_factorization(csv[f],10000)\n",
        "csv[f] = standarize(csv[f])\n",
        "# ax = csv[f].plot.kde()"
      ],
      "execution_count": 0,
      "outputs": [
        {
          "output_type": "display_data",
          "data": {
            "application/vnd.jupyter.widget-view+json": {
              "model_id": "",
              "version_major": 2,
              "version_minor": 0
            },
            "text/plain": [
              "HBox(children=(IntProgress(value=0, description='Progress', max=2, style=ProgressStyle(description_width='init…"
            ]
          },
          "metadata": {
            "tags": []
          }
        },
        {
          "output_type": "display_data",
          "data": {
            "application/vnd.jupyter.widget-view+json": {
              "model_id": "",
              "version_major": 2,
              "version_minor": 0
            },
            "text/plain": [
              "HBox(children=(IntProgress(value=0, max=1), HTML(value='')))"
            ]
          },
          "metadata": {
            "tags": []
          }
        },
        {
          "output_type": "display_data",
          "data": {
            "application/vnd.jupyter.widget-view+json": {
              "model_id": "",
              "version_major": 2,
              "version_minor": 0
            },
            "text/plain": [
              "HBox(children=(IntProgress(value=0, max=18), HTML(value='')))"
            ]
          },
          "metadata": {
            "tags": []
          }
        },
        {
          "output_type": "stream",
          "text": [
            "\r"
          ],
          "name": "stdout"
        }
      ]
    },
    {
      "cell_type": "code",
      "metadata": {
        "id": "Z1Mg3xrukAZP",
        "colab_type": "code",
        "colab": {}
      },
      "source": [
        "f = 'Var136'\n",
        "delete(f)"
      ],
      "execution_count": 0,
      "outputs": []
    },
    {
      "cell_type": "code",
      "metadata": {
        "id": "nBbPqHwlkAZP",
        "colab_type": "code",
        "colab": {}
      },
      "source": [
        "f = 'Var135'\n",
        "# print(stat(f))\n",
        "csv[f] = csv_org[f].copy()\n",
        "csv[f] = csv[f].fillna(method='ffill')\n",
        "csv[f] = csv[f].fillna(method='bfill')\n",
        "csv[f] = cast(csv[f],-100,csv[f].quantile(0.99))\n",
        "# csv[f] = threshold_factorization(csv[f],10000)\n",
        "csv[f] = standarize(csv[f])\n",
        "# ax = csv[f].plot.kde()"
      ],
      "execution_count": 0,
      "outputs": []
    },
    {
      "cell_type": "code",
      "metadata": {
        "id": "YVOQo8_lkAZR",
        "colab_type": "code",
        "colab": {}
      },
      "source": [
        "f = 'Var134'\n",
        "# print(stat(f))\n",
        "csv[f] = csv_org[f].copy()\n",
        "csv[f] = csv[f].fillna(method='ffill')\n",
        "csv[f] = csv[f].fillna(method='bfill')\n",
        "csv[f] = cast(csv[f],-100,csv[f].quantile(0.95))\n",
        "# csv[f] = threshold_factorization(csv[f],10000)\n",
        "csv[f] = standarize(csv[f])\n",
        "# ax = csv[f].plot.kde()\n",
        "csv[f] = csv[f].apply(lambda x: np.power(x,1/2))\n",
        "csv[f] = standarize(csv[f])\n",
        "# csv[f].plot.kde()"
      ],
      "execution_count": 0,
      "outputs": []
    },
    {
      "cell_type": "code",
      "metadata": {
        "id": "KJYGkuujkAZS",
        "colab_type": "code",
        "colab": {}
      },
      "source": [
        "f = 'Var133'\n",
        "# print(stat(f))\n",
        "csv[f] = csv_org[f].copy()\n",
        "csv[f] = csv[f].fillna(method='ffill')\n",
        "csv[f] = csv[f].fillna(method='bfill')\n",
        "csv[f] = cast(csv[f],-100,csv[f].quantile(0.95))\n",
        "# csv[f] = threshold_factorization(csv[f],10000)\n",
        "csv[f] = standarize(csv[f])\n",
        "# ax = csv[f].plot.kde()\n",
        "csv[f] = csv[f].apply(lambda x: np.power(x,1/2))\n",
        "csv[f] = standarize(csv[f])\n",
        "# csv[f].plot.kde()"
      ],
      "execution_count": 0,
      "outputs": []
    },
    {
      "cell_type": "code",
      "metadata": {
        "id": "S6FOOpBMkAZT",
        "colab_type": "code",
        "outputId": "6c6db28f-baa1-4166-bd80-73d7da930cdf",
        "colab": {}
      },
      "source": [
        "f = 'Var132'\n",
        "# print(stat(f))\n",
        "csv[f] = csv_org[f].copy()\n",
        "csv[f] = csv[f].fillna(method='ffill')\n",
        "csv[f] = csv[f].fillna(method='bfill')\n",
        "# csv[f] = cast(csv[f],-100,csv[f].quantile(0.95))\n",
        "csv[f] = threshold_factorization(csv[f],10000)\n",
        "csv[f] = standarize(csv[f])\n",
        "# ax = csv[f].plot.kde()"
      ],
      "execution_count": 0,
      "outputs": [
        {
          "output_type": "display_data",
          "data": {
            "application/vnd.jupyter.widget-view+json": {
              "model_id": "",
              "version_major": 2,
              "version_minor": 0
            },
            "text/plain": [
              "HBox(children=(IntProgress(value=0, description='Progress', max=2, style=ProgressStyle(description_width='init…"
            ]
          },
          "metadata": {
            "tags": []
          }
        },
        {
          "output_type": "display_data",
          "data": {
            "application/vnd.jupyter.widget-view+json": {
              "model_id": "",
              "version_major": 2,
              "version_minor": 0
            },
            "text/plain": [
              "HBox(children=(IntProgress(value=0, max=1), HTML(value='')))"
            ]
          },
          "metadata": {
            "tags": []
          }
        },
        {
          "output_type": "display_data",
          "data": {
            "application/vnd.jupyter.widget-view+json": {
              "model_id": "",
              "version_major": 2,
              "version_minor": 0
            },
            "text/plain": [
              "HBox(children=(IntProgress(value=0, max=18), HTML(value='')))"
            ]
          },
          "metadata": {
            "tags": []
          }
        },
        {
          "output_type": "stream",
          "text": [
            "\r"
          ],
          "name": "stdout"
        }
      ]
    },
    {
      "cell_type": "code",
      "metadata": {
        "id": "aUGkaj2kkAZU",
        "colab_type": "code",
        "outputId": "ee26beb2-8378-4945-c84e-4287f30e8878",
        "colab": {}
      },
      "source": [
        "f = 'Var131'\n",
        "# print(stat(f))\n",
        "csv[f] = csv_org[f].copy()\n",
        "csv[f] = csv[f].fillna(method='ffill')\n",
        "csv[f] = csv[f].fillna(method='bfill')\n",
        "# csv[f] = cast(csv[f],-100,csv[f].quantile(0.95))\n",
        "csv[f] = threshold_factorization(csv[f],10000)\n",
        "csv[f] = standarize(csv[f])\n",
        "# ax = csv[f].plot.kde()"
      ],
      "execution_count": 0,
      "outputs": [
        {
          "output_type": "display_data",
          "data": {
            "application/vnd.jupyter.widget-view+json": {
              "model_id": "",
              "version_major": 2,
              "version_minor": 0
            },
            "text/plain": [
              "HBox(children=(IntProgress(value=0, description='Progress', max=2, style=ProgressStyle(description_width='init…"
            ]
          },
          "metadata": {
            "tags": []
          }
        },
        {
          "output_type": "display_data",
          "data": {
            "application/vnd.jupyter.widget-view+json": {
              "model_id": "",
              "version_major": 2,
              "version_minor": 0
            },
            "text/plain": [
              "HBox(children=(IntProgress(value=0, max=1), HTML(value='')))"
            ]
          },
          "metadata": {
            "tags": []
          }
        },
        {
          "output_type": "display_data",
          "data": {
            "application/vnd.jupyter.widget-view+json": {
              "model_id": "",
              "version_major": 2,
              "version_minor": 0
            },
            "text/plain": [
              "HBox(children=(IntProgress(value=0, max=151), HTML(value='')))"
            ]
          },
          "metadata": {
            "tags": []
          }
        },
        {
          "output_type": "stream",
          "text": [
            "\r"
          ],
          "name": "stdout"
        }
      ]
    },
    {
      "cell_type": "code",
      "metadata": {
        "id": "J9Of0urBkAZW",
        "colab_type": "code",
        "colab": {}
      },
      "source": [
        "f = 'Var130'\n",
        "delete(f)"
      ],
      "execution_count": 0,
      "outputs": []
    },
    {
      "cell_type": "code",
      "metadata": {
        "id": "T9VAp2q9kAZW",
        "colab_type": "code",
        "colab": {}
      },
      "source": [
        "f = 'Var129'\n",
        "# print(stat(f))\n",
        "csv[f] = csv_org[f].copy()\n",
        "csv[f] = csv[f].fillna(method='ffill')\n",
        "csv[f] = csv[f].fillna(method='bfill')\n",
        "csv[f] = cast(csv[f],-100,csv[f].quantile(0.9))\n",
        "# csv[f] = threshold_factorization(csv[f],10000)\n",
        "csv[f] = standarize(csv[f])\n",
        "# ax = csv[f].plot.kde()\n",
        "csv[f] = csv[f].apply(lambda x: np.power(x,1/3))\n",
        "csv[f] = standarize(csv[f])\n",
        "# csv[f].plot.kde()"
      ],
      "execution_count": 0,
      "outputs": []
    },
    {
      "cell_type": "code",
      "metadata": {
        "id": "DQVDs0QRkAZX",
        "colab_type": "code",
        "colab": {}
      },
      "source": [
        "f = 'Var128'\n",
        "# print(stat(f))\n",
        "csv[f] = csv_org[f].copy()\n",
        "csv[f] = csv[f].fillna(method='ffill')\n",
        "csv[f] = csv[f].fillna(method='bfill')\n",
        "csv[f] = cast(csv[f],-100,csv[f].quantile(0.95))\n",
        "# csv[f] = threshold_factorization(csv[f],10000)\n",
        "csv[f] = standarize(csv[f])\n",
        "# ax = csv[f].plot.kde()\n",
        "csv[f] = csv[f].apply(lambda x: np.power(x,1/3))\n",
        "csv[f] = standarize(csv[f])\n",
        "# csv[f].plot.kde()"
      ],
      "execution_count": 0,
      "outputs": []
    },
    {
      "cell_type": "code",
      "metadata": {
        "id": "WHe-iM_vkAZY",
        "colab_type": "code",
        "outputId": "7c22b4f6-8922-43a0-ffaf-0f95198970ae",
        "colab": {}
      },
      "source": [
        "f = 'Var127'\n",
        "# print(stat(f))\n",
        "csv[f] = csv_org[f].copy()\n",
        "csv[f] = csv[f].fillna(method='ffill')\n",
        "csv[f] = csv[f].fillna(method='bfill')\n",
        "# csv[f] = cast(csv[f],-100,csv[f].quantile(0.95))\n",
        "# csv[f] = standarize(csv[f])\n",
        "csv[f] = threshold_factorization(csv[f],10000)\n",
        "csv[f] = standarize(csv[f])\n",
        "# ax = csv[f].plot.kde()"
      ],
      "execution_count": 0,
      "outputs": [
        {
          "output_type": "display_data",
          "data": {
            "application/vnd.jupyter.widget-view+json": {
              "model_id": "",
              "version_major": 2,
              "version_minor": 0
            },
            "text/plain": [
              "HBox(children=(IntProgress(value=0, description='Progress', max=2, style=ProgressStyle(description_width='init…"
            ]
          },
          "metadata": {
            "tags": []
          }
        },
        {
          "output_type": "display_data",
          "data": {
            "application/vnd.jupyter.widget-view+json": {
              "model_id": "",
              "version_major": 2,
              "version_minor": 0
            },
            "text/plain": [
              "HBox(children=(IntProgress(value=0, max=1), HTML(value='')))"
            ]
          },
          "metadata": {
            "tags": []
          }
        },
        {
          "output_type": "display_data",
          "data": {
            "application/vnd.jupyter.widget-view+json": {
              "model_id": "",
              "version_major": 2,
              "version_minor": 0
            },
            "text/plain": [
              "HBox(children=(IntProgress(value=0, max=38), HTML(value='')))"
            ]
          },
          "metadata": {
            "tags": []
          }
        },
        {
          "output_type": "stream",
          "text": [
            "\r"
          ],
          "name": "stdout"
        }
      ]
    },
    {
      "cell_type": "code",
      "metadata": {
        "id": "3-U-aaDrkAZZ",
        "colab_type": "code",
        "colab": {}
      },
      "source": [
        "f = 'Var126'\n",
        "# print(stat(f))\n",
        "csv[f] = csv_org[f].copy()\n",
        "csv[f] = csv[f].fillna(method='ffill')\n",
        "csv[f] = csv[f].fillna(method='bfill')\n",
        "csv[f] = cast(csv[f],-100,csv[f].quantile(0.95))\n",
        "# csv[f] = standarize(csv[f])\n",
        "# csv[f] = threshold_factorization(csv[f],10000)\n",
        "csv[f] = standarize(csv[f])\n",
        "# ax = csv[f].plot.kde()"
      ],
      "execution_count": 0,
      "outputs": []
    },
    {
      "cell_type": "code",
      "metadata": {
        "id": "vbLMKLodkAZZ",
        "colab_type": "code",
        "colab": {}
      },
      "source": [
        "f = 'Var125'\n",
        "# print(stat(f))\n",
        "csv[f] = csv_org[f].copy()\n",
        "csv[f] = csv[f].fillna(method='ffill')\n",
        "csv[f] = csv[f].fillna(method='bfill')\n",
        "csv[f] = cast(csv[f],-100,csv[f].quantile(0.95))\n",
        "# csv[f] = standarize(csv[f])\n",
        "# csv[f] = threshold_factorization(csv[f],10000)\n",
        "csv[f] = standarize(csv[f])\n",
        "# ax = csv[f].plot.kde()\n",
        "csv[f] = csv[f].apply(lambda x: np.power(x,1/4))\n",
        "csv[f] = standarize(csv[f])\n",
        "# csv[f].plot.kde()"
      ],
      "execution_count": 0,
      "outputs": []
    },
    {
      "cell_type": "code",
      "metadata": {
        "id": "SJA5pBwckAZa",
        "colab_type": "code",
        "outputId": "d70c91dd-bdb5-46ea-cb9e-3879c542376e",
        "colab": {}
      },
      "source": [
        "f = 'Var124'\n",
        "# print(stat(f))\n",
        "csv[f] = csv_org[f].copy()\n",
        "csv[f] = csv[f].fillna(method='ffill')\n",
        "csv[f] = csv[f].fillna(method='bfill')\n",
        "# csv[f] = cast(csv[f],-100,csv[f].quantile(0.95))\n",
        "# csv[f] = standarize(csv[f])\n",
        "csv[f] = threshold_factorization(csv[f],10000)\n",
        "csv[f] = standarize(csv[f])\n",
        "# ax = csv[f].plot.kde()"
      ],
      "execution_count": 0,
      "outputs": [
        {
          "output_type": "display_data",
          "data": {
            "application/vnd.jupyter.widget-view+json": {
              "model_id": "",
              "version_major": 2,
              "version_minor": 0
            },
            "text/plain": [
              "HBox(children=(IntProgress(value=0, description='Progress', max=2, style=ProgressStyle(description_width='init…"
            ]
          },
          "metadata": {
            "tags": []
          }
        },
        {
          "output_type": "display_data",
          "data": {
            "application/vnd.jupyter.widget-view+json": {
              "model_id": "",
              "version_major": 2,
              "version_minor": 0
            },
            "text/plain": [
              "HBox(children=(IntProgress(value=0, max=1), HTML(value='')))"
            ]
          },
          "metadata": {
            "tags": []
          }
        },
        {
          "output_type": "display_data",
          "data": {
            "application/vnd.jupyter.widget-view+json": {
              "model_id": "",
              "version_major": 2,
              "version_minor": 0
            },
            "text/plain": [
              "HBox(children=(IntProgress(value=0, max=346), HTML(value='')))"
            ]
          },
          "metadata": {
            "tags": []
          }
        },
        {
          "output_type": "stream",
          "text": [
            "\r"
          ],
          "name": "stdout"
        }
      ]
    },
    {
      "cell_type": "code",
      "metadata": {
        "id": "ZCLOptBLkAZb",
        "colab_type": "code",
        "colab": {}
      },
      "source": [
        "f = 'Var123'\n",
        "# print(stat(f))\n",
        "csv[f] = csv_org[f].copy()\n",
        "csv[f] = csv[f].fillna(method='ffill')\n",
        "csv[f] = csv[f].fillna(method='bfill')\n",
        "csv[f] = cast(csv[f],-100,csv[f].quantile(0.95))\n",
        "# csv[f] = standarize(csv[f])\n",
        "# csv[f] = threshold_factorization(csv[f],10000)\n",
        "csv[f] = standarize(csv[f])\n",
        "# ax = csv[f].plot.kde()\n",
        "csv[f] = csv[f].apply(lambda x: np.power(x,1/2))\n",
        "csv[f] = standarize(csv[f])\n",
        "# csv[f].plot.kde()"
      ],
      "execution_count": 0,
      "outputs": []
    },
    {
      "cell_type": "code",
      "metadata": {
        "id": "-XScMyvAkAZc",
        "colab_type": "code",
        "colab": {}
      },
      "source": [
        "f = 'Var122'\n",
        "delete(f)"
      ],
      "execution_count": 0,
      "outputs": []
    },
    {
      "cell_type": "code",
      "metadata": {
        "id": "6Vn1lzP8kAZd",
        "colab_type": "code",
        "outputId": "1fb9a6f8-6778-4bbb-9957-cefc55976332",
        "colab": {}
      },
      "source": [
        "f = 'Var121'\n",
        "# print(stat(f))\n",
        "csv[f] = csv_org[f].copy()\n",
        "csv[f] = csv[f].fillna(method='ffill')\n",
        "csv[f] = csv[f].fillna(method='bfill')\n",
        "# csv[f] = cast(csv[f],-100,csv[f].quantile(0.95))\n",
        "# csv[f] = standarize(csv[f])\n",
        "csv[f] = threshold_factorization(csv[f],10000)\n",
        "csv[f] = standarize(csv[f])\n",
        "# ax = csv[f].plot.kde()"
      ],
      "execution_count": 0,
      "outputs": [
        {
          "output_type": "display_data",
          "data": {
            "application/vnd.jupyter.widget-view+json": {
              "model_id": "",
              "version_major": 2,
              "version_minor": 0
            },
            "text/plain": [
              "HBox(children=(IntProgress(value=0, description='Progress', max=2, style=ProgressStyle(description_width='init…"
            ]
          },
          "metadata": {
            "tags": []
          }
        },
        {
          "output_type": "display_data",
          "data": {
            "application/vnd.jupyter.widget-view+json": {
              "model_id": "",
              "version_major": 2,
              "version_minor": 0
            },
            "text/plain": [
              "HBox(children=(IntProgress(value=0, max=1), HTML(value='')))"
            ]
          },
          "metadata": {
            "tags": []
          }
        },
        {
          "output_type": "display_data",
          "data": {
            "application/vnd.jupyter.widget-view+json": {
              "model_id": "",
              "version_major": 2,
              "version_minor": 0
            },
            "text/plain": [
              "HBox(children=(IntProgress(value=0, max=32), HTML(value='')))"
            ]
          },
          "metadata": {
            "tags": []
          }
        },
        {
          "output_type": "stream",
          "text": [
            "\r"
          ],
          "name": "stdout"
        }
      ]
    },
    {
      "cell_type": "code",
      "metadata": {
        "id": "OY9udMO_kAZe",
        "colab_type": "code",
        "outputId": "5de1a2fb-dc78-47cc-a4b8-d274c0916df0",
        "colab": {}
      },
      "source": [
        "f = 'Var120'\n",
        "# print(stat(f))\n",
        "csv[f] = csv_org[f].copy()\n",
        "csv[f] = csv[f].fillna(method='ffill')\n",
        "csv[f] = csv[f].fillna(method='bfill')\n",
        "# csv[f] = cast(csv[f],-100,csv[f].quantile(0.95))\n",
        "# csv[f] = standarize(csv[f])\n",
        "csv[f] = threshold_factorization(csv[f],10000)\n",
        "csv[f] = standarize(csv[f])\n",
        "# ax = csv[f].plot.kde()"
      ],
      "execution_count": 0,
      "outputs": [
        {
          "output_type": "display_data",
          "data": {
            "application/vnd.jupyter.widget-view+json": {
              "model_id": "",
              "version_major": 2,
              "version_minor": 0
            },
            "text/plain": [
              "HBox(children=(IntProgress(value=0, description='Progress', max=2, style=ProgressStyle(description_width='init…"
            ]
          },
          "metadata": {
            "tags": []
          }
        },
        {
          "output_type": "display_data",
          "data": {
            "application/vnd.jupyter.widget-view+json": {
              "model_id": "",
              "version_major": 2,
              "version_minor": 0
            },
            "text/plain": [
              "HBox(children=(IntProgress(value=0, max=1), HTML(value='')))"
            ]
          },
          "metadata": {
            "tags": []
          }
        },
        {
          "output_type": "display_data",
          "data": {
            "application/vnd.jupyter.widget-view+json": {
              "model_id": "",
              "version_major": 2,
              "version_minor": 0
            },
            "text/plain": [
              "HBox(children=(IntProgress(value=0, max=63), HTML(value='')))"
            ]
          },
          "metadata": {
            "tags": []
          }
        },
        {
          "output_type": "stream",
          "text": [
            "\r"
          ],
          "name": "stdout"
        }
      ]
    },
    {
      "cell_type": "code",
      "metadata": {
        "id": "QlKHTGytkAZf",
        "colab_type": "code",
        "colab": {}
      },
      "source": [
        "f = 'Var119'\n",
        "# print(stat(f))\n",
        "csv[f] = csv_org[f].copy()\n",
        "csv[f] = csv[f].fillna(method='ffill')\n",
        "csv[f] = csv[f].fillna(method='bfill')\n",
        "csv[f] = cast(csv[f],-100,csv[f].quantile(0.95))\n",
        "# csv[f] = standarize(csv[f])\n",
        "# csv[f] = threshold_factorization(csv[f],10000)\n",
        "csv[f] = standarize(csv[f])\n",
        "# ax = csv[f].plot.kde()\n",
        "csv[f] = csv[f].apply(lambda x: np.power(x,1/2))\n",
        "csv[f] = standarize(csv[f])\n",
        "# csv[f].plot.kde()"
      ],
      "execution_count": 0,
      "outputs": []
    },
    {
      "cell_type": "code",
      "metadata": {
        "id": "ucTXy6o_kAZg",
        "colab_type": "code",
        "colab": {}
      },
      "source": [
        "f = 'Var118'\n",
        "delete(f)"
      ],
      "execution_count": 0,
      "outputs": []
    },
    {
      "cell_type": "code",
      "metadata": {
        "id": "wwbPuBUtkAZh",
        "colab_type": "code",
        "outputId": "9abf58ff-b0fe-44db-8431-abb6fc30abbf",
        "colab": {}
      },
      "source": [
        "f = 'Var117'\n",
        "# print(stat(f))\n",
        "csv[f] = csv_org[f].copy()\n",
        "csv[f] = csv[f].fillna(method='ffill')\n",
        "csv[f] = csv[f].fillna(method='bfill')\n",
        "# csv[f] = cast(csv[f],-100,csv[f].quantile(0.95))\n",
        "# csv[f] = standarize(csv[f])\n",
        "csv[f] = threshold_factorization(csv[f],10000)\n",
        "csv[f] = standarize(csv[f])\n",
        "# ax = csv[f].plot.kde()"
      ],
      "execution_count": 0,
      "outputs": [
        {
          "output_type": "display_data",
          "data": {
            "application/vnd.jupyter.widget-view+json": {
              "model_id": "",
              "version_major": 2,
              "version_minor": 0
            },
            "text/plain": [
              "HBox(children=(IntProgress(value=0, description='Progress', max=2, style=ProgressStyle(description_width='init…"
            ]
          },
          "metadata": {
            "tags": []
          }
        },
        {
          "output_type": "display_data",
          "data": {
            "application/vnd.jupyter.widget-view+json": {
              "model_id": "",
              "version_major": 2,
              "version_minor": 0
            },
            "text/plain": [
              "HBox(children=(IntProgress(value=0, max=1), HTML(value='')))"
            ]
          },
          "metadata": {
            "tags": []
          }
        },
        {
          "output_type": "display_data",
          "data": {
            "application/vnd.jupyter.widget-view+json": {
              "model_id": "",
              "version_major": 2,
              "version_minor": 0
            },
            "text/plain": [
              "HBox(children=(IntProgress(value=0, max=655), HTML(value='')))"
            ]
          },
          "metadata": {
            "tags": []
          }
        },
        {
          "output_type": "stream",
          "text": [
            "\r"
          ],
          "name": "stdout"
        }
      ]
    },
    {
      "cell_type": "code",
      "metadata": {
        "id": "1cm291T6kAZi",
        "colab_type": "code",
        "colab": {}
      },
      "source": [
        "f = 'Var116'\n",
        "delete(f)"
      ],
      "execution_count": 0,
      "outputs": []
    },
    {
      "cell_type": "code",
      "metadata": {
        "id": "cY8yDl-GkAZj",
        "colab_type": "code",
        "colab": {}
      },
      "source": [
        "f = 'Var115'\n",
        "# print(stat(f))\n",
        "csv[f] = csv_org[f].copy()\n",
        "csv[f] = csv[f].fillna(method='ffill')\n",
        "csv[f] = csv[f].fillna(method='bfill')\n",
        "csv[f] = cast(csv[f],-100,csv[f].quantile(0.95))\n",
        "# csv[f] = standarize(csv[f])\n",
        "# csv[f] = threshold_factorization(csv[f],10000)\n",
        "csv[f] = standarize(csv[f])\n",
        "# ax = csv[f].plot.kde()\n",
        "csv[f] = csv[f].apply(lambda x: np.power(x,1/2))\n",
        "csv[f] = standarize(csv[f])\n",
        "# csv[f].plot.kde()"
      ],
      "execution_count": 0,
      "outputs": []
    },
    {
      "cell_type": "code",
      "metadata": {
        "id": "rgjwLpmokAZj",
        "colab_type": "code",
        "colab": {}
      },
      "source": [
        "f = 'Var114'\n",
        "# print(stat(f))\n",
        "csv[f] = csv_org[f].copy()\n",
        "csv[f] = csv[f].fillna(method='ffill')\n",
        "csv[f] = csv[f].fillna(method='bfill')\n",
        "csv[f] = cast(csv[f],-100,csv[f].quantile(0.95))\n",
        "# csv[f] = standarize(csv[f])\n",
        "# csv[f] = threshold_factorization(csv[f],10000)\n",
        "csv[f] = standarize(csv[f])\n",
        "# ax = csv[f].plot.kde()\n",
        "csv[f] = csv[f].apply(lambda x: np.power(x,1/2))\n",
        "csv[f] = standarize(csv[f])\n",
        "# csv[f].plot.kde()"
      ],
      "execution_count": 0,
      "outputs": []
    },
    {
      "cell_type": "code",
      "metadata": {
        "id": "S879dcfwkAZk",
        "colab_type": "code",
        "colab": {}
      },
      "source": [
        "f = 'Var113'\n",
        "delete(f)"
      ],
      "execution_count": 0,
      "outputs": []
    },
    {
      "cell_type": "code",
      "metadata": {
        "id": "76E_SXaykAZm",
        "colab_type": "code",
        "colab": {}
      },
      "source": [
        "f = 'Var112'\n",
        "# print(stat(f))\n",
        "csv[f] = csv_org[f].copy()\n",
        "csv[f] = csv[f].fillna(method='ffill')\n",
        "csv[f] = csv[f].fillna(method='bfill')\n",
        "csv[f] = cast(csv[f],-100,csv[f].quantile(0.95))\n",
        "# csv[f] = standarize(csv[f])\n",
        "# csv[f] = threshold_factorization(csv[f],10000)\n",
        "csv[f] = standarize(csv[f])\n",
        "# ax = csv[f].plot.kde()\n",
        "csv[f] = csv[f].apply(lambda x: np.power(x,1/2))\n",
        "csv[f] = standarize(csv[f])\n",
        "# csv[f].plot.kde()"
      ],
      "execution_count": 0,
      "outputs": []
    },
    {
      "cell_type": "code",
      "metadata": {
        "id": "FK2cuDkxkAZn",
        "colab_type": "code",
        "colab": {}
      },
      "source": [
        "f = 'Var111'\n",
        "# print(stat(f))\n",
        "csv[f] = csv_org[f].copy()\n",
        "csv[f] = csv[f].fillna(method='ffill')\n",
        "csv[f] = csv[f].fillna(method='bfill')\n",
        "csv[f] = cast(csv[f],-100,csv[f].quantile(0.95))\n",
        "# csv[f] = standarize(csv[f])\n",
        "# csv[f] = threshold_factorization(csv[f],10000)\n",
        "csv[f] = standarize(csv[f])\n",
        "# ax = csv[f].plot.kde()\n",
        "csv[f] = csv[f].apply(lambda x: np.power(x,1/3))\n",
        "csv[f] = standarize(csv[f])\n",
        "# csv[f].plot.kde()"
      ],
      "execution_count": 0,
      "outputs": []
    },
    {
      "cell_type": "code",
      "metadata": {
        "id": "v-H2K1uOkAZn",
        "colab_type": "code",
        "outputId": "0d05a34e-552b-4826-de4f-ce8a0363b53a",
        "colab": {}
      },
      "source": [
        "f = 'Var110'\n",
        "# print(stat(f))\n",
        "csv[f] = csv_org[f].copy()\n",
        "csv[f] = csv[f].fillna(method='ffill')\n",
        "csv[f] = csv[f].fillna(method='bfill')\n",
        "csv[f] = threshold_factorization(csv[f],10000)\n",
        "csv[f] = standarize(csv[f])\n",
        "# ax = csv[f].plot.kde()"
      ],
      "execution_count": 0,
      "outputs": [
        {
          "output_type": "display_data",
          "data": {
            "application/vnd.jupyter.widget-view+json": {
              "model_id": "",
              "version_major": 2,
              "version_minor": 0
            },
            "text/plain": [
              "HBox(children=(IntProgress(value=0, description='Progress', max=2, style=ProgressStyle(description_width='init…"
            ]
          },
          "metadata": {
            "tags": []
          }
        },
        {
          "output_type": "display_data",
          "data": {
            "application/vnd.jupyter.widget-view+json": {
              "model_id": "",
              "version_major": 2,
              "version_minor": 0
            },
            "text/plain": [
              "HBox(children=(IntProgress(value=0, max=1), HTML(value='')))"
            ]
          },
          "metadata": {
            "tags": []
          }
        },
        {
          "output_type": "display_data",
          "data": {
            "application/vnd.jupyter.widget-view+json": {
              "model_id": "",
              "version_major": 2,
              "version_minor": 0
            },
            "text/plain": [
              "HBox(children=(IntProgress(value=0, max=4), HTML(value='')))"
            ]
          },
          "metadata": {
            "tags": []
          }
        },
        {
          "output_type": "stream",
          "text": [
            "\r"
          ],
          "name": "stdout"
        }
      ]
    },
    {
      "cell_type": "code",
      "metadata": {
        "id": "6pEac1RTkAZp",
        "colab_type": "code",
        "colab": {}
      },
      "source": [
        "f = 'Var109'\n",
        "# print(stat(f))\n",
        "csv[f] = csv_org[f].copy()\n",
        "csv[f] = csv[f].fillna(method='ffill')\n",
        "csv[f] = csv[f].fillna(method='bfill')\n",
        "csv[f] = cast(csv[f],-100,csv[f].quantile(0.95))\n",
        "# csv[f] = standarize(csv[f])\n",
        "# csv[f] = threshold_factorization(csv[f],10000)\n",
        "csv[f] = standarize(csv[f])\n",
        "# ax = csv[f].plot.kde()\n",
        "csv[f] = csv[f].apply(lambda x: np.power(x,1/2))\n",
        "csv[f] = standarize(csv[f])\n",
        "# csv[f].plot.kde()"
      ],
      "execution_count": 0,
      "outputs": []
    },
    {
      "cell_type": "code",
      "metadata": {
        "id": "8tbzAvx7kAZp",
        "colab_type": "code",
        "colab": {}
      },
      "source": [
        "f = 'Var108'\n",
        "delete(f)"
      ],
      "execution_count": 0,
      "outputs": []
    },
    {
      "cell_type": "code",
      "metadata": {
        "id": "dQ-JOHb0kAZr",
        "colab_type": "code",
        "outputId": "b3daf371-1ec5-4580-df70-f666bacd4cc8",
        "colab": {}
      },
      "source": [
        "f = 'Var107'\n",
        "# print(stat(f))\n",
        "csv[f] = csv_org[f].copy()\n",
        "csv[f] = csv[f].fillna(method='ffill')\n",
        "csv[f] = csv[f].fillna(method='bfill')\n",
        "# csv[f] = cast(csv[f],-100,csv[f].quantile(0.95))\n",
        "# csv[f] = standarize(csv[f])\n",
        "csv[f] = threshold_factorization(csv[f],10000)\n",
        "csv[f] = standarize(csv[f])\n",
        "# plot(csv[f].sort_values(),log=False,small=True)\n",
        "# ax = csv[f].plot.kde()\n"
      ],
      "execution_count": 0,
      "outputs": [
        {
          "output_type": "display_data",
          "data": {
            "application/vnd.jupyter.widget-view+json": {
              "model_id": "",
              "version_major": 2,
              "version_minor": 0
            },
            "text/plain": [
              "HBox(children=(IntProgress(value=0, description='Progress', max=2, style=ProgressStyle(description_width='init…"
            ]
          },
          "metadata": {
            "tags": []
          }
        },
        {
          "output_type": "display_data",
          "data": {
            "application/vnd.jupyter.widget-view+json": {
              "model_id": "",
              "version_major": 2,
              "version_minor": 0
            },
            "text/plain": [
              "HBox(children=(IntProgress(value=0, max=1), HTML(value='')))"
            ]
          },
          "metadata": {
            "tags": []
          }
        },
        {
          "output_type": "display_data",
          "data": {
            "application/vnd.jupyter.widget-view+json": {
              "model_id": "",
              "version_major": 2,
              "version_minor": 0
            },
            "text/plain": [
              "HBox(children=(IntProgress(value=0, max=23), HTML(value='')))"
            ]
          },
          "metadata": {
            "tags": []
          }
        },
        {
          "output_type": "stream",
          "text": [
            "\r"
          ],
          "name": "stdout"
        }
      ]
    },
    {
      "cell_type": "code",
      "metadata": {
        "id": "pYuIv9HhkAZs",
        "colab_type": "code",
        "colab": {}
      },
      "source": [
        "f = 'Var106'\n",
        "delete(f)"
      ],
      "execution_count": 0,
      "outputs": []
    },
    {
      "cell_type": "code",
      "metadata": {
        "id": "anZS7OjLkAZs",
        "colab_type": "code",
        "colab": {}
      },
      "source": [
        "f = 'Var105'\n",
        "delete(f)"
      ],
      "execution_count": 0,
      "outputs": []
    },
    {
      "cell_type": "code",
      "metadata": {
        "id": "3FJ0L1ZDkAZu",
        "colab_type": "code",
        "outputId": "c11bd1a1-ac46-416c-ac55-0a47a9653565",
        "colab": {}
      },
      "source": [
        "f = 'Var104'\n",
        "# print(stat(f))\n",
        "csv[f] = csv_org[f].copy()\n",
        "csv[f] = csv[f].fillna(method='ffill')\n",
        "csv[f] = csv[f].fillna(method='bfill')\n",
        "# csv[f] = cast(csv[f],-100,csv[f].quantile(0.95))\n",
        "# csv[f] = standarize(csv[f])\n",
        "csv[f] = threshold_factorization(csv[f],2100)\n",
        "csv[f] = standarize(csv[f])\n",
        "# plot(csv[f].sort_values(),log=False,small=True)\n",
        "# ax = csv[f].plot.kde()\n"
      ],
      "execution_count": 0,
      "outputs": [
        {
          "output_type": "display_data",
          "data": {
            "application/vnd.jupyter.widget-view+json": {
              "model_id": "",
              "version_major": 2,
              "version_minor": 0
            },
            "text/plain": [
              "HBox(children=(IntProgress(value=0, description='Progress', max=2, style=ProgressStyle(description_width='init…"
            ]
          },
          "metadata": {
            "tags": []
          }
        },
        {
          "output_type": "display_data",
          "data": {
            "application/vnd.jupyter.widget-view+json": {
              "model_id": "",
              "version_major": 2,
              "version_minor": 0
            },
            "text/plain": [
              "HBox(children=(IntProgress(value=0, max=5), HTML(value='')))"
            ]
          },
          "metadata": {
            "tags": []
          }
        },
        {
          "output_type": "display_data",
          "data": {
            "application/vnd.jupyter.widget-view+json": {
              "model_id": "",
              "version_major": 2,
              "version_minor": 0
            },
            "text/plain": [
              "HBox(children=(IntProgress(value=0, max=57), HTML(value='')))"
            ]
          },
          "metadata": {
            "tags": []
          }
        },
        {
          "output_type": "stream",
          "text": [
            "\r"
          ],
          "name": "stdout"
        }
      ]
    },
    {
      "cell_type": "code",
      "metadata": {
        "id": "nIsZUju6kAZv",
        "colab_type": "code",
        "outputId": "1b5f83f5-f62e-4b38-9b29-1019190e2bff",
        "colab": {}
      },
      "source": [
        "f = 'Var103'\n",
        "# print(stat(f))\n",
        "csv[f] = csv_org[f].copy()\n",
        "csv[f] = csv[f].fillna(method='ffill')\n",
        "csv[f] = csv[f].fillna(method='bfill')\n",
        "# csv[f] = cast(csv[f],-100,csv[f].quantile(0.95))\n",
        "# csv[f] = standarize(csv[f])\n",
        "csv[f] = threshold_factorization(csv[f],10000)\n",
        "csv[f] = standarize(csv[f])\n",
        "# plot(csv[f].sort_values(),log=False,small=True)\n",
        "# ax = csv[f].plot.kde()\n"
      ],
      "execution_count": 0,
      "outputs": [
        {
          "output_type": "display_data",
          "data": {
            "application/vnd.jupyter.widget-view+json": {
              "model_id": "",
              "version_major": 2,
              "version_minor": 0
            },
            "text/plain": [
              "HBox(children=(IntProgress(value=0, description='Progress', max=2, style=ProgressStyle(description_width='init…"
            ]
          },
          "metadata": {
            "tags": []
          }
        },
        {
          "output_type": "display_data",
          "data": {
            "application/vnd.jupyter.widget-view+json": {
              "model_id": "",
              "version_major": 2,
              "version_minor": 0
            },
            "text/plain": [
              "HBox(children=(IntProgress(value=0, max=1), HTML(value='')))"
            ]
          },
          "metadata": {
            "tags": []
          }
        },
        {
          "output_type": "display_data",
          "data": {
            "application/vnd.jupyter.widget-view+json": {
              "model_id": "",
              "version_major": 2,
              "version_minor": 0
            },
            "text/plain": [
              "HBox(children=(IntProgress(value=0, max=38), HTML(value='')))"
            ]
          },
          "metadata": {
            "tags": []
          }
        },
        {
          "output_type": "stream",
          "text": [
            "\r"
          ],
          "name": "stdout"
        }
      ]
    },
    {
      "cell_type": "code",
      "metadata": {
        "id": "X5lgS0U9kAZx",
        "colab_type": "code",
        "colab": {}
      },
      "source": [
        "f = 'Var101'\n",
        "delete(f)"
      ],
      "execution_count": 0,
      "outputs": []
    },
    {
      "cell_type": "code",
      "metadata": {
        "id": "M826ylgHkAZz",
        "colab_type": "code",
        "colab": {}
      },
      "source": [
        "f = 'Var100'\n",
        "# print(stat(f))\n",
        "csv[f] = csv_org[f].copy()\n",
        "csv[f] = csv[f].fillna(method='ffill')\n",
        "csv[f] = csv[f].fillna(method='bfill')\n",
        "csv[f] = cast(csv[f],-100,csv[f].quantile(0.95))\n",
        "csv[f] = standarize(csv[f])\n",
        "# csv[f] = threshold_factorization(csv[f],10)\n",
        "# plot(csv[f].sort_values(),log=False,small=True)\n",
        "# # ax = csv[f].plot.kde()"
      ],
      "execution_count": 0,
      "outputs": []
    },
    {
      "cell_type": "code",
      "metadata": {
        "id": "mxguQupekAZ1",
        "colab_type": "code",
        "colab": {}
      },
      "source": [
        "f = 'Var99'\n",
        "# print(stat(f))\n",
        "csv[f] = csv_org[f].copy()\n",
        "csv[f] = csv[f].fillna(method='ffill')\n",
        "csv[f] = csv[f].fillna(method='bfill')\n",
        "csv[f] = cast(csv[f],-100,csv[f].quantile(0.99))\n",
        "csv[f] = standarize(csv[f])\n",
        "# csv[f] = threshold_factorization(csv[f],10)\n",
        "# ax = csv[f].plot.kde()\n",
        "csv[f] = csv[f].apply(lambda x: np.power(x,1/2))\n",
        "csv[f] = standarize(csv[f])\n",
        "# csv[f].plot.kde()\n",
        "# plot(csv[f].sort_values(),log=False,small=True)"
      ],
      "execution_count": 0,
      "outputs": []
    },
    {
      "cell_type": "code",
      "metadata": {
        "id": "1eUSpsn6kAZ2",
        "colab_type": "code",
        "outputId": "0e2ecb91-7762-4fab-a19f-cd709187c184",
        "colab": {}
      },
      "source": [
        "f = 'Var98'\n",
        "# print(stat(f))\n",
        "csv[f] = csv_org[f].copy()\n",
        "csv[f] = csv[f].fillna(method='ffill')\n",
        "csv[f] = csv[f].fillna(method='bfill')\n",
        "csv[f] = cast(csv[f],-100,csv[f].quantile(0.99))\n",
        "csv[f] = threshold_factorization(csv[f],100)\n",
        "csv[f] = standarize(csv[f])\n",
        "# plot(csv[f].sort_values(),log=False,small=True)\n",
        "# # ax = csv[f].plot.kde()"
      ],
      "execution_count": 0,
      "outputs": [
        {
          "output_type": "display_data",
          "data": {
            "application/vnd.jupyter.widget-view+json": {
              "model_id": "",
              "version_major": 2,
              "version_minor": 0
            },
            "text/plain": [
              "HBox(children=(IntProgress(value=0, description='Progress', max=2, style=ProgressStyle(description_width='init…"
            ]
          },
          "metadata": {
            "tags": []
          }
        },
        {
          "output_type": "display_data",
          "data": {
            "application/vnd.jupyter.widget-view+json": {
              "model_id": "",
              "version_major": 2,
              "version_minor": 0
            },
            "text/plain": [
              "HBox(children=(IntProgress(value=0, max=33), HTML(value='')))"
            ]
          },
          "metadata": {
            "tags": []
          }
        },
        {
          "output_type": "display_data",
          "data": {
            "application/vnd.jupyter.widget-view+json": {
              "model_id": "",
              "version_major": 2,
              "version_minor": 0
            },
            "text/plain": [
              "HBox(children=(IntProgress(value=0, max=78), HTML(value='')))"
            ]
          },
          "metadata": {
            "tags": []
          }
        },
        {
          "output_type": "stream",
          "text": [
            "\r"
          ],
          "name": "stdout"
        }
      ]
    },
    {
      "cell_type": "code",
      "metadata": {
        "id": "hK28Di5skAZ5",
        "colab_type": "code",
        "outputId": "1f5fe81c-1a28-44ce-8971-bfcf46c5323c",
        "colab": {}
      },
      "source": [
        "f = 'Var97'\n",
        "# print(stat(f))\n",
        "csv[f] = csv_org[f].copy()\n",
        "csv[f] = csv[f].fillna(method='ffill')\n",
        "csv[f] = csv[f].fillna(method='bfill')\n",
        "csv[f] = threshold_factorization(csv[f],10000)\n",
        "csv[f] = standarize(csv[f])"
      ],
      "execution_count": 0,
      "outputs": [
        {
          "output_type": "display_data",
          "data": {
            "application/vnd.jupyter.widget-view+json": {
              "model_id": "",
              "version_major": 2,
              "version_minor": 0
            },
            "text/plain": [
              "HBox(children=(IntProgress(value=0, description='Progress', max=2, style=ProgressStyle(description_width='init…"
            ]
          },
          "metadata": {
            "tags": []
          }
        },
        {
          "output_type": "display_data",
          "data": {
            "application/vnd.jupyter.widget-view+json": {
              "model_id": "",
              "version_major": 2,
              "version_minor": 0
            },
            "text/plain": [
              "HBox(children=(IntProgress(value=0, max=1), HTML(value='')))"
            ]
          },
          "metadata": {
            "tags": []
          }
        },
        {
          "output_type": "display_data",
          "data": {
            "application/vnd.jupyter.widget-view+json": {
              "model_id": "",
              "version_major": 2,
              "version_minor": 0
            },
            "text/plain": [
              "HBox(children=(IntProgress(value=0, max=6), HTML(value='')))"
            ]
          },
          "metadata": {
            "tags": []
          }
        },
        {
          "output_type": "stream",
          "text": [
            "\r"
          ],
          "name": "stdout"
        }
      ]
    },
    {
      "cell_type": "code",
      "metadata": {
        "id": "eZ1BDDvhkAZ6",
        "colab_type": "code",
        "colab": {}
      },
      "source": [
        "f = 'Var96'\n",
        "# print(stat(f))\n",
        "csv[f] = csv_org[f].copy()\n",
        "csv[f] = csv[f].fillna(method='ffill')\n",
        "csv[f] = csv[f].fillna(method='bfill')\n",
        "csv[f] = cast(csv[f],-100,csv[f].quantile(0.90))\n",
        "csv[f] = csv[f].apply(lambda x: np.power(x,1/2))\n",
        "csv[f] = standarize(csv[f])\n",
        "# csv[f].plot.kde()"
      ],
      "execution_count": 0,
      "outputs": []
    },
    {
      "cell_type": "code",
      "metadata": {
        "id": "v9iI6kCPkAZ7",
        "colab_type": "code",
        "colab": {}
      },
      "source": [
        "f = 'Var95'\n",
        "delete(f)"
      ],
      "execution_count": 0,
      "outputs": []
    },
    {
      "cell_type": "code",
      "metadata": {
        "id": "BV0GS5GhkAZ7",
        "colab_type": "code",
        "colab": {}
      },
      "source": [
        "f = 'Var94'\n",
        "# print(stat(f))\n",
        "csv[f] = csv_org[f].copy()\n",
        "csv[f] = csv[f].fillna(method='ffill')\n",
        "csv[f] = csv[f].fillna(method='bfill')\n",
        "csv[f] = cast(csv[f],-100,csv[f].quantile(0.99))\n",
        "csv[f] = standarize(csv[f])\n",
        "# csv[f] = threshold_factorization(csv[f],10000)\n",
        "# # plot(csv[f].sort_values(),log=False,small=True)\n",
        "# ax = csv[f].plot.kde()\n",
        "csv[f] = csv[f].apply(lambda x: np.power(x,1/3))\n",
        "csv[f] = standarize(csv[f])\n",
        "# csv[f].plot.kde()"
      ],
      "execution_count": 0,
      "outputs": []
    },
    {
      "cell_type": "code",
      "metadata": {
        "id": "lQfrQYzKkAZ9",
        "colab_type": "code",
        "colab": {}
      },
      "source": [
        "f = 'Var93'\n",
        "delete(f)"
      ],
      "execution_count": 0,
      "outputs": []
    },
    {
      "cell_type": "code",
      "metadata": {
        "id": "g4eRzMejkAZ-",
        "colab_type": "code",
        "colab": {}
      },
      "source": [
        "f = 'Var91'\n",
        "# print(stat(f))\n",
        "csv[f] = csv_org[f].copy()\n",
        "csv[f] = csv[f].fillna(method='ffill')\n",
        "csv[f] = csv[f].fillna(method='bfill')\n",
        "csv[f] = cast(csv[f],-100,csv[f].quantile(0.99))\n",
        "csv[f] = standarize(csv[f])\n",
        "# csv[f] = threshold_factorization(csv[f],20000)\n",
        "# # plot(csv[f].sort_values(),log=False,small=True)\n",
        "# # ax = csv[f].plot.kde()\n",
        "csv[f] = csv[f].apply(lambda x: np.power(x,1/3))\n",
        "csv[f] = standarize(csv[f])\n",
        "# csv[f].plot.kde()"
      ],
      "execution_count": 0,
      "outputs": []
    },
    {
      "cell_type": "code",
      "metadata": {
        "id": "l23RR2W7kAZ-",
        "colab_type": "code",
        "colab": {}
      },
      "source": [
        "f = 'Var90'\n",
        "delete(f)"
      ],
      "execution_count": 0,
      "outputs": []
    },
    {
      "cell_type": "code",
      "metadata": {
        "id": "wZP1CJ7zkAZ_",
        "colab_type": "code",
        "colab": {}
      },
      "source": [
        "f = 'Var89'\n",
        "# print(stat(f))\n",
        "csv[f] = csv_org[f]\n",
        "csv[f] = csv[f].fillna(method='ffill')\n",
        "csv[f] = csv[f].fillna(method='bfill')\n",
        "csv[f] = cast(csv[f],-100,csv[f].quantile(0.9))\n",
        "csv[f] = standarize(csv[f])\n",
        "# csv[f] = threshold_factorization(csv[f],20000)\n",
        "# # plot(csv[f].sort_values(),log=False,small=True)\n",
        "# csv[f].plot.kde()"
      ],
      "execution_count": 0,
      "outputs": []
    },
    {
      "cell_type": "code",
      "metadata": {
        "id": "KA3To3DOkAZ_",
        "colab_type": "code",
        "colab": {}
      },
      "source": [
        "f = 'Var88'\n",
        "# print(stat(f))\n",
        "csv[f] = csv_org[f]\n",
        "csv[f] = csv[f].fillna(method='ffill')\n",
        "csv[f] = csv[f].fillna(method='bfill')\n",
        "csv[f] = cast(csv[f],-100,csv[f].quantile(0.99))\n",
        "csv[f] = standarize(csv[f])\n",
        "# csv[f] = threshold_factorization(csv[f],20000)\n",
        "# # plot(csv[f].sort_values(),log=False,small=True)\n",
        "# ax = csv[f].plot.kde()\n",
        "csv[f] = csv[f].apply(lambda x: np.power(x,1/3))\n",
        "csv[f] = standarize(csv[f])\n",
        "# csv[f].plot.kde()"
      ],
      "execution_count": 0,
      "outputs": []
    },
    {
      "cell_type": "code",
      "metadata": {
        "id": "wGnHhI-AkAaA",
        "colab_type": "code",
        "colab": {}
      },
      "source": [
        "f = 'Var87'\n",
        "# print(stat(f))\n",
        "csv[f] = csv_org[f]\n",
        "csv[f] = csv[f].fillna(method='ffill')\n",
        "csv[f] = csv[f].fillna(method='bfill')\n",
        "csv[f] = cast(csv[f],-100,csv[f].quantile(0.99))\n",
        "csv[f] = standarize(csv[f])\n",
        "# csv[f] = threshold_factorization(csv[f],20000)\n",
        "# plot(csv[f].sort_values(),log=False,small=True)\n",
        "# csv[f].plot.kde()"
      ],
      "execution_count": 0,
      "outputs": []
    },
    {
      "cell_type": "code",
      "metadata": {
        "id": "whzX0v_1kAaA",
        "colab_type": "code",
        "colab": {}
      },
      "source": [
        "f = 'Var86'\n",
        "# print(stat(f))\n",
        "csv[f] = csv_org[f]\n",
        "csv[f] = csv[f].fillna(method='ffill')\n",
        "csv[f] = csv[f].fillna(method='bfill')\n",
        "csv[f] = cast(csv[f],-100,csv[f].quantile(0.99))\n",
        "csv[f] = standarize(csv[f])\n",
        "# csv[f] = threshold_factorization(csv[f],20000)\n",
        "# # plot(csv[f].sort_values(),log=False,small=True)\n",
        "# ax = csv[f].plot.kde()\n",
        "csv[f] = csv[f].apply(lambda x: np.power(x,1/3))\n",
        "csv[f] = standarize(csv[f])\n",
        "# csv[f].plot.kde()"
      ],
      "execution_count": 0,
      "outputs": []
    },
    {
      "cell_type": "code",
      "metadata": {
        "id": "JQwQWjNJkAaB",
        "colab_type": "code",
        "colab": {}
      },
      "source": [
        "f = 'Var85'\n",
        "# print(stat(f))\n",
        "csv[f] = csv_org[f]\n",
        "csv[f] = csv[f].fillna(method='ffill')\n",
        "csv[f] = csv[f].fillna(method='bfill')\n",
        "csv[f] = cast(csv[f],-100,csv[f].quantile(0.99))\n",
        "csv[f] = standarize(csv[f])\n",
        "# csv[f] = threshold_factorization(csv[f],20000)\n",
        "# ax = csv[f].plot.kde()\n",
        "csv[f] = csv[f].apply(lambda x: np.power(x,1/2))\n",
        "csv[f] = standarize(csv[f])\n",
        "# csv[f].plot.kde()"
      ],
      "execution_count": 0,
      "outputs": []
    },
    {
      "cell_type": "code",
      "metadata": {
        "id": "ow09cfRpkAaB",
        "colab_type": "code",
        "outputId": "1c1f2c6b-557d-424a-9895-ce125d09033d",
        "colab": {}
      },
      "source": [
        "f = 'Var84'\n",
        "# print(stat(f))\n",
        "csv[f] = csv_org[f]\n",
        "csv[f] = csv[f].fillna(method='ffill')\n",
        "csv[f] = csv[f].fillna(method='bfill')\n",
        "csv[f] = cast(csv[f],-100,csv[f].quantile(0.90))\n",
        "csv[f] = threshold_factorization(csv[f],20000)\n",
        "csv[f] = standarize(csv[f])\n",
        "# plot(csv[f].sort_values(),log=False,small=True)"
      ],
      "execution_count": 0,
      "outputs": [
        {
          "output_type": "display_data",
          "data": {
            "application/vnd.jupyter.widget-view+json": {
              "model_id": "",
              "version_major": 2,
              "version_minor": 0
            },
            "text/plain": [
              "HBox(children=(IntProgress(value=0, description='Progress', max=2, style=ProgressStyle(description_width='init…"
            ]
          },
          "metadata": {
            "tags": []
          }
        },
        {
          "output_type": "display_data",
          "data": {
            "application/vnd.jupyter.widget-view+json": {
              "model_id": "",
              "version_major": 2,
              "version_minor": 0
            },
            "text/plain": [
              "HBox(children=(IntProgress(value=0, max=1), HTML(value='')))"
            ]
          },
          "metadata": {
            "tags": []
          }
        },
        {
          "output_type": "display_data",
          "data": {
            "application/vnd.jupyter.widget-view+json": {
              "model_id": "",
              "version_major": 2,
              "version_minor": 0
            },
            "text/plain": [
              "HBox(children=(IntProgress(value=0, max=14), HTML(value='')))"
            ]
          },
          "metadata": {
            "tags": []
          }
        },
        {
          "output_type": "stream",
          "text": [
            "\r"
          ],
          "name": "stdout"
        }
      ]
    },
    {
      "cell_type": "code",
      "metadata": {
        "id": "-6TJybOKkAaC",
        "colab_type": "code",
        "colab": {}
      },
      "source": [
        "f = 'Var83'\n",
        "# print(stat(f))\n",
        "csv[f] = csv_org[f]\n",
        "csv[f] = csv[f].fillna(method='ffill')\n",
        "csv[f] = csv[f].fillna(method='bfill')\n",
        "csv[f] = cast(csv[f],-100,csv[f].quantile(0.93))\n",
        "csv[f] = standarize(csv[f])\n",
        "# csv[f] = threshold_factorization(csv[f],2)\n",
        "# plot(csv[f].sort_values(),log=False,small=True)\n",
        "# ax = csv[f].plot.kde()\n",
        "csv[f] = csv[f].apply(lambda x: np.power(x,1/2))\n",
        "csv[f] = standarize(csv[f])\n",
        "# csv[f].plot.kde()"
      ],
      "execution_count": 0,
      "outputs": []
    },
    {
      "cell_type": "code",
      "metadata": {
        "id": "MzUhhIX1kAaD",
        "colab_type": "code",
        "colab": {}
      },
      "source": [
        "f = 'Var82'\n",
        "# print(stat(f))\n",
        "csv[f] = csv_org[f]\n",
        "csv[f] = csv[f].fillna(method='ffill')\n",
        "csv[f] = csv[f].fillna(method='bfill')\n",
        "csv[f] = cast(csv[f],-100,csv[f].quantile(0.90))\n",
        "csv[f] = standarize(csv[f])\n",
        "# csv[f] = threshold_factorization(csv[f],2)\n",
        "# plot(csv[f].sort_values(),log=False,small=True)\n",
        "# csv[f].plot.kde()"
      ],
      "execution_count": 0,
      "outputs": []
    },
    {
      "cell_type": "code",
      "metadata": {
        "id": "Ou2AYedykAaD",
        "colab_type": "code",
        "outputId": "42c1fdf0-305e-49b0-b3e6-f1c990cc60e4",
        "colab": {}
      },
      "source": [
        "f = 'Var81'\n",
        "# print(stat(f))\n",
        "csv[f] = csv_org[f]\n",
        "csv[f] = csv[f].fillna(method='ffill')\n",
        "csv[f] = csv[f].fillna(method='bfill')\n",
        "csv[f] = cast(csv[f],-100,csv[f].quantile(0.90))\n",
        "csv[f] = standarize(csv[f])\n",
        "csv[f] = threshold_factorization(csv[f],2)\n",
        "# plot(csv[f].sort_values(),log=False,small=True)\n",
        "one_hot_encoding(f)"
      ],
      "execution_count": 0,
      "outputs": [
        {
          "output_type": "display_data",
          "data": {
            "application/vnd.jupyter.widget-view+json": {
              "model_id": "",
              "version_major": 2,
              "version_minor": 0
            },
            "text/plain": [
              "HBox(children=(IntProgress(value=0, description='Progress', max=2, style=ProgressStyle(description_width='init…"
            ]
          },
          "metadata": {
            "tags": []
          }
        },
        {
          "output_type": "display_data",
          "data": {
            "application/vnd.jupyter.widget-view+json": {
              "model_id": "",
              "version_major": 2,
              "version_minor": 0
            },
            "text/plain": [
              "HBox(children=(IntProgress(value=0, max=6269), HTML(value='')))"
            ]
          },
          "metadata": {
            "tags": []
          }
        },
        {
          "output_type": "display_data",
          "data": {
            "application/vnd.jupyter.widget-view+json": {
              "model_id": "",
              "version_major": 2,
              "version_minor": 0
            },
            "text/plain": [
              "HBox(children=(IntProgress(value=0, max=3123), HTML(value='')))"
            ]
          },
          "metadata": {
            "tags": []
          }
        },
        {
          "output_type": "stream",
          "text": [
            "\r"
          ],
          "name": "stdout"
        }
      ]
    },
    {
      "cell_type": "code",
      "metadata": {
        "id": "JTqLkAJYkAaE",
        "colab_type": "code",
        "colab": {}
      },
      "source": [
        "f = 'Var80'\n",
        "delete(f)"
      ],
      "execution_count": 0,
      "outputs": []
    },
    {
      "cell_type": "code",
      "metadata": {
        "id": "8j31vl2SkAaE",
        "colab_type": "code",
        "colab": {}
      },
      "source": [
        "f = 'Var78'\n",
        "delete(f)"
      ],
      "execution_count": 0,
      "outputs": []
    },
    {
      "cell_type": "code",
      "metadata": {
        "id": "icZAEFThkAaF",
        "colab_type": "code",
        "colab": {}
      },
      "source": [
        "f = 'Var77'\n",
        "# print(stat(f))\n",
        "csv[f] = csv_org[f]\n",
        "csv[f] = csv[f].fillna(method='ffill')\n",
        "csv[f] = csv[f].fillna(method='bfill')\n",
        "csv[f] = cast(csv[f],-100,csv[f].quantile(0.90))\n",
        "csv[f] = standarize(csv[f])\n",
        "# # plot(csv[f].sort_values(),log=False,small=True)\n",
        "# csv[f].plot.kde()"
      ],
      "execution_count": 0,
      "outputs": []
    },
    {
      "cell_type": "code",
      "metadata": {
        "id": "T_KgM0WrkAaF",
        "colab_type": "code",
        "colab": {}
      },
      "source": [
        "f = 'Var76'\n",
        "csv[f] = csv_org[f]\n",
        "csv[f] = csv[f].fillna(method='ffill')\n",
        "csv[f] = csv[f].fillna(method='bfill')\n",
        "csv[f] = cast(csv[f],-100,csv[f].quantile(0.97))\n",
        "csv[f] = standarize(csv[f])\n",
        "# # plot(csv[f].sort_values(),log=False,small=True)\n",
        "# ax = csv[f].plot.kde()\n",
        "csv[f] = csv[f].apply(lambda x: np.power(x,1/3))\n",
        "csv[f] = standarize(csv[f])\n",
        "# csv[f].plot.kde()"
      ],
      "execution_count": 0,
      "outputs": []
    },
    {
      "cell_type": "code",
      "metadata": {
        "id": "plw_H3oAkAaG",
        "colab_type": "code",
        "colab": {}
      },
      "source": [
        "f = 'Var75'\n",
        "csv[f] = csv_org[f]\n",
        "csv[f] = csv[f].fillna(method='ffill')\n",
        "csv[f] = csv[f].fillna(method='bfill')\n",
        "csv[f] = cast(csv[f],-100,csv[f].quantile(0.95))\n",
        "csv[f] = standarize(csv[f])\n",
        "# plot(csv[f].sort_values(),log=False,small=True)\n",
        "# ax = csv[f].plot.kde()\n",
        "csv[f] = csv[f].apply(lambda x: np.power(x,1/3))\n",
        "csv[f] = standarize(csv[f])\n",
        "# csv[f].plot.kde()"
      ],
      "execution_count": 0,
      "outputs": []
    },
    {
      "cell_type": "code",
      "metadata": {
        "id": "XCuYr0V9kAaG",
        "colab_type": "code",
        "outputId": "e9fbace9-4bce-4b33-c874-d7495b63d376",
        "colab": {}
      },
      "source": [
        "f = 'Var74'\n",
        "csv[f] = csv_org[f]\n",
        "csv[f] = csv[f].fillna(method='ffill')\n",
        "csv[f] = csv[f].fillna(method='bfill')\n",
        "csv[f] = cast(csv[f],-100,csv[f].quantile(0.7))\n",
        "csv[f] = threshold_factorization(csv[f],20000,10000)\n",
        "csv[f] = standarize(csv[f])\n",
        "# plot(csv[f].sort_values(),log=False,small=True)\n"
      ],
      "execution_count": 0,
      "outputs": [
        {
          "output_type": "display_data",
          "data": {
            "application/vnd.jupyter.widget-view+json": {
              "model_id": "",
              "version_major": 2,
              "version_minor": 0
            },
            "text/plain": [
              "HBox(children=(IntProgress(value=0, description='Progress', max=3, style=ProgressStyle(description_width='init…"
            ]
          },
          "metadata": {
            "tags": []
          }
        },
        {
          "output_type": "display_data",
          "data": {
            "application/vnd.jupyter.widget-view+json": {
              "model_id": "",
              "version_major": 2,
              "version_minor": 0
            },
            "text/plain": [
              "HBox(children=(IntProgress(value=0, max=1), HTML(value='')))"
            ]
          },
          "metadata": {
            "tags": []
          }
        },
        {
          "output_type": "display_data",
          "data": {
            "application/vnd.jupyter.widget-view+json": {
              "model_id": "",
              "version_major": 2,
              "version_minor": 0
            },
            "text/plain": [
              "HBox(children=(IntProgress(value=0, max=1), HTML(value='')))"
            ]
          },
          "metadata": {
            "tags": []
          }
        },
        {
          "output_type": "display_data",
          "data": {
            "application/vnd.jupyter.widget-view+json": {
              "model_id": "",
              "version_major": 2,
              "version_minor": 0
            },
            "text/plain": [
              "HBox(children=(IntProgress(value=0, max=7), HTML(value='')))"
            ]
          },
          "metadata": {
            "tags": []
          }
        },
        {
          "output_type": "stream",
          "text": [
            "\r"
          ],
          "name": "stdout"
        }
      ]
    },
    {
      "cell_type": "code",
      "metadata": {
        "id": "9vcGtyh1kAaH",
        "colab_type": "code",
        "colab": {}
      },
      "source": [
        "f = 'Var73'\n",
        "csv[f] = csv_org[f]\n",
        "csv[f] = csv[f].fillna(method='ffill')\n",
        "csv[f] = csv[f].fillna(method='bfill')\n",
        "csv[f] = cast(csv[f],-100,csv[f].quantile(0.99))\n",
        "csv[f] = standarize(csv[f])\n",
        "# plot(csv[f].sort_values(),log=False,small=True)\n",
        "# ax = csv[f].plot.kde()\n",
        "csv[f] = csv[f].apply(lambda x: np.power(x,1/2))\n",
        "csv[f] = standarize(csv[f])\n",
        "# csv[f].plot.kde()"
      ],
      "execution_count": 0,
      "outputs": []
    },
    {
      "cell_type": "code",
      "metadata": {
        "id": "kIFoQXN9kAaI",
        "colab_type": "code",
        "colab": {}
      },
      "source": [
        "f = 'Var72'\n",
        "csv[f] = csv_org[f]\n",
        "csv[f] = csv[f].fillna(method='ffill')\n",
        "csv[f] = csv[f].fillna(method='bfill')\n",
        "csv[f] = cast(csv[f],-100,csv[f].quantile(0.95))\n",
        "csv[f] = standarize(csv[f])\n",
        "# plot(csv[f].sort_values(),log=False,small=True)\n",
        "# csv[f].plot.kde()"
      ],
      "execution_count": 0,
      "outputs": []
    },
    {
      "cell_type": "code",
      "metadata": {
        "id": "i_7wRM45kAaI",
        "colab_type": "code",
        "outputId": "e5cfc1b3-9a30-4a24-e696-15a95224aa1a",
        "colab": {}
      },
      "source": [
        "f = 'Var71'\n",
        "csv[f] = csv_org[f]\n",
        "csv[f] = csv[f].fillna(method='ffill')\n",
        "csv[f] = csv[f].fillna(method='bfill')\n",
        "csv[f] = cast(csv[f],-100,csv[f].quantile(0.80))\n",
        "csv[f] = threshold_factorization(csv[f],12000,8000)\n",
        "csv[f] = standarize(csv[f])\n",
        "# plot(csv[f].sort_values(),log=False,small=True)"
      ],
      "execution_count": 0,
      "outputs": [
        {
          "output_type": "display_data",
          "data": {
            "application/vnd.jupyter.widget-view+json": {
              "model_id": "",
              "version_major": 2,
              "version_minor": 0
            },
            "text/plain": [
              "HBox(children=(IntProgress(value=0, description='Progress', max=3, style=ProgressStyle(description_width='init…"
            ]
          },
          "metadata": {
            "tags": []
          }
        },
        {
          "output_type": "display_data",
          "data": {
            "application/vnd.jupyter.widget-view+json": {
              "model_id": "",
              "version_major": 2,
              "version_minor": 0
            },
            "text/plain": [
              "HBox(children=(IntProgress(value=0, max=1), HTML(value='')))"
            ]
          },
          "metadata": {
            "tags": []
          }
        },
        {
          "output_type": "display_data",
          "data": {
            "application/vnd.jupyter.widget-view+json": {
              "model_id": "",
              "version_major": 2,
              "version_minor": 0
            },
            "text/plain": [
              "HBox(children=(IntProgress(value=0, max=1), HTML(value='')))"
            ]
          },
          "metadata": {
            "tags": []
          }
        },
        {
          "output_type": "display_data",
          "data": {
            "application/vnd.jupyter.widget-view+json": {
              "model_id": "",
              "version_major": 2,
              "version_minor": 0
            },
            "text/plain": [
              "HBox(children=(IntProgress(value=0, max=23), HTML(value='')))"
            ]
          },
          "metadata": {
            "tags": []
          }
        },
        {
          "output_type": "stream",
          "text": [
            "\r"
          ],
          "name": "stdout"
        }
      ]
    },
    {
      "cell_type": "code",
      "metadata": {
        "id": "iVqA5RAQkAaJ",
        "colab_type": "code",
        "colab": {}
      },
      "source": [
        "f = 'Var70'\n",
        "csv[f] = csv_org[f]\n",
        "csv[f] = csv[f].fillna(method='ffill')\n",
        "csv[f] = csv[f].fillna(method='bfill')\n",
        "csv[f] = cast(csv[f],-100,csv[f].quantile(0.90))\n",
        "csv[f] = standarize(csv[f])\n",
        "# # plot(csv[f].sort_values(),log=False,small=True)\n",
        "# csv[f].plot.kde()"
      ],
      "execution_count": 0,
      "outputs": []
    },
    {
      "cell_type": "code",
      "metadata": {
        "id": "76a6TAbckAaJ",
        "colab_type": "code",
        "colab": {}
      },
      "source": [
        "f = 'Var69'\n",
        "csv[f] = csv_org[f]\n",
        "csv[f] = csv[f].fillna(method='ffill')\n",
        "csv[f] = csv[f].fillna(method='bfill')\n",
        "csv[f] = cast(csv[f],-100,csv[f].quantile(0.90))\n",
        "csv[f] = standarize(csv[f])\n",
        "# # plot(csv[f].sort_values(),log=False,small=True)\n",
        "# ax = csv[f].plot.kde()\n",
        "csv[f] = csv[f].apply(lambda x: np.power(x,1/3))\n",
        "csv[f] = standarize(csv[f])\n",
        "# csv[f].plot.kde()"
      ],
      "execution_count": 0,
      "outputs": []
    },
    {
      "cell_type": "code",
      "metadata": {
        "id": "UTpoiQg3kAaK",
        "colab_type": "code",
        "outputId": "d47e0e87-2104-4248-fe52-5f7514399266",
        "colab": {}
      },
      "source": [
        "f = 'Var68'\n",
        "csv[f] = csv_org[f]\n",
        "csv[f] = csv[f].fillna(method='ffill')\n",
        "csv[f] = csv[f].fillna(method='bfill')\n",
        "csv[f] = threshold_factorization(csv[f],10000)\n",
        "csv[f] = standarize(csv[f])\n",
        "# plot(csv[f].sort_values(),log=False,small=True)"
      ],
      "execution_count": 0,
      "outputs": [
        {
          "output_type": "display_data",
          "data": {
            "application/vnd.jupyter.widget-view+json": {
              "model_id": "",
              "version_major": 2,
              "version_minor": 0
            },
            "text/plain": [
              "HBox(children=(IntProgress(value=0, description='Progress', max=2, style=ProgressStyle(description_width='init…"
            ]
          },
          "metadata": {
            "tags": []
          }
        },
        {
          "output_type": "display_data",
          "data": {
            "application/vnd.jupyter.widget-view+json": {
              "model_id": "",
              "version_major": 2,
              "version_minor": 0
            },
            "text/plain": [
              "HBox(children=(IntProgress(value=0, max=1), HTML(value='')))"
            ]
          },
          "metadata": {
            "tags": []
          }
        },
        {
          "output_type": "display_data",
          "data": {
            "application/vnd.jupyter.widget-view+json": {
              "model_id": "",
              "version_major": 2,
              "version_minor": 0
            },
            "text/plain": [
              "HBox(children=(IntProgress(value=0, max=83), HTML(value='')))"
            ]
          },
          "metadata": {
            "tags": []
          }
        },
        {
          "output_type": "stream",
          "text": [
            "\r"
          ],
          "name": "stdout"
        }
      ]
    },
    {
      "cell_type": "code",
      "metadata": {
        "id": "7viZzyuRkAaL",
        "colab_type": "code",
        "colab": {}
      },
      "source": [
        "f = 'Var67'\n",
        "delete(f)"
      ],
      "execution_count": 0,
      "outputs": []
    },
    {
      "cell_type": "code",
      "metadata": {
        "id": "sMyHKr2KkAaM",
        "colab_type": "code",
        "colab": {}
      },
      "source": [
        "f = 'Var66'\n",
        "csv[f] = csv_org[f]\n",
        "csv[f] = csv[f].fillna(method='ffill')\n",
        "csv[f] = csv[f].fillna(method='bfill')\n",
        "csv[f] = cast(csv[f],-100,csv[f].quantile(0.95))\n",
        "csv[f] = standarize(csv[f])\n",
        "# plot(csv[f].sort_values(),log=False,small=True)\n",
        "# csv[f].plot.kde()"
      ],
      "execution_count": 0,
      "outputs": []
    },
    {
      "cell_type": "code",
      "metadata": {
        "id": "12c4HHBLkAaN",
        "colab_type": "code",
        "colab": {}
      },
      "source": [
        "f = 'Var65'\n",
        "csv[f] = csv_org[f]\n",
        "csv[f] = csv[f].fillna(method='ffill')\n",
        "csv[f] = csv[f].fillna(method='bfill')\n",
        "csv[f] = cast(csv[f],-100,csv[f].quantile(0.99))\n",
        "csv[f] = standarize(csv[f])\n",
        "# plot(csv[f].sort_values(),log=False,small=True)"
      ],
      "execution_count": 0,
      "outputs": []
    },
    {
      "cell_type": "code",
      "metadata": {
        "id": "eRujRYe1kAaO",
        "colab_type": "code",
        "colab": {}
      },
      "source": [
        "f = 'Var63'\n",
        "csv[f] = csv_org[f]\n",
        "csv[f] = csv[f].fillna(method='ffill')\n",
        "csv[f] = csv[f].fillna(method='bfill')\n",
        "csv[f] = cast(csv[f],-100,csv[f].quantile(0.97))\n",
        "csv[f] = standarize(csv[f])\n",
        "# plot(csv[f].sort_values(),log=False,small=True)\n",
        "# ax = csv[f].plot.kde()\n",
        "csv[f] = csv[f].apply(lambda x: np.power(x,1/3))\n",
        "csv[f] = standarize(csv[f])\n",
        "# csv[f].plot.kde()"
      ],
      "execution_count": 0,
      "outputs": []
    },
    {
      "cell_type": "code",
      "metadata": {
        "id": "HZq58Q1ykAaP",
        "colab_type": "code",
        "outputId": "16a9113b-67b1-489a-dcf8-12e54851011f",
        "colab": {}
      },
      "source": [
        "f = 'Var62'\n",
        "csv[f] = csv_org[f]\n",
        "csv[f] = csv[f].fillna(method='ffill')\n",
        "csv[f] = csv[f].fillna(method='bfill')\n",
        "csv[f] = cast(csv[f],-100,csv[f].quantile(0.95))\n",
        "csv[f] = threshold_factorization(csv[f],20000)\n",
        "# plot(csv[f].sort_values(),log=False,small=True)"
      ],
      "execution_count": 0,
      "outputs": [
        {
          "output_type": "display_data",
          "data": {
            "application/vnd.jupyter.widget-view+json": {
              "model_id": "",
              "version_major": 2,
              "version_minor": 0
            },
            "text/plain": [
              "HBox(children=(IntProgress(value=0, description='Progress', max=2, style=ProgressStyle(description_width='init…"
            ]
          },
          "metadata": {
            "tags": []
          }
        },
        {
          "output_type": "display_data",
          "data": {
            "application/vnd.jupyter.widget-view+json": {
              "model_id": "",
              "version_major": 2,
              "version_minor": 0
            },
            "text/plain": [
              "HBox(children=(IntProgress(value=0, max=1), HTML(value='')))"
            ]
          },
          "metadata": {
            "tags": []
          }
        },
        {
          "output_type": "display_data",
          "data": {
            "application/vnd.jupyter.widget-view+json": {
              "model_id": "",
              "version_major": 2,
              "version_minor": 0
            },
            "text/plain": [
              "HBox(children=(IntProgress(value=0, max=2), HTML(value='')))"
            ]
          },
          "metadata": {
            "tags": []
          }
        },
        {
          "output_type": "stream",
          "text": [
            "\r"
          ],
          "name": "stdout"
        }
      ]
    },
    {
      "cell_type": "code",
      "metadata": {
        "id": "25_5gmv6kAaP",
        "colab_type": "code",
        "outputId": "dcf040c2-8415-4afa-d6fa-9fc957e4fcc1",
        "colab": {}
      },
      "source": [
        "f = 'Var61'\n",
        "csv[f] = csv_org[f]\n",
        "csv[f] = csv[f].fillna(method='ffill')\n",
        "csv[f] = csv[f].fillna(method='bfill')\n",
        "csv[f] = threshold_factorization(csv[f],8000,2000)\n",
        "csv[f] = standarize(csv[f])\n",
        "# plot(csv[f].sort_values(),log=False,small=True)"
      ],
      "execution_count": 0,
      "outputs": [
        {
          "output_type": "display_data",
          "data": {
            "application/vnd.jupyter.widget-view+json": {
              "model_id": "",
              "version_major": 2,
              "version_minor": 0
            },
            "text/plain": [
              "HBox(children=(IntProgress(value=0, description='Progress', max=3, style=ProgressStyle(description_width='init…"
            ]
          },
          "metadata": {
            "tags": []
          }
        },
        {
          "output_type": "display_data",
          "data": {
            "application/vnd.jupyter.widget-view+json": {
              "model_id": "",
              "version_major": 2,
              "version_minor": 0
            },
            "text/plain": [
              "HBox(children=(IntProgress(value=0, max=2), HTML(value='')))"
            ]
          },
          "metadata": {
            "tags": []
          }
        },
        {
          "output_type": "display_data",
          "data": {
            "application/vnd.jupyter.widget-view+json": {
              "model_id": "",
              "version_major": 2,
              "version_minor": 0
            },
            "text/plain": [
              "HBox(children=(IntProgress(value=0, max=3), HTML(value='')))"
            ]
          },
          "metadata": {
            "tags": []
          }
        },
        {
          "output_type": "display_data",
          "data": {
            "application/vnd.jupyter.widget-view+json": {
              "model_id": "",
              "version_major": 2,
              "version_minor": 0
            },
            "text/plain": [
              "HBox(children=(IntProgress(value=0, max=34), HTML(value='')))"
            ]
          },
          "metadata": {
            "tags": []
          }
        },
        {
          "output_type": "stream",
          "text": [
            "\r"
          ],
          "name": "stdout"
        }
      ]
    },
    {
      "cell_type": "code",
      "metadata": {
        "id": "MmOLcMVkkAaR",
        "colab_type": "code",
        "colab": {}
      },
      "source": [
        "f = 'Var60'\n",
        "csv[f] = csv_org[f]\n",
        "csv[f] = csv[f].fillna(method='ffill')\n",
        "csv[f] = csv[f].fillna(method='bfill')\n",
        "csv[f] = cast(csv[f],-100,csv[f].quantile(0.9))\n",
        "csv[f] = standarize(csv[f])\n",
        "# plot(csv[f].sort_values(),small=True)"
      ],
      "execution_count": 0,
      "outputs": []
    },
    {
      "cell_type": "code",
      "metadata": {
        "id": "8fOJFRCEkAaS",
        "colab_type": "code",
        "colab": {}
      },
      "source": [
        "f = 'Var59'\n",
        "csv[f] = csv_org[f]\n",
        "csv[f] = csv[f].fillna(method='ffill')\n",
        "csv[f] = csv[f].fillna(method='bfill')\n",
        "csv[f] = cast(csv[f],-100,csv[f].quantile(0.90))\n",
        "csv[f] = standarize(csv[f])\n",
        "# csv[f].plot.kde()"
      ],
      "execution_count": 0,
      "outputs": []
    },
    {
      "cell_type": "code",
      "metadata": {
        "id": "NXcbKQRwkAaS",
        "colab_type": "code",
        "colab": {}
      },
      "source": [
        "f = 'Var58'\n",
        "csv[f] = csv_org[f]\n",
        "csv[f] = csv[f].fillna(method='ffill')\n",
        "csv[f] = csv[f].fillna(method='bfill')\n",
        "csv[f] = cast(csv[f],-100,csv[f].quantile(0.9))\n",
        "csv[f] = standarize(csv[f])\n",
        "# # plot(csv[f].sort_values(),small=True)\n",
        "# csv[f].plot.kde()"
      ],
      "execution_count": 0,
      "outputs": []
    },
    {
      "cell_type": "code",
      "metadata": {
        "id": "v76vRcywkAaT",
        "colab_type": "code",
        "colab": {}
      },
      "source": [
        "f = 'Var57'\n",
        "csv[f] = csv_org[f]\n",
        "csv[f] = csv[f].fillna(method='ffill')\n",
        "csv[f] = csv[f].fillna(method='bfill')\n",
        "csv[f] = cast(csv[f],-100,csv[f].quantile(0.99))\n",
        "csv[f] = standarize(csv[f])\n",
        "# # plot(csv[f],small=True)"
      ],
      "execution_count": 0,
      "outputs": []
    },
    {
      "cell_type": "code",
      "metadata": {
        "id": "txMrbFfkkAaT",
        "colab_type": "code",
        "colab": {}
      },
      "source": [
        "f = 'Var56'\n",
        "csv[f] = csv_org[f]\n",
        "csv[f] = csv[f].fillna(method='ffill')\n",
        "csv[f] = csv[f].fillna(method='bfill')\n",
        "csv[f] = cast(csv[f],-100,csv[f].quantile(0.93))\n",
        "csv[f] = standarize(csv[f])\n",
        "# plot(csv[f].sort_values(),small=True)\n",
        "# ax = csv[f].plot.kde()\n",
        "csv[f] = csv[f].apply(lambda x: np.power(x,1/3))\n",
        "csv[f] = standarize(csv[f])\n",
        "# csv[f].plot.kde()"
      ],
      "execution_count": 0,
      "outputs": []
    },
    {
      "cell_type": "code",
      "metadata": {
        "id": "SnOeICVwkAaT",
        "colab_type": "code",
        "colab": {}
      },
      "source": [
        "f = 'Var54'\n",
        "csv[f] = csv_org[f]\n",
        "csv[f] = csv[f].fillna(method='ffill')\n",
        "csv[f] = csv[f].fillna(method='bfill')\n",
        "csv[f] = standarize(csv[f])\n",
        "# plot(csv[f].sort_values(),small=True)"
      ],
      "execution_count": 0,
      "outputs": []
    },
    {
      "cell_type": "code",
      "metadata": {
        "id": "P5GgRiQEkAaU",
        "colab_type": "code",
        "colab": {}
      },
      "source": [
        "f = 'Var53'\n",
        "csv[f] = csv_org[f]\n",
        "csv[f] = csv[f].fillna(method='ffill')\n",
        "csv[f] = csv[f].fillna(method='bfill')\n",
        "csv[f] = cast(csv[f],-100,csv[f].quantile(0.99))\n",
        "csv[f] = standarize(csv[f])\n",
        "# plot(csv[f].sort_values(),small=True)"
      ],
      "execution_count": 0,
      "outputs": []
    },
    {
      "cell_type": "code",
      "metadata": {
        "id": "QlIVcNGakAaU",
        "colab_type": "code",
        "colab": {}
      },
      "source": [
        "f = 'Var51'\n",
        "csv[f] = csv_org[f]\n",
        "csv[f] = csv[f].fillna(method='ffill')\n",
        "csv[f] = csv[f].fillna(method='bfill')\n",
        "csv[f] = cast(csv[f],-100,csv[f].quantile(0.99))\n",
        "csv[f] = standarize(csv[f])\n",
        "# plot(csv[f].sort_values(),small=True)"
      ],
      "execution_count": 0,
      "outputs": []
    },
    {
      "cell_type": "code",
      "metadata": {
        "id": "uO5xwkg6kAaV",
        "colab_type": "code",
        "colab": {}
      },
      "source": [
        "f = 'Var50'\n",
        "csv[f] = csv_org[f]\n",
        "csv[f] = csv[f].fillna(method='ffill')\n",
        "csv[f] = csv[f].fillna(method='bfill')\n",
        "csv[f] = standarize(csv[f])\n",
        "# plot(csv[f].sort_values(),small=True)"
      ],
      "execution_count": 0,
      "outputs": []
    },
    {
      "cell_type": "code",
      "metadata": {
        "id": "oy-naiK9kAaV",
        "colab_type": "code",
        "colab": {}
      },
      "source": [
        "f = 'Var49'\n",
        "csv[f] = csv_org[f]\n",
        "csv[f] = csv[f].fillna(method='ffill')\n",
        "csv[f] = csv[f].fillna(method='bfill')\n",
        "csv[f] = standarize(csv[f])\n",
        "# plot(csv[f].sort_values(),small=True)"
      ],
      "execution_count": 0,
      "outputs": []
    },
    {
      "cell_type": "code",
      "metadata": {
        "id": "Wj-1ClYOkAaW",
        "colab_type": "code",
        "outputId": "2c98c34b-84da-4a65-9d70-88cfa0f16233",
        "colab": {}
      },
      "source": [
        "f = 'Var47'\n",
        "csv[f] = csv_org[f]\n",
        "csv[f] = csv[f].fillna(method='ffill')\n",
        "csv[f] = csv[f].fillna(method='bfill')\n",
        "csv[f] = threshold_factorization(csv[f],100)\n",
        "csv[f] = standarize(csv[f])\n",
        "# plot(csv[f].sort_values(),small=True)"
      ],
      "execution_count": 0,
      "outputs": [
        {
          "output_type": "display_data",
          "data": {
            "application/vnd.jupyter.widget-view+json": {
              "model_id": "",
              "version_major": 2,
              "version_minor": 0
            },
            "text/plain": [
              "HBox(children=(IntProgress(value=0, description='Progress', max=2, style=ProgressStyle(description_width='init…"
            ]
          },
          "metadata": {
            "tags": []
          }
        },
        {
          "output_type": "display_data",
          "data": {
            "application/vnd.jupyter.widget-view+json": {
              "model_id": "",
              "version_major": 2,
              "version_minor": 0
            },
            "text/plain": [
              "HBox(children=(IntProgress(value=0, max=8), HTML(value='')))"
            ]
          },
          "metadata": {
            "tags": []
          }
        },
        {
          "output_type": "display_data",
          "data": {
            "application/vnd.jupyter.widget-view+json": {
              "model_id": "",
              "version_major": 2,
              "version_minor": 0
            },
            "text/plain": [
              "HBox(children=(IntProgress(value=0, max=3), HTML(value='')))"
            ]
          },
          "metadata": {
            "tags": []
          }
        },
        {
          "output_type": "stream",
          "text": [
            "\r"
          ],
          "name": "stdout"
        }
      ]
    },
    {
      "cell_type": "code",
      "metadata": {
        "id": "F5KbtTBekAaW",
        "colab_type": "code",
        "colab": {}
      },
      "source": [
        "f = 'Var46'\n",
        "csv[f] = csv_org[f]\n",
        "csv[f] = csv[f].fillna(method='ffill')\n",
        "csv[f] = csv[f].fillna(method='bfill')\n",
        "csv[f] = cast(csv[f],-100,csv[f].quantile(0.99))\n",
        "csv[f] = standarize(csv[f])\n",
        "# plot(csv[f].sort_values(),small=True)"
      ],
      "execution_count": 0,
      "outputs": []
    },
    {
      "cell_type": "code",
      "metadata": {
        "id": "LzVKJp95kAaX",
        "colab_type": "code",
        "colab": {}
      },
      "source": [
        "f = 'Var44'\n",
        "csv[f] = csv_org[f]\n",
        "csv = csv.drop(f, axis=1)"
      ],
      "execution_count": 0,
      "outputs": []
    },
    {
      "cell_type": "code",
      "metadata": {
        "id": "Mqm1zf41kAaX",
        "colab_type": "code",
        "colab": {}
      },
      "source": [
        "f = 'Var43'\n",
        "csv[f] = csv_org[f]\n",
        "csv[f] = csv[f].fillna(method='ffill')\n",
        "csv[f] = csv[f].fillna(method='bfill')\n",
        "csv[f] = cast(csv[f],-100,csv[f].quantile(0.96))\n",
        "csv[f] = standarize(csv[f])\n",
        "# plot(csv[f].sort_values(),small=True)"
      ],
      "execution_count": 0,
      "outputs": []
    },
    {
      "cell_type": "code",
      "metadata": {
        "id": "cA1WUxIXkAaY",
        "colab_type": "code",
        "colab": {}
      },
      "source": [
        "f = 'Var41'\n",
        "csv[f] = csv_org[f]\n",
        "csv[f] = csv[f].fillna(method='ffill')\n",
        "csv[f] = csv[f].fillna(method='bfill')\n",
        "csv[f] = cast(csv[f],-100,csv[f].quantile(0.99))\n",
        "csv[f] = standarize(csv[f])\n",
        "# plot(csv[f].sort_values(),small=True)"
      ],
      "execution_count": 0,
      "outputs": []
    },
    {
      "cell_type": "code",
      "metadata": {
        "id": "_zvKw54YkAaY",
        "colab_type": "code",
        "colab": {}
      },
      "source": [
        "f = 'Var40'\n",
        "csv[f] = csv_org[f]\n",
        "csv[f] = csv[f].fillna(method='ffill')\n",
        "csv[f] = csv[f].fillna(method='bfill')\n",
        "csv[f] = cast(csv[f],-100,csv[f].quantile(0.95))\n",
        "csv[f] = standarize(csv[f])\n",
        "# plot(csv[f].sort_values(),small=True)"
      ],
      "execution_count": 0,
      "outputs": []
    },
    {
      "cell_type": "code",
      "metadata": {
        "id": "9q6KkPPxkAaZ",
        "colab_type": "code",
        "colab": {}
      },
      "source": [
        "f = 'Var38'\n",
        "csv[f] = csv_org[f]\n",
        "csv = csv.drop(f, axis=1)"
      ],
      "execution_count": 0,
      "outputs": []
    },
    {
      "cell_type": "code",
      "metadata": {
        "id": "UyfkHDedkAaa",
        "colab_type": "code",
        "outputId": "0593be78-3b52-47a8-fad9-d1233cfc2e59",
        "colab": {}
      },
      "source": [
        "f = 'Var37'\n",
        "csv[f] = csv_org[f]\n",
        "stat(f)\n",
        "csv[f] = csv[f].fillna(method='ffill')\n",
        "csv[f] = csv[f].fillna(method='bfill')\n",
        "csv[f] = threshold_factorization(csv[f],9000,6000)\n",
        "# plot(csv[f].sort_values(),log=False,small=True)\n",
        "one_hot_encoding(f)"
      ],
      "execution_count": 0,
      "outputs": [
        {
          "output_type": "stream",
          "text": [
            "min: 0.0\n",
            "max: 11635020.0\n",
            "nans: 48421\n",
            "unique: 551\n",
            "val_type: <class 'numpy.float64'>\n",
            "vals per class: 2.87\n"
          ],
          "name": "stdout"
        },
        {
          "output_type": "display_data",
          "data": {
            "application/vnd.jupyter.widget-view+json": {
              "model_id": "",
              "version_major": 2,
              "version_minor": 0
            },
            "text/plain": [
              "HBox(children=(IntProgress(value=0, description='Progress', max=3, style=ProgressStyle(description_width='init…"
            ]
          },
          "metadata": {
            "tags": []
          }
        },
        {
          "output_type": "display_data",
          "data": {
            "application/vnd.jupyter.widget-view+json": {
              "model_id": "",
              "version_major": 2,
              "version_minor": 0
            },
            "text/plain": [
              "HBox(children=(IntProgress(value=0, max=1), HTML(value='')))"
            ]
          },
          "metadata": {
            "tags": []
          }
        },
        {
          "output_type": "display_data",
          "data": {
            "application/vnd.jupyter.widget-view+json": {
              "model_id": "",
              "version_major": 2,
              "version_minor": 0
            },
            "text/plain": [
              "HBox(children=(IntProgress(value=1, bar_style='info', max=1), HTML(value='')))"
            ]
          },
          "metadata": {
            "tags": []
          }
        },
        {
          "output_type": "display_data",
          "data": {
            "application/vnd.jupyter.widget-view+json": {
              "model_id": "",
              "version_major": 2,
              "version_minor": 0
            },
            "text/plain": [
              "HBox(children=(IntProgress(value=0, max=549), HTML(value='')))"
            ]
          },
          "metadata": {
            "tags": []
          }
        },
        {
          "output_type": "stream",
          "text": [
            "\r"
          ],
          "name": "stdout"
        }
      ]
    },
    {
      "cell_type": "code",
      "metadata": {
        "id": "R7ANpaDnkAae",
        "colab_type": "code",
        "outputId": "9cb7ab13-5424-4dd6-f8ce-e0bccce74879",
        "colab": {}
      },
      "source": [
        "f = 'Var36'\n",
        "csv[f] = csv_org[f]\n",
        "csv[f] = csv[f].fillna(method='ffill')\n",
        "csv[f] = csv[f].fillna(method='bfill')\n",
        "csv[f] = threshold_factorization(csv[f],23)\n",
        "# plot(csv[f],sort=True,small=True)\n",
        "one_hot_encoding(f)"
      ],
      "execution_count": 0,
      "outputs": [
        {
          "output_type": "display_data",
          "data": {
            "application/vnd.jupyter.widget-view+json": {
              "model_id": "",
              "version_major": 2,
              "version_minor": 0
            },
            "text/plain": [
              "HBox(children=(IntProgress(value=0, description='Progress', max=2, style=ProgressStyle(description_width='init…"
            ]
          },
          "metadata": {
            "tags": []
          }
        },
        {
          "output_type": "display_data",
          "data": {
            "application/vnd.jupyter.widget-view+json": {
              "model_id": "",
              "version_major": 2,
              "version_minor": 0
            },
            "text/plain": [
              "HBox(children=(IntProgress(value=0, max=294), HTML(value='')))"
            ]
          },
          "metadata": {
            "tags": []
          }
        },
        {
          "output_type": "display_data",
          "data": {
            "application/vnd.jupyter.widget-view+json": {
              "model_id": "",
              "version_major": 2,
              "version_minor": 0
            },
            "text/plain": [
              "HBox(children=(IntProgress(value=0, max=237), HTML(value='')))"
            ]
          },
          "metadata": {
            "tags": []
          }
        },
        {
          "output_type": "stream",
          "text": [
            "\r"
          ],
          "name": "stdout"
        }
      ]
    },
    {
      "cell_type": "code",
      "metadata": {
        "id": "0a1tSB76kAaf",
        "colab_type": "code",
        "colab": {}
      },
      "source": [
        "f = 'Var35'\n",
        "csv[f] = csv_org[f]\n",
        "csv[f] = csv[f].fillna(method='ffill')\n",
        "csv[f] = csv[f].fillna(method='bfill')\n",
        "csv[f] = standarize(csv[f])\n",
        "# plot(csv[f].sort_values(),small=True)"
      ],
      "execution_count": 0,
      "outputs": []
    },
    {
      "cell_type": "code",
      "metadata": {
        "id": "p8PW3LXhkAag",
        "colab_type": "code",
        "colab": {}
      },
      "source": [
        "f = 'Var34'\n",
        "csv[f] = csv_org[f]\n",
        "csv[f] = csv[f].fillna(method='ffill')\n",
        "csv[f] = csv[f].fillna(method='bfill')\n",
        "csv[f] = standarize(csv[f])\n",
        "# plot(csv[f].sort_values(),small=True)"
      ],
      "execution_count": 0,
      "outputs": []
    },
    {
      "cell_type": "code",
      "metadata": {
        "id": "bMOy1cHZkAag",
        "colab_type": "code",
        "colab": {}
      },
      "source": [
        "f = 'Var33'\n",
        "delete(f)"
      ],
      "execution_count": 0,
      "outputs": []
    },
    {
      "cell_type": "code",
      "metadata": {
        "id": "_RuL2z5SkAah",
        "colab_type": "code",
        "colab": {}
      },
      "source": [
        "f = 'Var30'\n",
        "csv[f] = csv_org[f]\n",
        "csv[f] = csv[f].fillna(method='ffill')\n",
        "csv[f] = csv[f].fillna(method='bfill')\n",
        "csv[f] = standarize(csv[f])\n",
        "# plot(csv[f].sort_values(),small=True)"
      ],
      "execution_count": 0,
      "outputs": []
    },
    {
      "cell_type": "code",
      "metadata": {
        "id": "Lau1V7WakAaj",
        "colab_type": "code",
        "colab": {}
      },
      "source": [
        "f = 'Var29'\n",
        "csv[f] = csv_org[f]\n",
        "csv[f] = csv[f].fillna(method='ffill')\n",
        "csv[f] = csv[f].fillna(method='bfill')\n",
        "csv[f] = standarize(csv[f])"
      ],
      "execution_count": 0,
      "outputs": []
    },
    {
      "cell_type": "code",
      "metadata": {
        "id": "EMQTMwAHkAaj",
        "colab_type": "code",
        "outputId": "1707f921-19d8-4458-c5c5-1f450e48bed7",
        "colab": {}
      },
      "source": [
        "f = 'Var28'\n",
        "csv[f] = csv_org[f]\n",
        "csv[f] = csv[f].fillna(method='ffill')\n",
        "csv[f] = csv[f].fillna(method='bfill')\n",
        "csv[f] = threshold_factorization(csv[f],100)\n",
        "csv[f] = standarize(csv[f])"
      ],
      "execution_count": 0,
      "outputs": [
        {
          "output_type": "display_data",
          "data": {
            "application/vnd.jupyter.widget-view+json": {
              "model_id": "",
              "version_major": 2,
              "version_minor": 0
            },
            "text/plain": [
              "HBox(children=(IntProgress(value=0, description='Progress', max=2, style=ProgressStyle(description_width='init…"
            ]
          },
          "metadata": {
            "tags": []
          }
        },
        {
          "output_type": "display_data",
          "data": {
            "application/vnd.jupyter.widget-view+json": {
              "model_id": "",
              "version_major": 2,
              "version_minor": 0
            },
            "text/plain": [
              "HBox(children=(IntProgress(value=0, max=32), HTML(value='')))"
            ]
          },
          "metadata": {
            "tags": []
          }
        },
        {
          "output_type": "display_data",
          "data": {
            "application/vnd.jupyter.widget-view+json": {
              "model_id": "",
              "version_major": 2,
              "version_minor": 0
            },
            "text/plain": [
              "HBox(children=(IntProgress(value=0, max=4135), HTML(value='')))"
            ]
          },
          "metadata": {
            "tags": []
          }
        },
        {
          "output_type": "stream",
          "text": [
            "\r"
          ],
          "name": "stdout"
        }
      ]
    },
    {
      "cell_type": "code",
      "metadata": {
        "id": "ZEMWCMk7kAak",
        "colab_type": "code",
        "colab": {}
      },
      "source": [
        "f = 'Var27'\n",
        "csv[f] = csv_org[f]\n",
        "csv[f] = csv[f].fillna(method='ffill')\n",
        "csv[f] = csv[f].fillna(method='bfill')\n",
        "csv[f] = standarize(csv[f])\n",
        "# plot(csv[f].sort_values(),small=True)\n"
      ],
      "execution_count": 0,
      "outputs": []
    },
    {
      "cell_type": "code",
      "metadata": {
        "id": "uX4FFhNWkAal",
        "colab_type": "code",
        "colab": {}
      },
      "source": [
        "f = 'Var26'\n",
        "csv[f] = csv_org[f]\n",
        "csv[f] = csv[f].fillna(method='ffill')\n",
        "csv[f] = csv[f].fillna(method='bfill')\n",
        "csv[f] = standarize(csv[f])\n",
        "# plot(csv[f].sort_values(),small=True)\n"
      ],
      "execution_count": 0,
      "outputs": []
    },
    {
      "cell_type": "code",
      "metadata": {
        "id": "r2SBj2kukAal",
        "colab_type": "code",
        "colab": {}
      },
      "source": [
        "f = 'Var25'\n",
        "csv[f] = csv_org[f]\n",
        "csv[f] = csv[f].fillna(method='ffill')\n",
        "csv[f] = csv[f].fillna(method='bfill')\n",
        "csv[f] = cast(csv[f],-100,csv[f].quantile(0.99))\n",
        "csv[f] = standarize(csv[f])\n",
        "# plot(csv[f].sort_values(),small=True)\n"
      ],
      "execution_count": 0,
      "outputs": []
    },
    {
      "cell_type": "code",
      "metadata": {
        "id": "rl6rFHztkAam",
        "colab_type": "code",
        "colab": {}
      },
      "source": [
        "f = 'Var24'\n",
        "csv[f] = csv_org[f]\n",
        "csv[f] = csv[f].fillna(method='ffill')\n",
        "csv[f] = csv[f].fillna(method='bfill')\n",
        "csv[f] = cast(csv[f],-100,csv[f].quantile(0.98))\n",
        "csv[f] = standarize(csv[f])\n",
        "# plot(csv[f].sort_values(),small=True)"
      ],
      "execution_count": 0,
      "outputs": []
    },
    {
      "cell_type": "code",
      "metadata": {
        "id": "Zk1Y_LnPkAam",
        "colab_type": "code",
        "colab": {}
      },
      "source": [
        "f = 'Var23'\n",
        "csv[f] = csv_org[f]\n",
        "csv[f] = csv[f].fillna(method='ffill')\n",
        "csv[f] = csv[f].fillna(method='bfill')\n",
        "csv[f] = standarize(csv[f])\n",
        "# plot(csv[f].sort_values(),small=True)"
      ],
      "execution_count": 0,
      "outputs": []
    },
    {
      "cell_type": "code",
      "metadata": {
        "id": "oK25LaqpkAan",
        "colab_type": "code",
        "colab": {}
      },
      "source": [
        "f = 'Var22'\n",
        "csv[f] = csv_org[f]\n",
        "csv = csv.drop(f, axis=1)"
      ],
      "execution_count": 0,
      "outputs": []
    },
    {
      "cell_type": "code",
      "metadata": {
        "id": "z4-Q8fOwkAao",
        "colab_type": "code",
        "colab": {}
      },
      "source": [
        "f = 'Var21'\n",
        "csv[f] = csv_org[f]\n",
        "csv[f] = csv[f].fillna(method='ffill')\n",
        "csv[f] = csv[f].fillna(method='bfill')\n",
        "csv[f] = cast(csv[f],-100,csv[f].quantile(0.98))\n",
        "csv[f] = standarize(csv[f])\n",
        "# plot(csv[f].sort_values(),small=True)"
      ],
      "execution_count": 0,
      "outputs": []
    },
    {
      "cell_type": "code",
      "metadata": {
        "id": "aXcVG0c3kAap",
        "colab_type": "code",
        "colab": {}
      },
      "source": [
        "f = 'Var19'\n",
        "csv[f] = csv_org[f]\n",
        "csv[f] = csv[f].fillna(method='ffill')\n",
        "csv[f] = csv[f].fillna(method='bfill')\n",
        "csv[f] = standarize(csv[f])\n",
        "# plot(csv[f].sort_values(),small=True)"
      ],
      "execution_count": 0,
      "outputs": []
    },
    {
      "cell_type": "code",
      "metadata": {
        "id": "Zt3H4wvXkAap",
        "colab_type": "code",
        "colab": {}
      },
      "source": [
        "f = 'Var18'\n",
        "csv[f] = csv_org[f]\n",
        "csv[f] = csv[f].fillna(method='ffill')\n",
        "csv[f] = csv[f].fillna(method='bfill')\n",
        "csv[f] = standarize(csv[f])\n",
        "csv[f] = cast(csv[f],-100,696)\n",
        "# plot(csv[f].sort_values(),small=True)"
      ],
      "execution_count": 0,
      "outputs": []
    },
    {
      "cell_type": "code",
      "metadata": {
        "id": "gqygE60akAaq",
        "colab_type": "code",
        "colab": {}
      },
      "source": [
        "f = 'Var17'\n",
        "csv[f] = csv_org[f]\n",
        "csv[f] = csv[f].fillna(method='ffill')\n",
        "csv[f] = csv[f].fillna(method='bfill')\n",
        "csv[f] = cast(csv[f],-100,185)\n",
        "csv[f] = standarize(csv[f])\n",
        "# plot(csv[f].sort_values(),small=True)"
      ],
      "execution_count": 0,
      "outputs": []
    },
    {
      "cell_type": "code",
      "metadata": {
        "scrolled": false,
        "id": "4Zp1R2efkAar",
        "colab_type": "code",
        "colab": {}
      },
      "source": [
        "f = 'Var16'\n",
        "csv[f] = csv_org[f]\n",
        "csv[f] = csv[f].fillna(method='ffill')\n",
        "csv[f] = csv[f].fillna(method='bfill')\n",
        "csv[f] = standarize(csv[f])\n",
        "# plot(csv[f].sort_values(),small=True)"
      ],
      "execution_count": 0,
      "outputs": []
    },
    {
      "cell_type": "code",
      "metadata": {
        "id": "AbxiR8fekAas",
        "colab_type": "code",
        "outputId": "63ad452b-a963-4cd9-ebcf-0b1f289e7481",
        "colab": {}
      },
      "source": [
        "f = 'Var14'\n",
        "csv[f] = csv_org[f]\n",
        "csv[f] = csv[f].fillna(method='ffill')\n",
        "csv[f] = csv[f].fillna(method='bfill')\n",
        "csv[f] = threshold_factorization(csv[f],2000)\n",
        "csv[f] = standarize(csv[f])\n",
        "# plot(csv[f].sort_values(),small=True)"
      ],
      "execution_count": 0,
      "outputs": [
        {
          "output_type": "display_data",
          "data": {
            "application/vnd.jupyter.widget-view+json": {
              "model_id": "",
              "version_major": 2,
              "version_minor": 0
            },
            "text/plain": [
              "HBox(children=(IntProgress(value=0, description='Progress', max=2, style=ProgressStyle(description_width='init…"
            ]
          },
          "metadata": {
            "tags": []
          }
        },
        {
          "output_type": "display_data",
          "data": {
            "application/vnd.jupyter.widget-view+json": {
              "model_id": "",
              "version_major": 2,
              "version_minor": 0
            },
            "text/plain": [
              "HBox(children=(IntProgress(value=0, max=1), HTML(value='')))"
            ]
          },
          "metadata": {
            "tags": []
          }
        },
        {
          "output_type": "display_data",
          "data": {
            "application/vnd.jupyter.widget-view+json": {
              "model_id": "",
              "version_major": 2,
              "version_minor": 0
            },
            "text/plain": [
              "HBox(children=(IntProgress(value=0, max=18), HTML(value='')))"
            ]
          },
          "metadata": {
            "tags": []
          }
        },
        {
          "output_type": "stream",
          "text": [
            "\r"
          ],
          "name": "stdout"
        }
      ]
    },
    {
      "cell_type": "code",
      "metadata": {
        "id": "PxOa1GetkAav",
        "colab_type": "code",
        "colab": {}
      },
      "source": [
        "f = 'Var13'\n",
        "csv[f] = csv_org[f]\n",
        "csv[f] = csv[f].fillna(csv[f].mode(dropna = True)[0])\n",
        "csv[f] = cast(csv[f],-100,5000)\n",
        "csv[f] = standarize(csv[f])\n",
        "# plot(csv[f].sort_values(),small=True)"
      ],
      "execution_count": 0,
      "outputs": []
    },
    {
      "cell_type": "code",
      "metadata": {
        "id": "jThsUpr-kAav",
        "colab_type": "code",
        "colab": {}
      },
      "source": [
        "f = 'Var12'\n",
        "csv[f] = csv_org[f]\n",
        "csv[f] = csv[f].fillna(method='ffill')\n",
        "csv[f] = csv[f].fillna(method='bfill')\n",
        "csv[f] = cast(csv[f],-100,64)\n",
        "csv[f] = standarize(csv[f])\n",
        "# plot(csv[f].sort_values(),small=True)"
      ],
      "execution_count": 0,
      "outputs": []
    },
    {
      "cell_type": "code",
      "metadata": {
        "id": "ZDOLXVRGkAav",
        "colab_type": "code",
        "outputId": "d9409813-bea5-45a4-adf5-f72608ac9d19",
        "colab": {}
      },
      "source": [
        "f = 'Var11'\n",
        "stat(f)\n",
        "csv[f] = csv_org[f]\n",
        "csv[f] = csv[f].fillna(method='ffill')\n",
        "csv[f] = csv[f].fillna(method='bfill')\n",
        "csv[f] = standarize(csv[f])\n",
        "# plot(csv[f].sort_values(),small=True)"
      ],
      "execution_count": 0,
      "outputs": [
        {
          "output_type": "stream",
          "text": [
            "min: 8.0\n",
            "max: 40.0\n",
            "nans: 48760\n",
            "unique: 6\n",
            "val_type: <class 'numpy.float64'>\n",
            "vals per class: 206.67\n"
          ],
          "name": "stdout"
        }
      ]
    },
    {
      "cell_type": "code",
      "metadata": {
        "id": "SehnvhQMkAaw",
        "colab_type": "code",
        "outputId": "f4bfd711-8260-4928-d508-e773b8065ef5",
        "colab": {}
      },
      "source": [
        "f = 'Var10'\n",
        "csv[f] = csv_org[f]\n",
        "csv[f] = csv[f].fillna(csv[f].median())\n",
        "csv[f] = threshold_factorization(csv[f],1)\n",
        "csv[f] = standarize(csv[f])\n",
        "# plot(csv[f].sort_values(),small=True)"
      ],
      "execution_count": 0,
      "outputs": [
        {
          "output_type": "display_data",
          "data": {
            "application/vnd.jupyter.widget-view+json": {
              "model_id": "",
              "version_major": 2,
              "version_minor": 0
            },
            "text/plain": [
              "HBox(children=(IntProgress(value=0, description='Progress', max=2, style=ProgressStyle(description_width='init…"
            ]
          },
          "metadata": {
            "tags": []
          }
        },
        {
          "output_type": "display_data",
          "data": {
            "application/vnd.jupyter.widget-view+json": {
              "model_id": "",
              "version_major": 2,
              "version_minor": 0
            },
            "text/plain": [
              "HBox(children=(IntProgress(value=0, max=11), HTML(value='')))"
            ]
          },
          "metadata": {
            "tags": []
          }
        },
        {
          "output_type": "display_data",
          "data": {
            "application/vnd.jupyter.widget-view+json": {
              "model_id": "",
              "version_major": 2,
              "version_minor": 0
            },
            "text/plain": [
              "HBox(children=(IntProgress(value=0, max=523), HTML(value='')))"
            ]
          },
          "metadata": {
            "tags": []
          }
        },
        {
          "output_type": "stream",
          "text": [
            "\r"
          ],
          "name": "stdout"
        }
      ]
    },
    {
      "cell_type": "code",
      "metadata": {
        "id": "t2jpWF1skAaw",
        "colab_type": "code",
        "colab": {}
      },
      "source": [
        "f = 'Var9'\n",
        "csv[f] = csv_org[f]\n",
        "csv[f] = csv[f].fillna(method='ffill')\n",
        "csv[f] = csv[f].fillna(csv[f].median())\n",
        "csv[f] = standarize(csv[f])\n",
        "# plot(csv[f].sort_values(),small=True)"
      ],
      "execution_count": 0,
      "outputs": []
    },
    {
      "cell_type": "code",
      "metadata": {
        "id": "pt22cXEkkAax",
        "colab_type": "code",
        "colab": {}
      },
      "source": [
        "f = 'Var7'\n",
        "csv[f] = csv_org[f]\n",
        "csv[f] = csv[f].fillna(method='ffill')\n",
        "csv[f] = csv[f].fillna(csv[f].mode(dropna = True)[0])\n",
        "csv[f] = cast(csv[f],-100,56)\n",
        "csv[f] = standarize(csv[f])\n",
        "# plot(csv[f].sort_values(),small=True)"
      ],
      "execution_count": 0,
      "outputs": []
    },
    {
      "cell_type": "code",
      "metadata": {
        "id": "DCHvVaM2kAay",
        "colab_type": "code",
        "colab": {}
      },
      "source": [
        "f = 'Var6'\n",
        "csv[f] = csv_org[f]\n",
        "csv[f] = csv[f].fillna(method='ffill')\n",
        "csv[f] = csv[f].fillna(csv[f].mode(dropna = True)[0])\n",
        "csv[f] = standarize(csv[f])\n",
        "# plot(csv[f].sort_values(),small=True)"
      ],
      "execution_count": 0,
      "outputs": []
    },
    {
      "cell_type": "code",
      "metadata": {
        "id": "Mvzs6sWykAay",
        "colab_type": "code",
        "outputId": "e774282b-b5ce-4181-8410-7f5e853c3cc7",
        "colab": {}
      },
      "source": [
        "f = 'Var5'\n",
        "csv[f] = csv_org[f]\n",
        "csv[f] = csv[f].fillna(method='ffill')\n",
        "csv[f] = csv[f].fillna(csv[f].mode(dropna = True)[0])\n",
        "csv[f] = threshold_factorization(csv[f],1000,7,5,4,2,1)\n",
        "# plot(csv[f].sort_values(),small=True)\n",
        "binary_encoding(f)"
      ],
      "execution_count": 0,
      "outputs": [
        {
          "output_type": "display_data",
          "data": {
            "application/vnd.jupyter.widget-view+json": {
              "model_id": "",
              "version_major": 2,
              "version_minor": 0
            },
            "text/plain": [
              "HBox(children=(IntProgress(value=0, description='Progress', max=7, style=ProgressStyle(description_width='init…"
            ]
          },
          "metadata": {
            "tags": []
          }
        },
        {
          "output_type": "display_data",
          "data": {
            "application/vnd.jupyter.widget-view+json": {
              "model_id": "",
              "version_major": 2,
              "version_minor": 0
            },
            "text/plain": [
              "HBox(children=(IntProgress(value=0, max=1), HTML(value='')))"
            ]
          },
          "metadata": {
            "tags": []
          }
        },
        {
          "output_type": "display_data",
          "data": {
            "application/vnd.jupyter.widget-view+json": {
              "model_id": "",
              "version_major": 2,
              "version_minor": 0
            },
            "text/plain": [
              "HBox(children=(IntProgress(value=0, max=467), HTML(value='')))"
            ]
          },
          "metadata": {
            "tags": []
          }
        },
        {
          "output_type": "display_data",
          "data": {
            "application/vnd.jupyter.widget-view+json": {
              "model_id": "",
              "version_major": 2,
              "version_minor": 0
            },
            "text/plain": [
              "HBox(children=(IntProgress(value=0, max=36), HTML(value='')))"
            ]
          },
          "metadata": {
            "tags": []
          }
        },
        {
          "output_type": "display_data",
          "data": {
            "application/vnd.jupyter.widget-view+json": {
              "model_id": "",
              "version_major": 2,
              "version_minor": 0
            },
            "text/plain": [
              "HBox(children=(IntProgress(value=0, max=13), HTML(value='')))"
            ]
          },
          "metadata": {
            "tags": []
          }
        },
        {
          "output_type": "display_data",
          "data": {
            "application/vnd.jupyter.widget-view+json": {
              "model_id": "",
              "version_major": 2,
              "version_minor": 0
            },
            "text/plain": [
              "HBox(children=(IntProgress(value=0, max=28), HTML(value='')))"
            ]
          },
          "metadata": {
            "tags": []
          }
        },
        {
          "output_type": "display_data",
          "data": {
            "application/vnd.jupyter.widget-view+json": {
              "model_id": "",
              "version_major": 2,
              "version_minor": 0
            },
            "text/plain": [
              "HBox(children=(IntProgress(value=0, max=10), HTML(value='')))"
            ]
          },
          "metadata": {
            "tags": []
          }
        },
        {
          "output_type": "display_data",
          "data": {
            "application/vnd.jupyter.widget-view+json": {
              "model_id": "",
              "version_major": 2,
              "version_minor": 0
            },
            "text/plain": [
              "HBox(children=(IntProgress(value=0, max=16), HTML(value='')))"
            ]
          },
          "metadata": {
            "tags": []
          }
        },
        {
          "output_type": "stream",
          "text": [
            "\r"
          ],
          "name": "stdout"
        }
      ]
    },
    {
      "cell_type": "code",
      "metadata": {
        "id": "TdM_uvobkAaz",
        "colab_type": "code",
        "colab": {}
      },
      "source": [
        "f = 'Var4'\n",
        "csv[f] = csv_org[f]\n",
        "csv[f] = csv[f].fillna(7)\n",
        "csv[f] = standarize(csv[f])\n",
        "# # plot(csv[f].sort_values(),small=True)"
      ],
      "execution_count": 0,
      "outputs": []
    },
    {
      "cell_type": "code",
      "metadata": {
        "id": "5dewrMOtkAa0",
        "colab_type": "code",
        "outputId": "5a170b7c-cf8d-4123-8636-32524d40184b",
        "colab": {}
      },
      "source": [
        "f = 'Var3'\n",
        "csv[f] = csv_org[f]\n",
        "csv[f] = csv[f].fillna(csv[f].mode(dropna = True)[0])\n",
        "csv[f] = threshold_factorization(csv[f],1000,100,1)\n",
        "# plot(csv[f].sort_values(),sort=True,small=True)\n",
        "one_hot_encoding(f)"
      ],
      "execution_count": 0,
      "outputs": [
        {
          "output_type": "display_data",
          "data": {
            "application/vnd.jupyter.widget-view+json": {
              "model_id": "",
              "version_major": 2,
              "version_minor": 0
            },
            "text/plain": [
              "HBox(children=(IntProgress(value=0, description='Progress', max=4, style=ProgressStyle(description_width='init…"
            ]
          },
          "metadata": {
            "tags": []
          }
        },
        {
          "output_type": "display_data",
          "data": {
            "application/vnd.jupyter.widget-view+json": {
              "model_id": "",
              "version_major": 2,
              "version_minor": 0
            },
            "text/plain": [
              "HBox(children=(IntProgress(value=0, max=1), HTML(value='')))"
            ]
          },
          "metadata": {
            "tags": []
          }
        },
        {
          "output_type": "display_data",
          "data": {
            "application/vnd.jupyter.widget-view+json": {
              "model_id": "",
              "version_major": 2,
              "version_minor": 0
            },
            "text/plain": [
              "HBox(children=(IntProgress(value=1, bar_style='info', max=1), HTML(value='')))"
            ]
          },
          "metadata": {
            "tags": []
          }
        },
        {
          "output_type": "display_data",
          "data": {
            "application/vnd.jupyter.widget-view+json": {
              "model_id": "",
              "version_major": 2,
              "version_minor": 0
            },
            "text/plain": [
              "HBox(children=(IntProgress(value=0, max=41), HTML(value='')))"
            ]
          },
          "metadata": {
            "tags": []
          }
        },
        {
          "output_type": "display_data",
          "data": {
            "application/vnd.jupyter.widget-view+json": {
              "model_id": "",
              "version_major": 2,
              "version_minor": 0
            },
            "text/plain": [
              "HBox(children=(IntProgress(value=0, max=104), HTML(value='')))"
            ]
          },
          "metadata": {
            "tags": []
          }
        },
        {
          "output_type": "stream",
          "text": [
            "\r"
          ],
          "name": "stdout"
        }
      ]
    },
    {
      "cell_type": "code",
      "metadata": {
        "id": "d9LrfA3gkAa1",
        "colab_type": "code",
        "colab": {}
      },
      "source": [
        "f = 'Var2'\n",
        "csv[f] = csv_org[f]\n",
        "csv[f] = csv[f].fillna(csv[f].mode(dropna = True)[0])\n",
        "# plot(csv[f].sort_values(),small=True)\n",
        "one_hot_encoding(f)"
      ],
      "execution_count": 0,
      "outputs": []
    },
    {
      "cell_type": "code",
      "metadata": {
        "scrolled": true,
        "id": "_EsMp0TDkAa2",
        "colab_type": "code",
        "colab": {}
      },
      "source": [
        "f = 'Var1'\n",
        "csv[f] = csv_org[f]\n",
        "csv[f] = csv[f].fillna(csv[f].mode(dropna = True)[0])\n",
        "csv[f] = cast(csv[f],-100,64)\n",
        "csv[f] = standarize(csv[f])\n",
        "# plot(csv[f].sort_values(),small=True)"
      ],
      "execution_count": 0,
      "outputs": []
    },
    {
      "cell_type": "markdown",
      "metadata": {
        "id": "Ku5_ff_PkAa2",
        "colab_type": "text"
      },
      "source": [
        "# Save Data"
      ]
    },
    {
      "cell_type": "code",
      "metadata": {
        "id": "Bo5iPrCskAa2",
        "colab_type": "code",
        "colab": {}
      },
      "source": [
        "csv.to_csv(\"data.csv\", sep=',')"
      ],
      "execution_count": 0,
      "outputs": []
    }
  ]
}